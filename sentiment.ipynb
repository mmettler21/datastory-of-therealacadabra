{
 "cells": [
  {
   "cell_type": "code",
   "execution_count": 2,
   "metadata": {},
   "outputs": [],
   "source": [
    "import seaborn as sns\n",
    "from IPython.display import display, HTML\n",
    "import matplotlib.pyplot as plt\n",
    "import scipy.stats as stats\n",
    "import pandas as pd\n",
    "import numpy as np\n",
    "import bz2\n",
    "import json\n",
    "from urllib.parse import urlparse\n",
    "import nltk\n",
    "from nltk.sentiment import SentimentIntensityAnalyzer\n",
    "import os\n",
    "import glob\n",
    "import pickle"
   ]
  },
  {
   "cell_type": "code",
   "execution_count": 3,
   "metadata": {},
   "outputs": [],
   "source": [
    "def read_yearly(y):\n",
    "    PATH = 'Fox_NY_' + str(y) + '/'\n",
    "    nb = 1\n",
    "    df2 = []\n",
    "    dirs = glob.glob(os.path.join(PATH, \"*.pkl\"))\n",
    "\n",
    "    for files in dirs:\n",
    "        df1 = pd.read_pickle(PATH + str(nb)+ '_' + str(y) + '_' + 'FoxNYtimes.pkl')\n",
    "        df2.append(df1)\n",
    "        nb += 1\n",
    "    return df2"
   ]
  },
  {
   "cell_type": "code",
   "execution_count": 19,
   "metadata": {},
   "outputs": [],
   "source": [
    "years = [2015, 2016, 2017, 2018, 2019, 2020]\n",
    "df_foxNy = pd.DataFrame()\n",
    "\n",
    "for y in years:\n",
    "  df_foxNy = df_foxNy.append(pd.concat(read_yearly(y)))"
   ]
  },
  {
   "cell_type": "code",
   "execution_count": 6,
   "metadata": {},
   "outputs": [],
   "source": [
    "#The chosen key words are selected here\n",
    "words_immigration = 'immigration|mexic|migrant|border|refugees'\n",
    "words_terrorism = 'shoot|gun|kill|attack|massacre|victim|terroris|arm|violen|death'\n",
    "words_ClimateChange = 'flood|greenhouse effect|CO2|global warming|pollution|glacier|ice pake melting|high temperatures|heat'\n",
    "words_abortion = 'abort|fetus'\n",
    "words_religion = 'God|Christian|Christianism|Belief|faith|prayer|commitment|islam|buddhism|hinduism|baptism|church|vatican|reincarnation|jesus'\n",
    "words_racism = 'White|Black|Black lives matter|All lives matter|discrimination|Segregation|George Floyd|Slaver|White supremacy|Klu Klux Klan|KKK|Gunshot|Trials|Police|Death sentence'"
   ]
  },
  {
   "cell_type": "code",
   "execution_count": null,
   "metadata": {},
   "outputs": [],
   "source": [
    "#def words_detection()\n",
    "lista = [words_immigration, words_terrorism, words_ClimateChange, words_abortion, words_religion, words_racism]\n",
    "lista2 = ['immigration', 'terrorism', 'climate change', 'abortion', 'religion', 'racism']\n",
    "count = 0\n",
    "for l in lista:\n",
    "  df_fox = pd.DataFrame()\n",
    "  df_fox = df_foxNy[df_foxNy['urls'].str.contains('foxnews')]\n",
    "  df_fox_word = df_fox[df_fox['quotation'].str.contains([l for l in lista][count])]\n",
    "  count_fox = len(df_fox_word)\n",
    "  n = len(df_fox)\n",
    "  if n == 0:\n",
    "    print('The number of quotations related to', [l for l in lista2][count],'in Fox news is: {:.1%}'.format(n))\n",
    "  else:\n",
    "    percent_fox = count_fox/n\n",
    "    print('The number of quotations related to', [l for l in lista2][count],'in Fox news is: {:.1%}\\n'.format(percent_fox))\n",
    "\n",
    "  df_ny = pd.DataFrame()\n",
    "  df_ny = df_foxNy[df_foxNy['urls'].str.contains('nytimes')]\n",
    "  df_ny_word = df_ny[df_ny['quotation'].str.contains([l for l in lista2][count])]\n",
    "  count_ny = len(df_ny_word)\n",
    "  m = len(df_ny)\n",
    "  if m == 0:\n",
    "    print('The number of quotations related to', [l for l in lista2][count],'in the New York times is: {:.1%}'.format(m))\n",
    "  else:\n",
    "    percent_ny = count_ny/m\n",
    "    print('The number of quotations related to', [l for l in lista2][count],'in the New York times is: {:.1%}\\n'.format(percent_ny))\n",
    "  count += 1"
   ]
  },
  {
   "cell_type": "markdown",
   "metadata": {},
   "source": [
    "## ALL YEARS"
   ]
  },
  {
   "cell_type": "code",
   "execution_count": 20,
   "metadata": {},
   "outputs": [],
   "source": [
    "sia = SentimentIntensityAnalyzer()\n",
    "from collections import namedtuple\n",
    "import text2emotion as te\n",
    "df_fox = df_foxNy[df_foxNy['urls'].str.contains('foxnews')]\n",
    "df_ny = df_foxNy[df_foxNy['urls'].str.contains('nytimes')]"
   ]
  },
  {
   "cell_type": "code",
   "execution_count": 24,
   "metadata": {},
   "outputs": [
    {
     "name": "stdout",
     "output_type": "stream",
     "text": [
      "Mean of positif and negatif feelings found respectively are: 0.11145302076188893 0.07574319832250949\n",
      "101892.91499999638 69246.17399999959 914223\n"
     ]
    }
   ],
   "source": [
    "pos=0\n",
    "neg=0\n",
    "length=0\n",
    "pos,neg,length=fon_nltk(df_ny)\n",
    "print(pos,neg,length)"
   ]
  },
  {
   "cell_type": "code",
   "execution_count": 25,
   "metadata": {},
   "outputs": [
    {
     "name": "stdout",
     "output_type": "stream",
     "text": [
      "Mean of positif and negatif feelings found respectively are: 0.11496761055720493 0.0868546198788612\n",
      "83669.74799999592 63210.01299999906 727768\n"
     ]
    }
   ],
   "source": [
    "pos=0\n",
    "neg=0\n",
    "length=0\n",
    "pos,neg,length=fon_nltk(df_fox)\n",
    "print(pos,neg,length)"
   ]
  },
  {
   "cell_type": "code",
   "execution_count": 11,
   "metadata": {},
   "outputs": [],
   "source": [
    "def fon_text2 (df):\n",
    "    Desc = namedtuple(\"Desc\", [\"fear\", \"happy\", \"angry\",\"surprise\",\"sad\",\"length\"])\n",
    "    df_quotes=df['quotation']\n",
    "    dfsize=len(df_quotes)\n",
    "    fear=0\n",
    "    happy=0\n",
    "    angry=0\n",
    "    surprise=0\n",
    "    sad=0\n",
    "    average_fear=0\n",
    "    average_happy=0\n",
    "    average_angry=0\n",
    "    average_surprise=0\n",
    "    average_sad=0\n",
    "\n",
    "    for quotation in df_quotes:\n",
    "        di=te.get_emotion(quotation)\n",
    "        fear+=di.get('Fear')\n",
    "        happy+=di.get('Happy')\n",
    "        angry+=di.get('Angry')\n",
    "        surprise+=di.get('Surprise')\n",
    "        sad+=di.get('Sad')\n",
    "    average_fear=fear/dfsize\n",
    "    average_happy=happy/dfsize\n",
    "    average_angry=angry/dfsize\n",
    "    average_surprise=surprise/dfsize\n",
    "    average_sad=sad/dfsize\n",
    "\n",
    "    print(\"fear{}, happy{}, angry{}, surprise{}, sad{}\".format(average_fear,average_happy,\n",
    "                                                               average_angry,average_surprise,average_sad))\n",
    "    return (Desc(fear,happy,angry,surprise,sad,dfsize,))"
   ]
  },
  {
   "cell_type": "code",
   "execution_count": 12,
   "metadata": {},
   "outputs": [],
   "source": [
    "def fon_nltk (df):\n",
    "    Desc = namedtuple(\"Desc\", [\"pos\", \"neg\", \"tot\"])\n",
    "    quotes=df['quotation']\n",
    "    length= len(df)\n",
    "    pos=0\n",
    "    neg=0\n",
    "    average_pos=0\n",
    "    average_neg=0\n",
    "    for quotation in quotes:\n",
    "        result=sia.polarity_scores(quotation)\n",
    "        pos+=result[\"pos\"]\n",
    "        neg+=result[\"neg\"]\n",
    "    average_pos=pos/length\n",
    "    average_neg=neg/length\n",
    "    print('Mean of positif and negatif feelings found respectively are:', average_pos,average_neg)\n",
    "    return (Desc(pos, neg, length,))\n",
    "    "
   ]
  },
  {
   "cell_type": "markdown",
   "metadata": {},
   "source": [
    "## 2015"
   ]
  },
  {
   "cell_type": "code",
   "execution_count": 28,
   "metadata": {},
   "outputs": [],
   "source": [
    "years = [2015]\n",
    "df_foxNy1 = pd.DataFrame()\n",
    "\n",
    "for y in years:\n",
    "  df_foxNy1 = df_foxNy1.append(pd.concat(read_yearly(y)))"
   ]
  },
  {
   "cell_type": "code",
   "execution_count": 29,
   "metadata": {},
   "outputs": [],
   "source": [
    "sia = SentimentIntensityAnalyzer()\n",
    "from collections import namedtuple\n",
    "import text2emotion as te\n",
    "df_fox1 = df_foxNy1[df_foxNy1['urls'].str.contains('foxnews')]\n",
    "df_ny1 = df_foxNy1[df_foxNy1['urls'].str.contains('nytimes')]"
   ]
  },
  {
   "cell_type": "code",
   "execution_count": 30,
   "metadata": {},
   "outputs": [
    {
     "name": "stdout",
     "output_type": "stream",
     "text": [
      "Mean of positif and negatif feelings found respectively are: 0.11111932454553282 0.08762264150943382\n",
      "1289.7619999999995 1017.0359999999984 11607\n"
     ]
    }
   ],
   "source": [
    "pos=0\n",
    "neg=0\n",
    "length=0\n",
    "pos,neg,length=fon_nltk(df_ny1)\n",
    "print(pos,neg,length)"
   ]
  },
  {
   "cell_type": "code",
   "execution_count": 31,
   "metadata": {},
   "outputs": [
    {
     "name": "stdout",
     "output_type": "stream",
     "text": [
      "Mean of positif and negatif feelings found respectively are: 0.1170303760807516 0.08460186549682747\n",
      "13738.780999999835 9931.836000000061 117395\n"
     ]
    }
   ],
   "source": [
    "pos=0\n",
    "neg=0\n",
    "length=0\n",
    "pos,neg,length=fon_nltk(df_fox1)\n",
    "print(pos,neg,length)"
   ]
  },
  {
   "cell_type": "code",
   "execution_count": 32,
   "metadata": {},
   "outputs": [
    {
     "name": "stdout",
     "output_type": "stream",
     "text": [
      "fear0.28850952011716924, happy0.09200137847850502, angry0.04556991470664246, surprise0.1587412768157147, sad0.17536831222538113\n",
      "3348.7299999999836 1067.8600000000079 528.929999999999 1842.5100000000007 2035.4999999999986 11607\n"
     ]
    }
   ],
   "source": [
    "fear=0\n",
    "happy=0\n",
    "angry=0\n",
    "surprise=0\n",
    "sad=0\n",
    "tot=0\n",
    "\n",
    "fear,happy,angry,surprise,sad,tot = fon_text2(df_ny1)\n",
    "print(fear,happy,angry,surprise,sad,tot)"
   ]
  },
  {
   "cell_type": "code",
   "execution_count": 33,
   "metadata": {},
   "outputs": [
    {
     "name": "stdout",
     "output_type": "stream",
     "text": [
      "fear0.3453386430427476, happy0.10540082627028634, angry0.04623876655734708, surprise0.18508028450959127, sad0.19682661101413393\n",
      "40541.03000000335 12373.530000000264 5428.199999999761 21727.500000003467 23106.460000004252 117395\n"
     ]
    }
   ],
   "source": [
    "fear=0\n",
    "happy=0\n",
    "angry=0\n",
    "surprise=0\n",
    "sad=0\n",
    "tot=0\n",
    "\n",
    "fear,happy,angry,surprise,sad,tot = fon_text2(df_fox1)\n",
    "print(fear,happy,angry,surprise,sad,tot)"
   ]
  },
  {
   "cell_type": "markdown",
   "metadata": {},
   "source": [
    "## 2016"
   ]
  },
  {
   "cell_type": "code",
   "execution_count": 34,
   "metadata": {},
   "outputs": [],
   "source": [
    "years = [2016]\n",
    "df_foxNy2 = pd.DataFrame()\n",
    "\n",
    "for y in years:\n",
    "  df_foxNy2 = df_foxNy2.append(pd.concat(read_yearly(y)))"
   ]
  },
  {
   "cell_type": "code",
   "execution_count": 35,
   "metadata": {},
   "outputs": [],
   "source": [
    "sia = SentimentIntensityAnalyzer()\n",
    "from collections import namedtuple\n",
    "import text2emotion as te\n",
    "df_fox2 = df_foxNy2[df_foxNy2['urls'].str.contains('foxnews')]\n",
    "df_ny2 = df_foxNy2[df_foxNy2['urls'].str.contains('nytimes')]"
   ]
  },
  {
   "cell_type": "code",
   "execution_count": 36,
   "metadata": {},
   "outputs": [
    {
     "name": "stdout",
     "output_type": "stream",
     "text": [
      "Mean of positif and negatif feelings found respectively are: 0.11859536287686784 0.07555322827908305\n",
      "19958.887999999595 12715.155000000002 168294\n"
     ]
    }
   ],
   "source": [
    "pos=0\n",
    "neg=0\n",
    "length=0\n",
    "pos,neg,length=fon_nltk(df_ny2)\n",
    "print(pos,neg,length)"
   ]
  },
  {
   "cell_type": "code",
   "execution_count": 37,
   "metadata": {},
   "outputs": [
    {
     "name": "stdout",
     "output_type": "stream",
     "text": [
      "Mean of positif and negatif feelings found respectively are: 0.11577186587975913 0.08982915883001527\n",
      "8925.43200000003 6925.379000000027 77095\n"
     ]
    }
   ],
   "source": [
    "pos=0\n",
    "neg=0\n",
    "length=0\n",
    "pos,neg,length=fon_nltk(df_fox2)\n",
    "print(pos,neg,length)"
   ]
  },
  {
   "cell_type": "code",
   "execution_count": 38,
   "metadata": {},
   "outputs": [
    {
     "name": "stdout",
     "output_type": "stream",
     "text": [
      "fear0.3391442356828181, happy0.1048020131436742, angry0.047251060643870996, surprise0.18007510665863127, sad0.1919055343625344\n",
      "57075.94000000419 17637.550000001505 7952.069999999625 30305.560000007692 32296.550000008367 168294\n"
     ]
    }
   ],
   "source": [
    "fear=0\n",
    "happy=0\n",
    "angry=0\n",
    "surprise=0\n",
    "sad=0\n",
    "tot=0\n",
    "\n",
    "fear,happy,angry,surprise,sad,tot = fon_text2(df_ny2)\n",
    "print(fear,happy,angry,surprise,sad,tot)"
   ]
  },
  {
   "cell_type": "code",
   "execution_count": 39,
   "metadata": {},
   "outputs": [
    {
     "name": "stdout",
     "output_type": "stream",
     "text": [
      "fear0.3409877423957702, happy0.10286516635319636, angry0.04630053829690464, surprise0.18898839094623937, sad0.19974343342629722\n",
      "26288.450000001903 7930.389999999673 3569.5399999998635 14570.060000000323 15399.220000000383 77095\n"
     ]
    }
   ],
   "source": [
    "fear=0\n",
    "happy=0\n",
    "angry=0\n",
    "surprise=0\n",
    "sad=0\n",
    "tot=0\n",
    "\n",
    "fear,happy,angry,surprise,sad,tot = fon_text2(df_fox2)\n",
    "print(fear,happy,angry,surprise,sad,tot)"
   ]
  },
  {
   "cell_type": "markdown",
   "metadata": {},
   "source": [
    "## 2017"
   ]
  },
  {
   "cell_type": "code",
   "execution_count": 40,
   "metadata": {},
   "outputs": [],
   "source": [
    "years = [2017]\n",
    "df_foxNy3 = pd.DataFrame()\n",
    "\n",
    "for y in years:\n",
    "  df_foxNy3 = df_foxNy3.append(pd.concat(read_yearly(y)))"
   ]
  },
  {
   "cell_type": "code",
   "execution_count": 42,
   "metadata": {},
   "outputs": [],
   "source": [
    "sia = SentimentIntensityAnalyzer()\n",
    "from collections import namedtuple\n",
    "import text2emotion as te\n",
    "df_fox3 = df_foxNy3[df_foxNy3['urls'].str.contains('foxnews')]\n",
    "df_ny3 = df_foxNy3[df_foxNy3['urls'].str.contains('nytimes')]"
   ]
  },
  {
   "cell_type": "code",
   "execution_count": 43,
   "metadata": {},
   "outputs": [
    {
     "name": "stdout",
     "output_type": "stream",
     "text": [
      "Mean of positif and negatif feelings found respectively are: 0.11057157774211553 0.07493777566340601\n",
      "27425.95299999885 18587.4159999999 248038\n"
     ]
    }
   ],
   "source": [
    "pos=0\n",
    "neg=0\n",
    "length=0\n",
    "pos,neg,length=fon_nltk(df_ny3)\n",
    "print(pos,neg,length)"
   ]
  },
  {
   "cell_type": "code",
   "execution_count": 44,
   "metadata": {},
   "outputs": [
    {
     "name": "stdout",
     "output_type": "stream",
     "text": [
      "Mean of positif and negatif feelings found respectively are: 0.11459294820426734 0.09031551686457373\n",
      "15730.173999999777 12397.611000000035 137270\n"
     ]
    }
   ],
   "source": [
    "pos=0\n",
    "neg=0\n",
    "length=0\n",
    "pos,neg,length=fon_nltk(df_fox3)\n",
    "print(pos,neg,length)"
   ]
  },
  {
   "cell_type": "code",
   "execution_count": 45,
   "metadata": {},
   "outputs": [
    {
     "name": "stdout",
     "output_type": "stream",
     "text": [
      "fear0.3396533595658813, happy0.09708322918264674, angry0.04657504092115008, surprise0.1790039832606699, sad0.1896396923052509\n",
      "84246.94000000205 24080.33000000533 11552.380000000223 44399.79000001004 47037.85000000982 248038\n"
     ]
    }
   ],
   "source": [
    "fear=0\n",
    "happy=0\n",
    "angry=0\n",
    "surprise=0\n",
    "sad=0\n",
    "tot=0\n",
    "\n",
    "fear,happy,angry,surprise,sad,tot = fon_text2(df_ny3)\n",
    "print(fear,happy,angry,surprise,sad,tot)"
   ]
  },
  {
   "cell_type": "code",
   "execution_count": 46,
   "metadata": {},
   "outputs": [
    {
     "name": "stdout",
     "output_type": "stream",
     "text": [
      "fear0.3400061193269057, happy0.10251577183653081, angry0.0471811757849472, surprise0.19248306257744463, sad0.2006994973410505\n",
      "46672.64000000435 14072.340000000584 6476.559999999703 26422.150000005826 27550.020000006003 137270\n"
     ]
    }
   ],
   "source": [
    "fear=0\n",
    "happy=0\n",
    "angry=0\n",
    "surprise=0\n",
    "sad=0\n",
    "tot=0\n",
    "\n",
    "fear,happy,angry,surprise,sad,tot = fon_text2(df_fox3)\n",
    "print(fear,happy,angry,surprise,sad,tot)"
   ]
  },
  {
   "cell_type": "markdown",
   "metadata": {},
   "source": [
    "## Subject 1"
   ]
  },
  {
   "cell_type": "code",
   "execution_count": 4,
   "metadata": {},
   "outputs": [],
   "source": [
    "years = [2015, 2016, 2017, 2018, 2019, 2020]\n",
    "df_foxNy = pd.DataFrame()\n",
    "\n",
    "for y in years:\n",
    "  df_foxNy = df_foxNy.append(pd.concat(read_yearly(y)))"
   ]
  },
  {
   "cell_type": "code",
   "execution_count": 13,
   "metadata": {},
   "outputs": [
    {
     "name": "stdout",
     "output_type": "stream",
     "text": [
      "The number of quotations related to immigration in Fox news is: 1.2%\n",
      "\n",
      "Mean of positif and negatif feelings found respectively are: 0.10261344339622662 0.1022117924528303\n",
      "870.1620000000017 866.7560000000009 8480\n",
      "fear0.4692747641509427, happy0.08247169811320784, angry0.05069339622641495, surprise0.17463679245283167, sad0.17559316037735898\n",
      "3979.4499999999944 699.3600000000025 429.8799999999988 1480.9200000000126 1489.030000000004 8480\n",
      "The number of quotations related to immigration in the New York times is: 0.2%\n",
      "\n",
      "Mean of positif and negatif feelings found respectively are: 0.0988447075208913 0.09984610027855159\n",
      "141.94099999999992 143.37900000000008 1436\n",
      "fear0.6447423398328687, happy0.05451949860724238, angry0.027305013927576616, surprise0.14094707520891392, sad0.12846796657381626\n",
      "925.8499999999995 78.29000000000006 39.21000000000002 202.4000000000004 184.48000000000013 1436\n",
      "The number of quotations related to terrorism in Fox news is: 5.7%\n",
      "\n",
      "Mean of positif and negatif feelings found respectively are: 0.08895667601716692 0.20619051044139086\n",
      "3710.294000000015 8599.99999999997 41709\n",
      "fear0.39615382771104984, happy0.07763144645040321, angry0.04392025701886837, surprise0.21576973794624305, sad0.20888273514109196\n",
      "16523.18000000018 3237.9299999998675 1831.8699999999808 8999.539999999852 8712.289999999804 41709\n",
      "The number of quotations related to terrorism in the New York times is: 0.1%\n",
      "\n",
      "Mean of positif and negatif feelings found respectively are: 0.08995673876871875 0.30047420965058264\n",
      "108.12799999999994 361.17000000000036 1202\n",
      "fear0.6391930116472545, happy0.054658901830282866, angry0.02556572379367721, surprise0.09948419301164736, sad0.1688685524126456\n",
      "768.31 65.7 30.730000000000004 119.58000000000013 202.98 1202\n",
      "The number of quotations related to climate change in Fox news is: 0.4%\n",
      "\n",
      "Mean of positif and negatif feelings found respectively are: 0.08722048997772831 0.10366815144766163\n",
      "234.9720000000001 279.28200000000044 2694\n",
      "fear0.3716963622865631, happy0.08586117297698581, angry0.04812917594654793, surprise0.23804751299183424, sad0.19731625835189295\n",
      "1001.350000000001 231.30999999999977 129.6600000000001 641.3000000000014 531.5699999999996 2694\n",
      "The number of quotations related to climate change in the New York times is: 0.1%\n",
      "\n",
      "Mean of positif and negatif feelings found respectively are: 0.08967952522255195 0.08753907022749756\n",
      "90.66600000000001 88.50200000000004 1011\n",
      "fear0.40724035608308573, happy0.0730069238377844, angry0.0472700296735905, surprise0.17119683481701303, sad0.21258160237388726\n",
      "411.7199999999997 73.81000000000003 47.79 173.08000000000018 214.92000000000002 1011\n",
      "The number of quotations related to abortion in Fox news is: 0.2%\n",
      "\n",
      "Mean of positif and negatif feelings found respectively are: 0.08928219852337978 0.08982854799015579\n",
      "108.83499999999995 109.5009999999999 1219\n",
      "fear0.40621000820344566, happy0.06651353568498779, angry0.04226415094339624, surprise0.19200164068908934, sad0.20716160787530796\n",
      "495.17000000000024 81.08000000000011 51.520000000000024 234.0499999999999 252.5300000000004 1219\n",
      "The number of quotations related to abortion in the New York times is: 0.1%\n",
      "\n",
      "Mean of positif and negatif feelings found respectively are: 0.08970309951060358 0.08751549755301796\n",
      "54.98799999999999 53.64700000000001 613\n",
      "fear0.4014681892332792, happy0.07220228384991839, angry0.0331321370309951, surprise0.1949265905383361, sad0.19972267536704735\n",
      "246.10000000000014 44.25999999999998 20.31 119.49000000000004 122.43000000000004 613\n",
      "The number of quotations related to religion in Fox news is: 1.8%\n",
      "\n",
      "Mean of positif and negatif feelings found respectively are: 0.20246376370280175 0.06923408952496947\n",
      "2659.564000000004 909.4589999999989 13136\n",
      "fear0.2912994823386056, happy0.11442981120584665, angry0.03757688794153457, surprise0.360182704019483, sad0.16704476248477482\n",
      "3826.509999999923 1503.1500000000017 493.60999999999814 4731.359999999929 2194.300000000002 13136\n",
      "The number of quotations related to religion in the New York times is: 0.1%\n",
      "\n",
      "Mean of positif and negatif feelings found respectively are: 0.09729005847953213 0.07796959064327492\n",
      "83.18299999999998 66.66400000000006 855\n",
      "fear0.37777777777777766, happy0.09360233918128656, angry0.04501754385964911, surprise0.16805847953216385, sad0.1745847953216376\n",
      "322.9999999999999 80.03000000000002 38.48999999999999 143.69000000000008 149.27000000000015 855\n",
      "The number of quotations related to racism in Fox news is: 0.9%\n",
      "\n",
      "Mean of positif and negatif feelings found respectively are: 0.0855765779020155 0.07936295424451933\n",
      "581.6639999999994 539.4299999999979 6797\n",
      "fear0.5084007650434016, happy0.07946152714432808, angry0.03941591878770055, surprise0.18254376930999094, sad0.15822127409151185\n",
      "3455.6000000000004 540.099999999998 267.91000000000065 1240.7500000000084 1075.430000000006 6797\n",
      "The number of quotations related to racism in the New York times is: 0.1%\n",
      "\n",
      "Mean of positif and negatif feelings found respectively are: 0.0717518891687658 0.30145969773299686\n",
      "56.971000000000046 239.35899999999953 794\n",
      "fear0.4034886649874056, happy0.06709068010075567, angry0.04841309823677581, surprise0.1430604534005039, sad0.21394206549118402\n",
      "320.37000000000006 53.269999999999996 38.43999999999999 113.5900000000001 169.87000000000012 794\n"
     ]
    }
   ],
   "source": [
    "lista = [words_immigration, words_terrorism, words_ClimateChange, words_abortion, words_religion, words_racism]\n",
    "lista2 = ['immigration', 'terrorism', 'climate change', 'abortion', 'religion', 'racism']\n",
    "count = 0\n",
    "for l in lista:\n",
    "  df_fox4 = pd.DataFrame()\n",
    "  df_fox4 = df_foxNy[df_foxNy['urls'].str.contains('foxnews')]\n",
    "  df_fox_word = df_fox4[df_fox4['quotation'].str.contains([l for l in lista][count])]\n",
    "  count_fox = len(df_fox_word)\n",
    "  n = len(df_fox4)\n",
    "  if n == 0:\n",
    "    print('The number of quotations related to', [l for l in lista2][count],'in Fox news is: {:.1%}'.format(n))\n",
    "  else:\n",
    "    percent_fox = count_fox/n\n",
    "    print('The number of quotations related to', [l for l in lista2][count],'in Fox news is: {:.1%}\\n'.format(percent_fox))\n",
    "  pos=0\n",
    "  neg=0\n",
    "  length=0\n",
    "  pos,neg,length=fon_nltk(df_fox_word)\n",
    "  print(pos,neg,length)\n",
    "  fear=0\n",
    "  happy=0\n",
    "  angry=0\n",
    "  surprise=0\n",
    "  sad=0\n",
    "  tot=0\n",
    "  fear,happy,angry,surprise,sad,tot = fon_text2(df_fox_word)\n",
    "  print(fear,happy,angry,surprise,sad,tot)\n",
    "\n",
    "  df_ny4 = pd.DataFrame()\n",
    "  df_ny4 = df_foxNy[df_foxNy['urls'].str.contains('nytimes')]\n",
    "  df_ny_word = df_ny4[df_ny4['quotation'].str.contains([l for l in lista2][count])]\n",
    "  count_ny = len(df_ny_word)\n",
    "  m = len(df_ny4)\n",
    "  if m == 0:\n",
    "    print('The number of quotations related to', [l for l in lista2][count],'in the New York times is: {:.1%}'.format(m))\n",
    "  else:\n",
    "    percent_ny = count_ny/m\n",
    "    print('The number of quotations related to', [l for l in lista2][count],'in the New York times is: {:.1%}\\n'.format(percent_ny))\n",
    "  pos=0\n",
    "  neg=0\n",
    "  length=0\n",
    "  pos,neg,length=fon_nltk(df_ny_word)\n",
    "  print(pos,neg,length)\n",
    "  fear=0\n",
    "  happy=0\n",
    "  angry=0\n",
    "  surprise=0\n",
    "  sad=0\n",
    "  tot=0\n",
    "\n",
    "  fear,happy,angry,surprise,sad,tot = fon_text2(df_ny_word)\n",
    "  print(fear,happy,angry,surprise,sad,tot)\n",
    "  count += 1"
   ]
  },
  {
   "cell_type": "code",
   "execution_count": 10,
   "metadata": {},
   "outputs": [
    {
     "name": "stderr",
     "output_type": "stream",
     "text": [
      "[nltk_data] Downloading package stopwords to C:\\Users\\François\n",
      "[nltk_data]     CHARROIN\\AppData\\Roaming\\nltk_data...\n",
      "[nltk_data]   Package stopwords is already up-to-date!\n",
      "[nltk_data] Downloading package punkt to C:\\Users\\François\n",
      "[nltk_data]     CHARROIN\\AppData\\Roaming\\nltk_data...\n",
      "[nltk_data]   Package punkt is already up-to-date!\n",
      "[nltk_data] Downloading package wordnet to C:\\Users\\François\n",
      "[nltk_data]     CHARROIN\\AppData\\Roaming\\nltk_data...\n",
      "[nltk_data]   Package wordnet is already up-to-date!\n"
     ]
    }
   ],
   "source": [
    "sia = SentimentIntensityAnalyzer()\n",
    "from collections import namedtuple\n",
    "import text2emotion as te"
   ]
  },
  {
   "cell_type": "code",
   "execution_count": null,
   "metadata": {},
   "outputs": [],
   "source": []
  }
 ],
 "metadata": {
  "kernelspec": {
   "display_name": "Python 3",
   "language": "python",
   "name": "python3"
  },
  "language_info": {
   "codemirror_mode": {
    "name": "ipython",
    "version": 3
   },
   "file_extension": ".py",
   "mimetype": "text/x-python",
   "name": "python",
   "nbconvert_exporter": "python",
   "pygments_lexer": "ipython3",
   "version": "3.7.4"
  }
 },
 "nbformat": 4,
 "nbformat_minor": 2
}
