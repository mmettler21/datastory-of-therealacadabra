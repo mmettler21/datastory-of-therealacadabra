{
 "cells": [
  {
   "cell_type": "code",
   "execution_count": 1,
   "metadata": {},
   "outputs": [],
   "source": [
    "import seaborn as sns\n",
    "from IPython.display import display, HTML\n",
    "import matplotlib.pyplot as plt\n",
    "import scipy.stats as stats\n",
    "import pandas as pd\n",
    "import numpy as np\n",
    "import bz2\n",
    "import json\n",
    "from urllib.parse import urlparse\n",
    "import nltk\n",
    "from nltk.sentiment import SentimentIntensityAnalyzer\n",
    "import os\n",
    "import glob\n",
    "import pickle"
   ]
  },
  {
   "cell_type": "code",
   "execution_count": 2,
   "metadata": {},
   "outputs": [],
   "source": [
    "from scipy import stats"
   ]
  },
  {
   "cell_type": "code",
   "execution_count": 3,
   "metadata": {},
   "outputs": [],
   "source": [
    "years = [2015, 2016, 2017, 2018, 2019, 2020]\n",
    "PATH = 'data/'\n",
    "df_fox = pd.DataFrame(columns=['quotation'])\n",
    "df_ny = pd.DataFrame(columns=['quotation'])\n",
    "\n",
    "for y in years:\n",
    "    df_yfox = pd.read_pickle(PATH+str(y)+'_'+'Fox_quotations.pkl')\n",
    "    df_yfox = df_yfox.to_frame()\n",
    "    df_fox = df_fox.append(df_yfox)\n",
    "    df_yNy = pd.read_pickle(PATH+str(y)+'_'+'NY_quotations.pkl')\n",
    "    df_yNy = df_yNy.to_frame()\n",
    "    df_ny = df_ny.append(df_yNy)"
   ]
  },
  {
   "cell_type": "code",
   "execution_count": 4,
   "metadata": {},
   "outputs": [
    {
     "data": {
      "text/html": [
       "<div>\n",
       "<style scoped>\n",
       "    .dataframe tbody tr th:only-of-type {\n",
       "        vertical-align: middle;\n",
       "    }\n",
       "\n",
       "    .dataframe tbody tr th {\n",
       "        vertical-align: top;\n",
       "    }\n",
       "\n",
       "    .dataframe thead th {\n",
       "        text-align: right;\n",
       "    }\n",
       "</style>\n",
       "<table border=\"1\" class=\"dataframe\">\n",
       "  <thead>\n",
       "    <tr style=\"text-align: right;\">\n",
       "      <th></th>\n",
       "      <th>quotation</th>\n",
       "    </tr>\n",
       "  </thead>\n",
       "  <tbody>\n",
       "    <tr>\n",
       "      <td>190</td>\n",
       "      <td>a good, strong, honorable man.</td>\n",
       "    </tr>\n",
       "    <tr>\n",
       "      <td>555</td>\n",
       "      <td>I don't know any other way he could have taken...</td>\n",
       "    </tr>\n",
       "    <tr>\n",
       "      <td>594</td>\n",
       "      <td>Alcohol interlocks are used very effectively i...</td>\n",
       "    </tr>\n",
       "    <tr>\n",
       "      <td>643</td>\n",
       "      <td>I don't think, in effect, Obama was negotiatin...</td>\n",
       "    </tr>\n",
       "    <tr>\n",
       "      <td>771</td>\n",
       "      <td>I felt like a hole in my heart had been filled,</td>\n",
       "    </tr>\n",
       "    <tr>\n",
       "      <td>...</td>\n",
       "      <td>...</td>\n",
       "    </tr>\n",
       "    <tr>\n",
       "      <td>5243875</td>\n",
       "      <td>They've known each other for over 35 years, an...</td>\n",
       "    </tr>\n",
       "    <tr>\n",
       "      <td>5243940</td>\n",
       "      <td>This time, the best thing is to ring her, vide...</td>\n",
       "    </tr>\n",
       "    <tr>\n",
       "      <td>5243947</td>\n",
       "      <td>This was their first day of school and they sh...</td>\n",
       "    </tr>\n",
       "    <tr>\n",
       "      <td>5244043</td>\n",
       "      <td>was aimed at deterring future Iranian attack p...</td>\n",
       "    </tr>\n",
       "    <tr>\n",
       "      <td>5244208</td>\n",
       "      <td>We shouldn't have to be there, this president ...</td>\n",
       "    </tr>\n",
       "  </tbody>\n",
       "</table>\n",
       "<p>708383 rows × 1 columns</p>\n",
       "</div>"
      ],
      "text/plain": [
       "                                                 quotation\n",
       "190                         a good, strong, honorable man.\n",
       "555      I don't know any other way he could have taken...\n",
       "594      Alcohol interlocks are used very effectively i...\n",
       "643      I don't think, in effect, Obama was negotiatin...\n",
       "771        I felt like a hole in my heart had been filled,\n",
       "...                                                    ...\n",
       "5243875  They've known each other for over 35 years, an...\n",
       "5243940  This time, the best thing is to ring her, vide...\n",
       "5243947  This was their first day of school and they sh...\n",
       "5244043  was aimed at deterring future Iranian attack p...\n",
       "5244208  We shouldn't have to be there, this president ...\n",
       "\n",
       "[708383 rows x 1 columns]"
      ]
     },
     "execution_count": 4,
     "metadata": {},
     "output_type": "execute_result"
    }
   ],
   "source": [
    "df_fox"
   ]
  },
  {
   "cell_type": "code",
   "execution_count": 5,
   "metadata": {},
   "outputs": [],
   "source": [
    "#The chosen key words are selected here\n",
    "words_immigration = 'immigration|mexic|migrant|border|refugees'\n",
    "words_terrorism = 'shoot|gun|kill|attack|massacre|victim|terroris|arm|violen|death'\n",
    "words_ClimateChange = 'flood|greenhouse effect|CO2|global warming|pollution|glacier|ice pake melting|high temperatures|heat'\n",
    "words_abortion = 'abort|fetus'\n",
    "words_religion = 'God|Christian|Christianism|Belief|faith|prayer|commitment|islam|buddhism|hinduism|baptism|church|vatican|reincarnation|jesus'\n",
    "words_racism = 'White|Black|Black lives matter|All lives matter|discrimination|Segregation|George Floyd|Slaver|White supremacy|Klu Klux Klan|KKK|Gunshot|Trials|Police|Death sentence'"
   ]
  },
  {
   "cell_type": "code",
   "execution_count": 6,
   "metadata": {},
   "outputs": [],
   "source": [
    "sia = SentimentIntensityAnalyzer()\n",
    "from collections import namedtuple"
   ]
  },
  {
   "cell_type": "markdown",
   "metadata": {},
   "source": [
    "## Immigration"
   ]
  },
  {
   "cell_type": "code",
   "execution_count": 7,
   "metadata": {},
   "outputs": [],
   "source": [
    "df_immi_n = pd.DataFrame(columns=['emotion','value','journal'])\n",
    "\n",
    "lista = [words_immigration]\n",
    "lista2 = ['immigration']\n",
    "\n",
    "\n",
    "df_fox_word = df_fox[df_fox['quotation'].str.contains([l for l in lista][0])]\n",
    "count_fox = len(df_fox_word)\n",
    "n = len(df_fox)\n",
    "\n",
    "for quotation in df_fox_word['quotation']:\n",
    "    \n",
    "    result=sia.polarity_scores(quotation)\n",
    "    pos=result[\"pos\"]\n",
    "    neg=result[\"neg\"]\n",
    "    newr = pd.Series(data = {'emotion': \"positive\", 'value': pos, 'journal': \"foxnews\"}, name = 'x')\n",
    "    df_immi_n = df_immi_n.append(newr, ignore_index=True)\n",
    "    newr = pd.Series(data = {'emotion': \"negative\", 'value': neg, 'journal': \"foxnews\"}, name = 'x')\n",
    "    df_immi_n = df_immi_n.append(newr, ignore_index=True)\n",
    "    \n",
    "    \n",
    "\n",
    "\n",
    "df_ny_word = df_ny[df_ny['quotation'].str.contains([l for l in lista][0])]\n",
    "count_ny = len(df_ny_word)\n",
    "m = len(df_ny)\n",
    "\n",
    "\n",
    "for quotation in df_ny_word['quotation']:\n",
    "    \n",
    "    result=sia.polarity_scores(quotation)\n",
    "    pos=result[\"pos\"]\n",
    "    neg=result[\"neg\"]\n",
    "    result=sia.polarity_scores(quotation)\n",
    "    pos=result[\"pos\"]\n",
    "    neg=result[\"neg\"]\n",
    "    newr = pd.Series(data = {'emotion': \"positive\", 'value': pos, 'journal': \"nytimes\"}, name = 'x')\n",
    "    df_immi_n = df_immi_n.append(newr, ignore_index=True)\n",
    "    newr = pd.Series(data = {'emotion': \"negative\", 'value': neg, 'journal': \"nytimes\"}, name = 'x')\n",
    "    df_immi_n = df_immi_n.append(newr, ignore_index=True)\n",
    "    "
   ]
  },
  {
   "cell_type": "code",
   "execution_count": 8,
   "metadata": {},
   "outputs": [
    {
     "name": "stdout",
     "output_type": "stream",
     "text": [
      "Ttest_indResult(statistic=2.5850595850130467, pvalue=0.009746629473109369)\n",
      "Ttest_indResult(statistic=3.4538982768435593, pvalue=0.000554245735632421)\n"
     ]
    },
    {
     "name": "stderr",
     "output_type": "stream",
     "text": [
      "C:\\Users\\François CHARROIN\\Anaconda3\\lib\\site-packages\\ipykernel_launcher.py:1: UserWarning: Boolean Series key will be reindexed to match DataFrame index.\n",
      "  \"\"\"Entry point for launching an IPython kernel.\n",
      "C:\\Users\\François CHARROIN\\Anaconda3\\lib\\site-packages\\ipykernel_launcher.py:2: UserWarning: Boolean Series key will be reindexed to match DataFrame index.\n",
      "  \n",
      "C:\\Users\\François CHARROIN\\Anaconda3\\lib\\site-packages\\ipykernel_launcher.py:3: UserWarning: Boolean Series key will be reindexed to match DataFrame index.\n",
      "  This is separate from the ipykernel package so we can avoid doing imports until\n",
      "C:\\Users\\François CHARROIN\\Anaconda3\\lib\\site-packages\\ipykernel_launcher.py:4: UserWarning: Boolean Series key will be reindexed to match DataFrame index.\n",
      "  after removing the cwd from sys.path.\n"
     ]
    }
   ],
   "source": [
    "res = stats.ttest_ind(df_immi_n[df_immi_n['journal']==\"foxnews\"][df_immi_n['emotion']==\"positive\"]['value'],\n",
    "                      df_immi_n[df_immi_n['journal']==\"nytimes\"][df_immi_n['emotion']==\"positive\"]['value'],equal_var=True)\n",
    "res2 = stats.ttest_ind(df_immi_n[df_immi_n['journal']==\"foxnews\"][df_immi_n['emotion']==\"negative\"]['value'],\n",
    "                       df_immi_n[df_immi_n['journal']==\"nytimes\"][df_immi_n['emotion']==\"negative\"]['value'],equal_var=True) \n",
    "print(res)\n",
    "print(res2)"
   ]
  },
  {
   "cell_type": "code",
   "execution_count": 9,
   "metadata": {},
   "outputs": [
    {
     "data": {
      "text/plain": [
       "<matplotlib.axes._subplots.AxesSubplot at 0x2e21bf042c8>"
      ]
     },
     "execution_count": 9,
     "metadata": {},
     "output_type": "execute_result"
    },
    {
     "data": {
      "image/png": "[encoded data removed]",
      "text/plain": [
       "<Figure size 432x288 with 1 Axes>"
      ]
     },
     "metadata": {
      "needs_background": "light"
     },
     "output_type": "display_data"
    }
   ],
   "source": [
    "sns.violinplot(x = 'emotion', y = \"value\", hue=\"journal\",\n",
    "                    data=df_immi_n, palette=\"muted\", split=True)"
   ]
  },
  {
   "cell_type": "code",
   "execution_count": 10,
   "metadata": {},
   "outputs": [
    {
     "name": "stdout",
     "output_type": "stream",
     "text": [
      "0.10223149378094464\n",
      "0.09716091732511083\n",
      "0.10182441734090107\n",
      "0.09439680092503351\n"
     ]
    },
    {
     "name": "stderr",
     "output_type": "stream",
     "text": [
      "C:\\Users\\François CHARROIN\\Anaconda3\\lib\\site-packages\\ipykernel_launcher.py:1: UserWarning: Boolean Series key will be reindexed to match DataFrame index.\n",
      "  \"\"\"Entry point for launching an IPython kernel.\n",
      "C:\\Users\\François CHARROIN\\Anaconda3\\lib\\site-packages\\ipykernel_launcher.py:2: UserWarning: Boolean Series key will be reindexed to match DataFrame index.\n",
      "  \n",
      "C:\\Users\\François CHARROIN\\Anaconda3\\lib\\site-packages\\ipykernel_launcher.py:3: UserWarning: Boolean Series key will be reindexed to match DataFrame index.\n",
      "  This is separate from the ipykernel package so we can avoid doing imports until\n",
      "C:\\Users\\François CHARROIN\\Anaconda3\\lib\\site-packages\\ipykernel_launcher.py:4: UserWarning: Boolean Series key will be reindexed to match DataFrame index.\n",
      "  after removing the cwd from sys.path.\n"
     ]
    }
   ],
   "source": [
    "a = df_immi_n[df_immi_n['journal']==\"foxnews\"][df_immi_n['emotion']==\"positive\"]['value'].mean()\n",
    "b = df_immi_n[df_immi_n['journal']==\"nytimes\"][df_immi_n['emotion']==\"positive\"]['value'].mean()\n",
    "c = df_immi_n[df_immi_n['journal']==\"foxnews\"][df_immi_n['emotion']==\"negative\"]['value'].mean()\n",
    "d = df_immi_n[df_immi_n['journal']==\"nytimes\"][df_immi_n['emotion']==\"negative\"]['value'].mean()\n",
    "print(a)\n",
    "print(b)\n",
    "print(c)\n",
    "print(d)"
   ]
  },
  {
   "cell_type": "code",
   "execution_count": 11,
   "metadata": {},
   "outputs": [],
   "source": [
    "lst = [df_immi_n]\n",
    "del lst     "
   ]
  },
  {
   "cell_type": "markdown",
   "metadata": {},
   "source": [
    "## Terrorism"
   ]
  },
  {
   "cell_type": "code",
   "execution_count": 12,
   "metadata": {},
   "outputs": [],
   "source": [
    "df_te_n = pd.DataFrame(columns=['emotion','value','journal'])\n",
    "\n",
    "lista = [words_terrorism]\n",
    "lista2 = ['terrorism']\n",
    "\n",
    "\n",
    "df_fox_word = df_fox[df_fox['quotation'].str.contains([l for l in lista][0])]\n",
    "count_fox = len(df_fox_word)\n",
    "n = len(df_fox)\n",
    "\n",
    "for quotation in df_fox_word['quotation']:\n",
    "    \n",
    "    result=sia.polarity_scores(quotation)\n",
    "    pos=result[\"pos\"]\n",
    "    neg=result[\"neg\"]\n",
    "    newr = pd.Series(data = {'emotion': \"positive\", 'value': pos, 'journal': \"foxnews\"}, name = 'x')\n",
    "    df_te_n = df_te_n.append(newr, ignore_index=True)\n",
    "    newr = pd.Series(data = {'emotion': \"negative\", 'value': neg, 'journal': \"foxnews\"}, name = 'x')\n",
    "    df_te_n = df_te_n.append(newr, ignore_index=True)\n",
    "    \n",
    "    \n",
    "\n",
    "df_ny_word = df_ny[df_ny['quotation'].str.contains([l for l in lista][0])]\n",
    "count_ny = len(df_ny_word)\n",
    "m = len(df_ny)\n",
    "\n",
    "\n",
    "for quotation in df_ny_word['quotation']:\n",
    "    \n",
    "    \n",
    "    result=sia.polarity_scores(quotation)\n",
    "    pos=result[\"pos\"]\n",
    "    neg=result[\"neg\"]\n",
    "    newr = pd.Series(data = {'emotion': \"positive\", 'value': pos, 'journal': \"nytimes\"}, name = 'x')\n",
    "    df_te_n = df_te_n.append(newr, ignore_index=True)\n",
    "    newr = pd.Series(data = {'emotion': \"negative\", 'value': neg, 'journal': \"nytimes\"}, name = 'x')\n",
    "    df_te_n = df_te_n.append(newr, ignore_index=True)\n",
    "    "
   ]
  },
  {
   "cell_type": "code",
   "execution_count": 13,
   "metadata": {},
   "outputs": [
    {
     "name": "stdout",
     "output_type": "stream",
     "text": [
      "Ttest_indResult(statistic=-7.474035785153604, pvalue=7.864494703712389e-14)\n",
      "Ttest_indResult(statistic=3.9333214513927253, pvalue=8.385817936956226e-05)\n"
     ]
    },
    {
     "name": "stderr",
     "output_type": "stream",
     "text": [
      "C:\\Users\\François CHARROIN\\Anaconda3\\lib\\site-packages\\ipykernel_launcher.py:1: UserWarning: Boolean Series key will be reindexed to match DataFrame index.\n",
      "  \"\"\"Entry point for launching an IPython kernel.\n",
      "C:\\Users\\François CHARROIN\\Anaconda3\\lib\\site-packages\\ipykernel_launcher.py:2: UserWarning: Boolean Series key will be reindexed to match DataFrame index.\n",
      "  \n",
      "C:\\Users\\François CHARROIN\\Anaconda3\\lib\\site-packages\\ipykernel_launcher.py:3: UserWarning: Boolean Series key will be reindexed to match DataFrame index.\n",
      "  This is separate from the ipykernel package so we can avoid doing imports until\n",
      "C:\\Users\\François CHARROIN\\Anaconda3\\lib\\site-packages\\ipykernel_launcher.py:4: UserWarning: Boolean Series key will be reindexed to match DataFrame index.\n",
      "  after removing the cwd from sys.path.\n"
     ]
    }
   ],
   "source": [
    "res = stats.ttest_ind(df_te_n[df_te_n['journal']==\"foxnews\"][df_te_n['emotion']==\"positive\"]['value'],\n",
    "                      df_te_n[df_te_n['journal']==\"nytimes\"][df_te_n['emotion']==\"positive\"]['value'],equal_var=True)\n",
    "res2 = stats.ttest_ind(df_te_n[df_te_n['journal']==\"foxnews\"][df_te_n['emotion']==\"negative\"]['value'],\n",
    "                       df_te_n[df_te_n['journal']==\"nytimes\"][df_te_n['emotion']==\"negative\"]['value'],equal_var=True) \n",
    "print(res)\n",
    "print(res2)"
   ]
  },
  {
   "cell_type": "code",
   "execution_count": 14,
   "metadata": {},
   "outputs": [
    {
     "data": {
      "text/plain": [
       "<matplotlib.axes._subplots.AxesSubplot at 0x2e221846bc8>"
      ]
     },
     "execution_count": 14,
     "metadata": {},
     "output_type": "execute_result"
    },
    {
     "data": {
      "image/png": "[encoded data removed]",
      "text/plain": [
       "<Figure size 432x288 with 1 Axes>"
      ]
     },
     "metadata": {
      "needs_background": "light"
     },
     "output_type": "display_data"
    }
   ],
   "source": [
    "sns.violinplot(x = 'emotion', y = \"value\", hue=\"journal\",\n",
    "                    data=df_te_n, palette=\"muted\", split=True)"
   ]
  },
  {
   "cell_type": "code",
   "execution_count": 15,
   "metadata": {},
   "outputs": [
    {
     "name": "stdout",
     "output_type": "stream",
     "text": [
      "0.0889700900012332\n",
      "0.09517736454596941\n",
      "0.20444887190235428\n",
      "0.1996164810269968\n"
     ]
    },
    {
     "name": "stderr",
     "output_type": "stream",
     "text": [
      "C:\\Users\\François CHARROIN\\Anaconda3\\lib\\site-packages\\ipykernel_launcher.py:1: UserWarning: Boolean Series key will be reindexed to match DataFrame index.\n",
      "  \"\"\"Entry point for launching an IPython kernel.\n",
      "C:\\Users\\François CHARROIN\\Anaconda3\\lib\\site-packages\\ipykernel_launcher.py:2: UserWarning: Boolean Series key will be reindexed to match DataFrame index.\n",
      "  \n",
      "C:\\Users\\François CHARROIN\\Anaconda3\\lib\\site-packages\\ipykernel_launcher.py:3: UserWarning: Boolean Series key will be reindexed to match DataFrame index.\n",
      "  This is separate from the ipykernel package so we can avoid doing imports until\n",
      "C:\\Users\\François CHARROIN\\Anaconda3\\lib\\site-packages\\ipykernel_launcher.py:4: UserWarning: Boolean Series key will be reindexed to match DataFrame index.\n",
      "  after removing the cwd from sys.path.\n"
     ]
    }
   ],
   "source": [
    "a = df_te_n[df_te_n['journal']==\"foxnews\"][df_te_n['emotion']==\"positive\"]['value'].mean()\n",
    "b = df_te_n[df_te_n['journal']==\"nytimes\"][df_te_n['emotion']==\"positive\"]['value'].mean()\n",
    "c = df_te_n[df_te_n['journal']==\"foxnews\"][df_te_n['emotion']==\"negative\"]['value'].mean()\n",
    "d = df_te_n[df_te_n['journal']==\"nytimes\"][df_te_n['emotion']==\"negative\"]['value'].mean()\n",
    "\n",
    "print(a)\n",
    "print(b)\n",
    "print(c)\n",
    "print(d)"
   ]
  },
  {
   "cell_type": "code",
   "execution_count": 16,
   "metadata": {},
   "outputs": [],
   "source": [
    "lst = [df_te_n]\n",
    "del lst     "
   ]
  },
  {
   "cell_type": "markdown",
   "metadata": {},
   "source": [
    "## Climate change"
   ]
  },
  {
   "cell_type": "code",
   "execution_count": 17,
   "metadata": {},
   "outputs": [],
   "source": [
    "df_cc_n = pd.DataFrame(columns=['emotion','value','journal'])\n",
    "\n",
    "lista = [words_ClimateChange]\n",
    "lista2 = ['climate change']\n",
    "\n",
    "df_fox_word = df_fox[df_fox['quotation'].str.contains([l for l in lista][0])]\n",
    "count_fox = len(df_fox_word)\n",
    "n = len(df_fox)\n",
    "\n",
    "for quotation in df_fox_word['quotation']:\n",
    "    \n",
    "    result=sia.polarity_scores(quotation)\n",
    "    pos=result[\"pos\"]\n",
    "    neg=result[\"neg\"]\n",
    "    newr = pd.Series(data = {'emotion': \"positive\", 'value': pos, 'journal': \"foxnews\"}, name = 'x')\n",
    "    df_cc_n = df_cc_n.append(newr, ignore_index=True)\n",
    "    newr = pd.Series(data = {'emotion': \"negative\", 'value': neg, 'journal': \"foxnews\"}, name = 'x')\n",
    "    df_cc_n = df_cc_n.append(newr, ignore_index=True)\n",
    "    \n",
    "    \n",
    "\n",
    "df_ny_word = df_ny[df_ny['quotation'].str.contains([l for l in lista][0])]\n",
    "count_ny = len(df_ny_word)\n",
    "m = len(df_ny)\n",
    "\n",
    "\n",
    "for quotation in df_ny_word['quotation']:\n",
    "    \n",
    "   \n",
    "    result=sia.polarity_scores(quotation)\n",
    "    pos=result[\"pos\"]\n",
    "    neg=result[\"neg\"]\n",
    "    newr = pd.Series(data = {'emotion': \"positive\", 'value': pos, 'journal': \"nytimes\"}, name = 'x')\n",
    "    df_cc_n = df_cc_n.append(newr, ignore_index=True)\n",
    "    newr = pd.Series(data = {'emotion': \"negative\", 'value': neg, 'journal': \"nytimes\"}, name = 'x')\n",
    "    df_cc_n = df_cc_n.append(newr, ignore_index=True)"
   ]
  },
  {
   "cell_type": "code",
   "execution_count": 18,
   "metadata": {},
   "outputs": [
    {
     "name": "stdout",
     "output_type": "stream",
     "text": [
      "Ttest_indResult(statistic=-0.8640132745111244, pvalue=0.3876140820575109)\n",
      "Ttest_indResult(statistic=5.636352088715872, pvalue=1.8134996597442932e-08)\n"
     ]
    },
    {
     "name": "stderr",
     "output_type": "stream",
     "text": [
      "C:\\Users\\François CHARROIN\\Anaconda3\\lib\\site-packages\\ipykernel_launcher.py:1: UserWarning: Boolean Series key will be reindexed to match DataFrame index.\n",
      "  \"\"\"Entry point for launching an IPython kernel.\n",
      "C:\\Users\\François CHARROIN\\Anaconda3\\lib\\site-packages\\ipykernel_launcher.py:2: UserWarning: Boolean Series key will be reindexed to match DataFrame index.\n",
      "  \n",
      "C:\\Users\\François CHARROIN\\Anaconda3\\lib\\site-packages\\ipykernel_launcher.py:3: UserWarning: Boolean Series key will be reindexed to match DataFrame index.\n",
      "  This is separate from the ipykernel package so we can avoid doing imports until\n",
      "C:\\Users\\François CHARROIN\\Anaconda3\\lib\\site-packages\\ipykernel_launcher.py:4: UserWarning: Boolean Series key will be reindexed to match DataFrame index.\n",
      "  after removing the cwd from sys.path.\n"
     ]
    }
   ],
   "source": [
    "res = stats.ttest_ind(df_cc_n[df_cc_n['journal']==\"foxnews\"][df_cc_n['emotion']==\"positive\"]['value'],\n",
    "                      df_cc_n[df_cc_n['journal']==\"nytimes\"][df_cc_n['emotion']==\"positive\"]['value'],equal_var=True)\n",
    "res2 = stats.ttest_ind(df_cc_n[df_cc_n['journal']==\"foxnews\"][df_cc_n['emotion']==\"negative\"]['value'],\n",
    "                       df_cc_n[df_cc_n['journal']==\"nytimes\"][df_cc_n['emotion']==\"negative\"]['value'],equal_var=True) \n",
    "print(res)\n",
    "print(res2)"
   ]
  },
  {
   "cell_type": "code",
   "execution_count": 19,
   "metadata": {},
   "outputs": [
    {
     "data": {
      "text/plain": [
       "<matplotlib.axes._subplots.AxesSubplot at 0x2e2266d2dc8>"
      ]
     },
     "execution_count": 19,
     "metadata": {},
     "output_type": "execute_result"
    },
    {
     "data": {
      "image/png": "[encoded data removed]",
      "text/plain": [
       "<Figure size 432x288 with 1 Axes>"
      ]
     },
     "metadata": {
      "needs_background": "light"
     },
     "output_type": "display_data"
    }
   ],
   "source": [
    "sns.violinplot(x = 'emotion', y = \"value\", hue=\"journal\",\n",
    "                    data=df_cc_n, palette=\"muted\", split=True)"
   ]
  },
  {
   "cell_type": "code",
   "execution_count": 20,
   "metadata": {},
   "outputs": [
    {
     "name": "stdout",
     "output_type": "stream",
     "text": [
      "0.08748870481927716\n",
      "0.08986647807637906\n",
      "0.10263742469879525\n",
      "0.08456181046676103\n"
     ]
    },
    {
     "name": "stderr",
     "output_type": "stream",
     "text": [
      "C:\\Users\\François CHARROIN\\Anaconda3\\lib\\site-packages\\ipykernel_launcher.py:1: UserWarning: Boolean Series key will be reindexed to match DataFrame index.\n",
      "  \"\"\"Entry point for launching an IPython kernel.\n",
      "C:\\Users\\François CHARROIN\\Anaconda3\\lib\\site-packages\\ipykernel_launcher.py:2: UserWarning: Boolean Series key will be reindexed to match DataFrame index.\n",
      "  \n",
      "C:\\Users\\François CHARROIN\\Anaconda3\\lib\\site-packages\\ipykernel_launcher.py:3: UserWarning: Boolean Series key will be reindexed to match DataFrame index.\n",
      "  This is separate from the ipykernel package so we can avoid doing imports until\n",
      "C:\\Users\\François CHARROIN\\Anaconda3\\lib\\site-packages\\ipykernel_launcher.py:4: UserWarning: Boolean Series key will be reindexed to match DataFrame index.\n",
      "  after removing the cwd from sys.path.\n"
     ]
    }
   ],
   "source": [
    "a = df_cc_n[df_cc_n['journal']==\"foxnews\"][df_cc_n['emotion']==\"positive\"]['value'].mean()\n",
    "b = df_cc_n[df_cc_n['journal']==\"nytimes\"][df_cc_n['emotion']==\"positive\"]['value'].mean()\n",
    "c = df_cc_n[df_cc_n['journal']==\"foxnews\"][df_cc_n['emotion']==\"negative\"]['value'].mean()\n",
    "d = df_cc_n[df_cc_n['journal']==\"nytimes\"][df_cc_n['emotion']==\"negative\"]['value'].mean()\n",
    "\n",
    "print(a)\n",
    "print(b)\n",
    "print(c)\n",
    "print(d)"
   ]
  },
  {
   "cell_type": "code",
   "execution_count": 21,
   "metadata": {},
   "outputs": [],
   "source": [
    "lst = [df_cc_n]\n",
    "del lst     "
   ]
  },
  {
   "cell_type": "markdown",
   "metadata": {},
   "source": [
    "## Abortion"
   ]
  },
  {
   "cell_type": "code",
   "execution_count": 22,
   "metadata": {},
   "outputs": [],
   "source": [
    "df_ab_n = pd.DataFrame(columns=['emotion','value','journal'])\n",
    "\n",
    "lista = [words_abortion]\n",
    "lista2 = ['abortion']\n",
    "\n",
    "df_fox_word = df_fox[df_fox['quotation'].str.contains([l for l in lista][0])]\n",
    "count_fox = len(df_fox_word)\n",
    "n = len(df_fox)\n",
    "\n",
    "for quotation in df_fox_word['quotation']:\n",
    "    \n",
    "    result=sia.polarity_scores(quotation)\n",
    "    pos=result[\"pos\"]\n",
    "    neg=result[\"neg\"]\n",
    "    newr = pd.Series(data = {'emotion': \"positive\", 'value': pos, 'journal': \"foxnews\"}, name = 'x')\n",
    "    df_ab_n = df_ab_n.append(newr, ignore_index=True)\n",
    "    newr = pd.Series(data = {'emotion': \"negative\", 'value': neg, 'journal': \"foxnews\"}, name = 'x')\n",
    "    df_ab_n = df_ab_n.append(newr, ignore_index=True)\n",
    "    \n",
    "    \n",
    "\n",
    "df_ny_word = df_ny[df_ny['quotation'].str.contains([l for l in lista][0])]\n",
    "count_ny = len(df_ny_word)\n",
    "m = len(df_ny)\n",
    "\n",
    "\n",
    "for quotation in df_ny_word['quotation']:\n",
    "    \n",
    "   \n",
    "    result=sia.polarity_scores(quotation)\n",
    "    pos=result[\"pos\"]\n",
    "    neg=result[\"neg\"]\n",
    "    newr = pd.Series(data = {'emotion': \"positive\", 'value': pos, 'journal': \"nytimes\"}, name = 'x')\n",
    "    df_ab_n = df_ab_n.append(newr, ignore_index=True)\n",
    "    newr = pd.Series(data = {'emotion': \"negative\", 'value': neg, 'journal': \"nytimes\"}, name = 'x')\n",
    "    df_ab_n = df_ab_n.append(newr, ignore_index=True)"
   ]
  },
  {
   "cell_type": "code",
   "execution_count": 23,
   "metadata": {},
   "outputs": [
    {
     "name": "stdout",
     "output_type": "stream",
     "text": [
      "Ttest_indResult(statistic=0.6986354018016663, pvalue=0.4848666942711134)\n",
      "Ttest_indResult(statistic=0.36941612315318134, pvalue=0.7118593632830178)\n"
     ]
    },
    {
     "name": "stderr",
     "output_type": "stream",
     "text": [
      "C:\\Users\\François CHARROIN\\Anaconda3\\lib\\site-packages\\ipykernel_launcher.py:1: UserWarning: Boolean Series key will be reindexed to match DataFrame index.\n",
      "  \"\"\"Entry point for launching an IPython kernel.\n",
      "C:\\Users\\François CHARROIN\\Anaconda3\\lib\\site-packages\\ipykernel_launcher.py:2: UserWarning: Boolean Series key will be reindexed to match DataFrame index.\n",
      "  \n",
      "C:\\Users\\François CHARROIN\\Anaconda3\\lib\\site-packages\\ipykernel_launcher.py:3: UserWarning: Boolean Series key will be reindexed to match DataFrame index.\n",
      "  This is separate from the ipykernel package so we can avoid doing imports until\n",
      "C:\\Users\\François CHARROIN\\Anaconda3\\lib\\site-packages\\ipykernel_launcher.py:4: UserWarning: Boolean Series key will be reindexed to match DataFrame index.\n",
      "  after removing the cwd from sys.path.\n"
     ]
    }
   ],
   "source": [
    "res = stats.ttest_ind(df_ab_n[df_ab_n['journal']==\"foxnews\"][df_ab_n['emotion']==\"positive\"]['value'],\n",
    "                      df_ab_n[df_ab_n['journal']==\"nytimes\"][df_ab_n['emotion']==\"positive\"]['value'],equal_var=True)\n",
    "res2 = stats.ttest_ind(df_ab_n[df_ab_n['journal']==\"foxnews\"][df_ab_n['emotion']==\"negative\"]['value'],\n",
    "                       df_ab_n[df_ab_n['journal']==\"nytimes\"][df_ab_n['emotion']==\"negative\"]['value'],equal_var=True) \n",
    "print(res)\n",
    "print(res2)"
   ]
  },
  {
   "cell_type": "code",
   "execution_count": 24,
   "metadata": {},
   "outputs": [
    {
     "data": {
      "text/plain": [
       "<matplotlib.axes._subplots.AxesSubplot at 0x2e227d461c8>"
      ]
     },
     "execution_count": 24,
     "metadata": {},
     "output_type": "execute_result"
    },
    {
     "data": {
      "image/png": "[encoded data removed]",
      "text/plain": [
       "<Figure size 432x288 with 1 Axes>"
      ]
     },
     "metadata": {
      "needs_background": "light"
     },
     "output_type": "display_data"
    }
   ],
   "source": [
    "sns.violinplot(x = 'emotion', y = \"value\", hue=\"journal\",\n",
    "                    data=df_ab_n, palette=\"muted\", split=True)"
   ]
  },
  {
   "cell_type": "code",
   "execution_count": 25,
   "metadata": {},
   "outputs": [
    {
     "name": "stdout",
     "output_type": "stream",
     "text": [
      "0.08926307053941905\n",
      "0.08568609865470851\n",
      "0.0905170124481327\n",
      "0.08849925261584454\n"
     ]
    },
    {
     "name": "stderr",
     "output_type": "stream",
     "text": [
      "C:\\Users\\François CHARROIN\\Anaconda3\\lib\\site-packages\\ipykernel_launcher.py:1: UserWarning: Boolean Series key will be reindexed to match DataFrame index.\n",
      "  \"\"\"Entry point for launching an IPython kernel.\n",
      "C:\\Users\\François CHARROIN\\Anaconda3\\lib\\site-packages\\ipykernel_launcher.py:2: UserWarning: Boolean Series key will be reindexed to match DataFrame index.\n",
      "  \n",
      "C:\\Users\\François CHARROIN\\Anaconda3\\lib\\site-packages\\ipykernel_launcher.py:3: UserWarning: Boolean Series key will be reindexed to match DataFrame index.\n",
      "  This is separate from the ipykernel package so we can avoid doing imports until\n",
      "C:\\Users\\François CHARROIN\\Anaconda3\\lib\\site-packages\\ipykernel_launcher.py:4: UserWarning: Boolean Series key will be reindexed to match DataFrame index.\n",
      "  after removing the cwd from sys.path.\n"
     ]
    }
   ],
   "source": [
    "a = df_ab_n[df_ab_n['journal']==\"foxnews\"][df_ab_n['emotion']==\"positive\"]['value'].mean()\n",
    "b = df_ab_n[df_ab_n['journal']==\"nytimes\"][df_ab_n['emotion']==\"positive\"]['value'].mean()\n",
    "c = df_ab_n[df_ab_n['journal']==\"foxnews\"][df_ab_n['emotion']==\"negative\"]['value'].mean()\n",
    "d = df_ab_n[df_ab_n['journal']==\"nytimes\"][df_ab_n['emotion']==\"negative\"]['value'].mean()\n",
    "\n",
    "print(a)\n",
    "print(b)\n",
    "print(c)\n",
    "print(d)"
   ]
  },
  {
   "cell_type": "code",
   "execution_count": 26,
   "metadata": {},
   "outputs": [],
   "source": [
    "lst = [df_ab_n]\n",
    "del lst  "
   ]
  },
  {
   "cell_type": "markdown",
   "metadata": {},
   "source": [
    "## Religion"
   ]
  },
  {
   "cell_type": "code",
   "execution_count": 27,
   "metadata": {},
   "outputs": [],
   "source": [
    "df_re_n = pd.DataFrame(columns=['emotion','value','journal'])\n",
    "\n",
    "lista = [words_religion]\n",
    "lista2 = ['religion']\n",
    "\n",
    "\n",
    "df_fox_word = df_fox[df_fox['quotation'].str.contains([l for l in lista][0])]\n",
    "count_fox = len(df_fox_word)\n",
    "n = len(df_fox)\n",
    "\n",
    "for quotation in df_fox_word['quotation']:\n",
    "    \n",
    "    result=sia.polarity_scores(quotation)\n",
    "    pos=result[\"pos\"]\n",
    "    neg=result[\"neg\"]\n",
    "    newr = pd.Series(data = {'emotion': \"positive\", 'value': pos, 'journal': \"foxnews\"}, name = 'x')\n",
    "    df_re_n = df_re_n.append(newr, ignore_index=True)\n",
    "    newr = pd.Series(data = {'emotion': \"negative\", 'value': neg, 'journal': \"foxnews\"}, name = 'x')\n",
    "    df_re_n = df_re_n.append(newr, ignore_index=True)\n",
    "    \n",
    "    \n",
    "\n",
    "\n",
    "df_ny_word = df_ny[df_ny['quotation'].str.contains([l for l in lista][0])]\n",
    "count_ny = len(df_ny_word)\n",
    "m = len(df_ny)\n",
    "\n",
    "\n",
    "for quotation in df_ny_word['quotation']:\n",
    "    \n",
    "    \n",
    "    result=sia.polarity_scores(quotation)\n",
    "    pos=result[\"pos\"]\n",
    "    neg=result[\"neg\"]\n",
    "    newr = pd.Series(data = {'emotion': \"positive\", 'value': pos, 'journal': \"nytimes\"}, name = 'x')\n",
    "    df_re_n = df_re_n.append(newr, ignore_index=True)\n",
    "    newr = pd.Series(data = {'emotion': \"negative\", 'value': neg, 'journal': \"nytimes\"}, name = 'x')\n",
    "    df_re_n = df_re_n.append(newr, ignore_index=True)"
   ]
  },
  {
   "cell_type": "code",
   "execution_count": 28,
   "metadata": {},
   "outputs": [
    {
     "name": "stdout",
     "output_type": "stream",
     "text": [
      "Ttest_indResult(statistic=-1.7869765933125543, pvalue=0.073955491262472)\n",
      "Ttest_indResult(statistic=3.178817465267723, pvalue=0.001480886944706806)\n"
     ]
    },
    {
     "name": "stderr",
     "output_type": "stream",
     "text": [
      "C:\\Users\\François CHARROIN\\Anaconda3\\lib\\site-packages\\ipykernel_launcher.py:1: UserWarning: Boolean Series key will be reindexed to match DataFrame index.\n",
      "  \"\"\"Entry point for launching an IPython kernel.\n",
      "C:\\Users\\François CHARROIN\\Anaconda3\\lib\\site-packages\\ipykernel_launcher.py:2: UserWarning: Boolean Series key will be reindexed to match DataFrame index.\n",
      "  \n",
      "C:\\Users\\François CHARROIN\\Anaconda3\\lib\\site-packages\\ipykernel_launcher.py:3: UserWarning: Boolean Series key will be reindexed to match DataFrame index.\n",
      "  This is separate from the ipykernel package so we can avoid doing imports until\n",
      "C:\\Users\\François CHARROIN\\Anaconda3\\lib\\site-packages\\ipykernel_launcher.py:4: UserWarning: Boolean Series key will be reindexed to match DataFrame index.\n",
      "  after removing the cwd from sys.path.\n"
     ]
    }
   ],
   "source": [
    "res = stats.ttest_ind(df_re_n[df_re_n['journal']==\"foxnews\"][df_re_n['emotion']==\"positive\"]['value'],\n",
    "                      df_re_n[df_re_n['journal']==\"nytimes\"][df_re_n['emotion']==\"positive\"]['value'],equal_var=True)\n",
    "res2 = stats.ttest_ind(df_re_n[df_re_n['journal']==\"foxnews\"][df_re_n['emotion']==\"negative\"]['value'],\n",
    "                       df_re_n[df_re_n['journal']==\"nytimes\"][df_re_n['emotion']==\"negative\"]['value'],equal_var=True) \n",
    "print(res)\n",
    "print(res2)"
   ]
  },
  {
   "cell_type": "code",
   "execution_count": 29,
   "metadata": {},
   "outputs": [
    {
     "data": {
      "text/plain": [
       "<matplotlib.axes._subplots.AxesSubplot at 0x2e227ddb7c8>"
      ]
     },
     "execution_count": 29,
     "metadata": {},
     "output_type": "execute_result"
    },
    {
     "data": {
      "image/png": "[encoded data removed]",
      "text/plain": [
       "<Figure size 432x288 with 1 Axes>"
      ]
     },
     "metadata": {
      "needs_background": "light"
     },
     "output_type": "display_data"
    }
   ],
   "source": [
    "sns.violinplot(x = 'emotion', y = \"value\", hue=\"journal\",\n",
    "                    data=df_re_n, palette=\"muted\", split=True)"
   ]
  },
  {
   "cell_type": "code",
   "execution_count": 30,
   "metadata": {},
   "outputs": [
    {
     "name": "stdout",
     "output_type": "stream",
     "text": [
      "0.20197896704837623\n",
      "0.20585270126492541\n",
      "0.06863753213367599\n",
      "0.0640956377822437\n"
     ]
    },
    {
     "name": "stderr",
     "output_type": "stream",
     "text": [
      "C:\\Users\\François CHARROIN\\Anaconda3\\lib\\site-packages\\ipykernel_launcher.py:1: UserWarning: Boolean Series key will be reindexed to match DataFrame index.\n",
      "  \"\"\"Entry point for launching an IPython kernel.\n",
      "C:\\Users\\François CHARROIN\\Anaconda3\\lib\\site-packages\\ipykernel_launcher.py:2: UserWarning: Boolean Series key will be reindexed to match DataFrame index.\n",
      "  \n",
      "C:\\Users\\François CHARROIN\\Anaconda3\\lib\\site-packages\\ipykernel_launcher.py:3: UserWarning: Boolean Series key will be reindexed to match DataFrame index.\n",
      "  This is separate from the ipykernel package so we can avoid doing imports until\n",
      "C:\\Users\\François CHARROIN\\Anaconda3\\lib\\site-packages\\ipykernel_launcher.py:4: UserWarning: Boolean Series key will be reindexed to match DataFrame index.\n",
      "  after removing the cwd from sys.path.\n"
     ]
    }
   ],
   "source": [
    "a = df_re_n[df_re_n['journal']==\"foxnews\"][df_re_n['emotion']==\"positive\"]['value'].mean()\n",
    "b = df_re_n[df_re_n['journal']==\"nytimes\"][df_re_n['emotion']==\"positive\"]['value'].mean()\n",
    "c = df_re_n[df_re_n['journal']==\"foxnews\"][df_re_n['emotion']==\"negative\"]['value'].mean()\n",
    "d = df_re_n[df_re_n['journal']==\"nytimes\"][df_re_n['emotion']==\"negative\"]['value'].mean()\n",
    "\n",
    "print(a)\n",
    "print(b)\n",
    "print(c)\n",
    "print(d)"
   ]
  },
  {
   "cell_type": "code",
   "execution_count": 31,
   "metadata": {},
   "outputs": [],
   "source": [
    "lst = [df_re_n]\n",
    "del lst  "
   ]
  },
  {
   "cell_type": "markdown",
   "metadata": {},
   "source": [
    "## Racism"
   ]
  },
  {
   "cell_type": "code",
   "execution_count": 37,
   "metadata": {},
   "outputs": [],
   "source": [
    "df_ra_n = pd.DataFrame(columns=['emotion','value','journal'])\n",
    "\n",
    "lista = [words_racism]\n",
    "lista2 = ['racism']\n",
    "\n",
    "df_fox_word = df_fox[df_fox['quotation'].str.contains([l for l in lista][0])]\n",
    "count_fox = len(df_fox_word)\n",
    "n = len(df_fox)\n",
    "\n",
    "for quotation in df_fox_word['quotation']:\n",
    "    \n",
    "    result=sia.polarity_scores(quotation)\n",
    "    pos=result[\"pos\"]\n",
    "    neg=result[\"neg\"]\n",
    "    newr = pd.Series(data = {'emotion': \"positive\", 'value': pos, 'journal': \"foxnews\"}, name = 'x')\n",
    "    df_ra_n = df_ra_n.append(newr, ignore_index=True)\n",
    "    newr = pd.Series(data = {'emotion': \"negative\", 'value': neg, 'journal': \"foxnews\"}, name = 'x')\n",
    "    df_ra_n = df_ra_n.append(newr, ignore_index=True)\n",
    "    \n",
    "    \n",
    "\n",
    "\n",
    "df_ny_word = df_ny[df_ny['quotation'].str.contains([l for l in lista][0])]\n",
    "count_ny = len(df_ny_word)\n",
    "m = len(df_ny)\n",
    "\n",
    "\n",
    "for quotation in df_ny_word['quotation']:\n",
    "    \n",
    "    \n",
    "    result=sia.polarity_scores(quotation)\n",
    "    pos=result[\"pos\"]\n",
    "    neg=result[\"neg\"]\n",
    "    newr = pd.Series(data = {'emotion': \"positive\", 'value': pos, 'journal': \"nytimes\"}, name = 'x')\n",
    "    df_ra_n = df_ra_n.append(newr, ignore_index=True)\n",
    "    newr = pd.Series(data = {'emotion': \"negative\", 'value': neg, 'journal': \"nytimes\"}, name = 'x')\n",
    "    df_ra_n = df_ra_n.append(newr, ignore_index=True)"
   ]
  },
  {
   "cell_type": "code",
   "execution_count": 38,
   "metadata": {},
   "outputs": [
    {
     "name": "stdout",
     "output_type": "stream",
     "text": [
      "Ttest_indResult(statistic=0.7233978379471638, pvalue=0.46944978012100336)\n",
      "Ttest_indResult(statistic=2.1283955705663513, pvalue=0.03332487587571053)\n"
     ]
    },
    {
     "name": "stderr",
     "output_type": "stream",
     "text": [
      "C:\\Users\\François CHARROIN\\Anaconda3\\lib\\site-packages\\ipykernel_launcher.py:1: UserWarning: Boolean Series key will be reindexed to match DataFrame index.\n",
      "  \"\"\"Entry point for launching an IPython kernel.\n",
      "C:\\Users\\François CHARROIN\\Anaconda3\\lib\\site-packages\\ipykernel_launcher.py:2: UserWarning: Boolean Series key will be reindexed to match DataFrame index.\n",
      "  \n",
      "C:\\Users\\François CHARROIN\\Anaconda3\\lib\\site-packages\\ipykernel_launcher.py:3: UserWarning: Boolean Series key will be reindexed to match DataFrame index.\n",
      "  This is separate from the ipykernel package so we can avoid doing imports until\n",
      "C:\\Users\\François CHARROIN\\Anaconda3\\lib\\site-packages\\ipykernel_launcher.py:4: UserWarning: Boolean Series key will be reindexed to match DataFrame index.\n",
      "  after removing the cwd from sys.path.\n"
     ]
    }
   ],
   "source": [
    "res = stats.ttest_ind(df_ra_n[df_ra_n['journal']==\"foxnews\"][df_ra_n['emotion']==\"positive\"]['value'],\n",
    "                      df_ra_n[df_ra_n['journal']==\"nytimes\"][df_ra_n['emotion']==\"positive\"]['value'],equal_var=True)\n",
    "res2 = stats.ttest_ind(df_ra_n[df_ra_n['journal']==\"foxnews\"][df_ra_n['emotion']==\"negative\"]['value'],\n",
    "                       df_ra_n[df_ra_n['journal']==\"nytimes\"][df_ra_n['emotion']==\"negative\"]['value'],equal_var=True) \n",
    "print(res)\n",
    "print(res2)"
   ]
  },
  {
   "cell_type": "code",
   "execution_count": 39,
   "metadata": {},
   "outputs": [
    {
     "data": {
      "text/plain": [
       "<matplotlib.axes._subplots.AxesSubplot at 0x2e228125bc8>"
      ]
     },
     "execution_count": 39,
     "metadata": {},
     "output_type": "execute_result"
    },
    {
     "data": {
      "image/png": "[encoded data removed]",
      "text/plain": [
       "<Figure size 432x288 with 1 Axes>"
      ]
     },
     "metadata": {
      "needs_background": "light"
     },
     "output_type": "display_data"
    }
   ],
   "source": [
    "sns.violinplot(x = 'emotion', y = \"value\", hue=\"journal\",\n",
    "                    data=df_ra_n, palette=\"muted\", split=True)"
   ]
  },
  {
   "cell_type": "code",
   "execution_count": 42,
   "metadata": {},
   "outputs": [
    {
     "name": "stdout",
     "output_type": "stream",
     "text": [
      "fox positive 0.08558292978208229\n",
      "0.08419019458222071\n",
      "0.0791047215496366\n",
      "0.07474418161007261\n"
     ]
    },
    {
     "name": "stderr",
     "output_type": "stream",
     "text": [
      "C:\\Users\\François CHARROIN\\Anaconda3\\lib\\site-packages\\ipykernel_launcher.py:1: UserWarning: Boolean Series key will be reindexed to match DataFrame index.\n",
      "  \"\"\"Entry point for launching an IPython kernel.\n",
      "C:\\Users\\François CHARROIN\\Anaconda3\\lib\\site-packages\\ipykernel_launcher.py:2: UserWarning: Boolean Series key will be reindexed to match DataFrame index.\n",
      "  \n",
      "C:\\Users\\François CHARROIN\\Anaconda3\\lib\\site-packages\\ipykernel_launcher.py:3: UserWarning: Boolean Series key will be reindexed to match DataFrame index.\n",
      "  This is separate from the ipykernel package so we can avoid doing imports until\n",
      "C:\\Users\\François CHARROIN\\Anaconda3\\lib\\site-packages\\ipykernel_launcher.py:4: UserWarning: Boolean Series key will be reindexed to match DataFrame index.\n",
      "  after removing the cwd from sys.path.\n"
     ]
    }
   ],
   "source": [
    "a = df_ra_n[df_ra_n['journal']==\"foxnews\"][df_ra_n['emotion']==\"positive\"]['value'].mean()\n",
    "b = df_ra_n[df_ra_n['journal']==\"nytimes\"][df_ra_n['emotion']==\"positive\"]['value'].mean()\n",
    "c = df_ra_n[df_ra_n['journal']==\"foxnews\"][df_ra_n['emotion']==\"negative\"]['value'].mean()\n",
    "d = df_ra_n[df_ra_n['journal']==\"nytimes\"][df_ra_n['emotion']==\"negative\"]['value'].mean()\n",
    "\n",
    "print(\"fox positive {0}\".format(a))\n",
    "print(b)\n",
    "print(c)\n",
    "print(d)"
   ]
  },
  {
   "cell_type": "code",
   "execution_count": null,
   "metadata": {},
   "outputs": [],
   "source": [
    "lst = [df_ra_n]\n",
    "del lst  "
   ]
  },
  {
   "cell_type": "code",
   "execution_count": null,
   "metadata": {},
   "outputs": [],
   "source": []
  },
  {
   "cell_type": "code",
   "execution_count": null,
   "metadata": {},
   "outputs": [],
   "source": []
  }
 ],
 "metadata": {
  "kernelspec": {
   "display_name": "Python 3",
   "language": "python",
   "name": "python3"
  },
  "language_info": {
   "codemirror_mode": {
    "name": "ipython",
    "version": 3
   },
   "file_extension": ".py",
   "mimetype": "text/x-python",
   "name": "python",
   "nbconvert_exporter": "python",
   "pygments_lexer": "ipython3",
   "version": "3.7.4"
  }
 },
 "nbformat": 4,
 "nbformat_minor": 2
}
