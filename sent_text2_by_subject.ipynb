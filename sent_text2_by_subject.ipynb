{
 "cells": [
  {
   "cell_type": "code",
   "execution_count": 1,
   "metadata": {},
   "outputs": [],
   "source": [
    "import seaborn as sns\n",
    "from IPython.display import display, HTML\n",
    "import matplotlib.pyplot as plt\n",
    "import scipy.stats as stats\n",
    "import pandas as pd\n",
    "import numpy as np\n",
    "import bz2\n",
    "import json\n",
    "from urllib.parse import urlparse\n",
    "import nltk\n",
    "from nltk.sentiment import SentimentIntensityAnalyzer\n",
    "import os\n",
    "import glob\n",
    "import pickle"
   ]
  },
  {
   "cell_type": "code",
   "execution_count": 3,
   "metadata": {},
   "outputs": [],
   "source": [
    "from scipy import stats"
   ]
  },
  {
   "cell_type": "code",
   "execution_count": 4,
   "metadata": {},
   "outputs": [],
   "source": [
    "def read_yearly(y):\n",
    "    PATH = 'Fox_NY_' + str(y) + '/'\n",
    "    nb = 1\n",
    "    df2 = []\n",
    "    dirs = glob.glob(os.path.join(PATH, \"*.pkl\"))\n",
    "\n",
    "    for files in dirs:\n",
    "        df1 = pd.read_pickle(PATH + str(nb)+ '_' + str(y) + '_' + 'FoxNYtimes.pkl')\n",
    "        df2.append(df1)\n",
    "        nb += 1\n",
    "    return df2"
   ]
  },
  {
   "cell_type": "code",
   "execution_count": 5,
   "metadata": {},
   "outputs": [],
   "source": [
    "years = [2015, 2016, 2017, 2018, 2019, 2020]\n",
    "\n",
    "df_foxNy = pd.DataFrame()\n",
    "\n",
    "for y in years:\n",
    "    df_foxNy = df_foxNy.append(pd.concat(read_yearly(y)))\n",
    "df_fox = pd.DataFrame()\n",
    "df_ny = pd.DataFrame()"
   ]
  },
  {
   "cell_type": "code",
   "execution_count": 6,
   "metadata": {},
   "outputs": [],
   "source": [
    "#The chosen key words are selected here\n",
    "words_immigration = 'immigration|mexic|migrant|border|refugees'\n",
    "words_terrorism = 'shoot|gun|kill|attack|massacre|victim|terroris|arm|violen|death'\n",
    "words_ClimateChange = 'flood|greenhouse effect|CO2|global warming|pollution|glacier|ice pake melting|high temperatures|heat'\n",
    "words_abortion = 'abort|fetus'\n",
    "words_religion = 'God|Christian|Christianism|Belief|faith|prayer|commitment|islam|buddhism|hinduism|baptism|church|vatican|reincarnation|jesus'\n",
    "words_racism = 'White|Black|Black lives matter|All lives matter|discrimination|Segregation|George Floyd|Slaver|White supremacy|Klu Klux Klan|KKK|Gunshot|Trials|Police|Death sentence'"
   ]
  },
  {
   "cell_type": "code",
   "execution_count": 7,
   "metadata": {},
   "outputs": [
    {
     "name": "stderr",
     "output_type": "stream",
     "text": [
      "[nltk_data] Downloading package stopwords to C:\\Users\\François\n",
      "[nltk_data]     CHARROIN\\AppData\\Roaming\\nltk_data...\n",
      "[nltk_data]   Package stopwords is already up-to-date!\n",
      "[nltk_data] Downloading package punkt to C:\\Users\\François\n",
      "[nltk_data]     CHARROIN\\AppData\\Roaming\\nltk_data...\n",
      "[nltk_data]   Package punkt is already up-to-date!\n",
      "[nltk_data] Downloading package wordnet to C:\\Users\\François\n",
      "[nltk_data]     CHARROIN\\AppData\\Roaming\\nltk_data...\n",
      "[nltk_data]   Package wordnet is already up-to-date!\n"
     ]
    }
   ],
   "source": [
    "from collections import namedtuple\n",
    "import text2emotion as te"
   ]
  },
  {
   "cell_type": "markdown",
   "metadata": {},
   "source": [
    "## Immigration"
   ]
  },
  {
   "cell_type": "code",
   "execution_count": 9,
   "metadata": {},
   "outputs": [],
   "source": [
    "df_immi_t = pd.DataFrame(columns=['emotion','value','journal'])\n",
    "\n",
    "lista = [words_immigration]\n",
    "lista2 = ['immigration']\n",
    "\n",
    "\n",
    "df_fox_word = df_fox[df_fox['quotation'].str.contains([l for l in lista][0])]\n",
    "count_fox = len(df_fox_word)\n",
    "n = len(df_fox)\n",
    "\n",
    "for quotation in df_fox_word['quotation']:\n",
    "    \n",
    "    di=te.get_emotion(quotation)\n",
    "    fear=di.get('Fear')\n",
    "    happy=di.get('Happy')\n",
    "    angry=di.get('Angry')\n",
    "    surprise=di.get('Surprise')\n",
    "    sad=di.get('Sad')\n",
    "    \n",
    "    newr = pd.Series(data = {'emotion': \"fear\", 'value': fear, 'journal': \"foxnews\"}, name = 'x')\n",
    "    df_immi_t = df_immi_t.append(newr, ignore_index=True)\n",
    "    \n",
    "    newr = pd.Series(data = {'emotion': \"happy\", 'value': happy, 'journal': \"foxnews\"}, name = 'x')\n",
    "    df_immi_t = df_immi_t.append(newr, ignore_index=True)\n",
    "    \n",
    "    newr = pd.Series(data = {'emotion': \"angry\", 'value': angry, 'journal': \"foxnews\"}, name = 'x')\n",
    "    df_immi_t = df_immi_t.append(newr, ignore_index=True)\n",
    "    \n",
    "\n",
    "    newr = pd.Series(data = {'emotion': \"surprise\", 'value': surprise, 'journal': \"foxnews\"}, name = 'x')\n",
    "    df_immi_t = df_immi_t.append(newr, ignore_index=True)\n",
    "    \n",
    "    newr = pd.Series(data = {'emotion': \"sad\", 'value': sad, 'journal': \"foxnews\"}, name = 'x')\n",
    "    df_immi_t = df_immi_t.append(newr, ignore_index=True)\n",
    "    \n",
    "\n",
    "df_ny_word = df_ny[df_ny['quotation'].str.contains([l for l in lista][0])]\n",
    "count_ny = len(df_ny_word)\n",
    "m = len(df_ny)\n",
    "\n",
    "\n",
    "for quotation in df_ny_word['quotation']:\n",
    "    \n",
    "    di=te.get_emotion(quotation)\n",
    "    fear=di.get('Fear')\n",
    "    happy=di.get('Happy')\n",
    "    angry=di.get('Angry')\n",
    "    surprise=di.get('Surprise')\n",
    "    sad=di.get('Sad')\n",
    "    \n",
    "    newr = pd.Series(data = {'emotion': \"fear\", 'value': fear, 'journal': \"nytimes\"}, name = 'x')\n",
    "    df_immi_t = df_immi_t.append(newr, ignore_index=True)\n",
    "    \n",
    "    newr = pd.Series(data = {'emotion': \"happy\", 'value': happy, 'journal': \"nytimes\"}, name = 'x')\n",
    "    df_immi_t = df_immi_t.append(newr, ignore_index=True)\n",
    "    \n",
    "    newr = pd.Series(data = {'emotion': \"angry\", 'value': angry, 'journal': \"nytimes\"}, name = 'x')\n",
    "    df_immi_t = df_immi_t.append(newr, ignore_index=True)\n",
    "    \n",
    "\n",
    "    newr = pd.Series(data = {'emotion': \"surprise\", 'value': surprise, 'journal': \"nytimes\"}, name = 'x')\n",
    "    df_immi_t = df_immi_t.append(newr, ignore_index=True)\n",
    "    \n",
    "    newr = pd.Series(data = {'emotion': \"sad\", 'value': sad, 'journal': \"nytimes\"}, name = 'x')\n",
    "    df_immi_t = df_immi_t.append(newr, ignore_index=True)"
   ]
  },
  {
   "cell_type": "code",
   "execution_count": 10,
   "metadata": {},
   "outputs": [
    {
     "name": "stdout",
     "output_type": "stream",
     "text": [
      "P-Value:1.0 T-Statistic:0.0\n"
     ]
    }
   ],
   "source": [
    "res = stats.ttest_ind(df_immi_t[df_immi_t['journal']==\"foxnews\"][df_immi_t['emotion']==\"fear\"]['value'],\n",
    "                      df_immi_t[df_immi_t['journal']==\"nytimes\"][df_immi_t['emotion']==\"fear\"]['value'],equal_var=True)\n",
    "res2 = stats.ttest_ind(df_immi_t[df_immi_t['journal']==\"foxnews\"][df_immi_t['emotion']==\"happy\"]['value'],\n",
    "                       df_immi_t[df_immi_t['journal']==\"nytimes\"][df_immi_t['emotion']==\"happy\"]['value'],equal_var=True) \n",
    "res3 = stats.ttest_ind(df_immi_t[df_immi_t['journal']==\"foxnews\"][df_immi_t['emotion']==\"angry\"]['value'],\n",
    "                       df_immi_t[df_immi_t['journal']==\"nytimes\"][df_immi_t['emotion']==\"angry\"]['value'],equal_var=True) \n",
    "res4 = stats.ttest_ind(df_immi_t[df_immi_t['journal']==\"foxnews\"][df_immi_t['emotion']==\"surprise\"]['value'],\n",
    "                       df_immi_t[df_immi_t['journal']==\"nytimes\"][df_immi_t['emotion']==\"surprise\"]['value'],equal_var=True) \n",
    "res5 = stats.ttest_ind(df_immi_t[df_immi_t['journal']==\"foxnews\"][df_immi_t['emotion']==\"sad\"]['value'],\n",
    "                       df_immi_t[df_immi_t['journal']==\"nytimes\"][df_immi_t['emotion']==\"sad\"]['value'],equal_var=True) \n",
    "\n",
    "print(res)\n",
    "print(res2)\n",
    "print(res3)\n",
    "print(res4)\n",
    "print(res5)"
   ]
  },
  {
   "cell_type": "code",
   "execution_count": 11,
   "metadata": {},
   "outputs": [
    {
     "data": {
      "text/plain": [
       "<matplotlib.axes._subplots.AxesSubplot at 0x1d805f58448>"
      ]
     },
     "execution_count": 11,
     "metadata": {},
     "output_type": "execute_result"
    },
    {
     "data": {
      "image/png": "[encoded data removed]",
      "text/plain": [
       "<Figure size 432x288 with 1 Axes>"
      ]
     },
     "metadata": {
      "needs_background": "light"
     },
     "output_type": "display_data"
    }
   ],
   "source": [
    "sns.violinplot(x = 'emotion', y = \"value\", hue=\"journal\",\n",
    "                    data=df_immi_t, palette=\"muted\", split=True)"
   ]
  },
  {
   "cell_type": "code",
   "execution_count": 13,
   "metadata": {},
   "outputs": [],
   "source": [
    "lst = [df_immi_t]\n",
    "del lst     "
   ]
  },
  {
   "cell_type": "markdown",
   "metadata": {},
   "source": [
    "## Terrorism"
   ]
  },
  {
   "cell_type": "code",
   "execution_count": 14,
   "metadata": {},
   "outputs": [],
   "source": [
    "df_te_t = pd.DataFrame(columns=['emotion','value','journal'])\n",
    "\n",
    "lista = [words_terrorism]\n",
    "lista2 = ['terrorism']\n",
    "\n",
    "\n",
    "df_fox_word = df_fox[df_fox['quotation'].str.contains([l for l in lista][0])]\n",
    "count_fox = len(df_fox_word)\n",
    "n = len(df_fox)\n",
    "\n",
    "for quotation in df_fox_word['quotation']:\n",
    "    \n",
    "    di=te.get_emotion(quotation)\n",
    "    fear=di.get('Fear')\n",
    "    happy=di.get('Happy')\n",
    "    angry=di.get('Angry')\n",
    "    surprise=di.get('Surprise')\n",
    "    sad=di.get('Sad')\n",
    "    \n",
    "    newr = pd.Series(data = {'emotion': \"fear\", 'value': fear, 'journal': \"foxnews\"}, name = 'x')\n",
    "    df_te_t = df_te_t.append(newr, ignore_index=True)\n",
    "    \n",
    "    newr = pd.Series(data = {'emotion': \"happy\", 'value': happy, 'journal': \"foxnews\"}, name = 'x')\n",
    "    df_te_t = df_te_t.append(newr, ignore_index=True)\n",
    "    \n",
    "    newr = pd.Series(data = {'emotion': \"angry\", 'value': angry, 'journal': \"foxnews\"}, name = 'x')\n",
    "    df_te_t = df_te_t.append(newr, ignore_index=True)\n",
    "    \n",
    "\n",
    "    newr = pd.Series(data = {'emotion': \"surprise\", 'value': surprise, 'journal': \"foxnews\"}, name = 'x')\n",
    "    df_te_t = df_te_t.append(newr, ignore_index=True)\n",
    "    \n",
    "    newr = pd.Series(data = {'emotion': \"sad\", 'value': sad, 'journal': \"foxnews\"}, name = 'x')\n",
    "    df_te_t = df_te_t.append(newr, ignore_index=True)\n",
    "    \n",
    "\n",
    "df_ny_word = df_ny[df_ny['quotation'].str.contains([l for l in lista][0])]\n",
    "count_ny = len(df_ny_word)\n",
    "m = len(df_ny)\n",
    "\n",
    "\n",
    "for quotation in df_ny_word['quotation']:\n",
    "    \n",
    "    di=te.get_emotion(quotation)\n",
    "    fear=di.get('Fear')\n",
    "    happy=di.get('Happy')\n",
    "    angry=di.get('Angry')\n",
    "    surprise=di.get('Surprise')\n",
    "    sad=di.get('Sad')\n",
    "    \n",
    "    newr = pd.Series(data = {'emotion': \"fear\", 'value': fear, 'journal': \"nytimes\"}, name = 'x')\n",
    "    df_te_t = df_te_t.append(newr, ignore_index=True)\n",
    "    \n",
    "    newr = pd.Series(data = {'emotion': \"happy\", 'value': happy, 'journal': \"nytimes\"}, name = 'x')\n",
    "    df_te_t = df_te_t.append(newr, ignore_index=True)\n",
    "    \n",
    "    newr = pd.Series(data = {'emotion': \"angry\", 'value': angry, 'journal': \"nytimes\"}, name = 'x')\n",
    "    df_te_t = df_te_t.append(newr, ignore_index=True)\n",
    "    \n",
    "\n",
    "    newr = pd.Series(data = {'emotion': \"surprise\", 'value': surprise, 'journal': \"nytimes\"}, name = 'x')\n",
    "    df_te_t = df_te_t.append(newr, ignore_index=True)\n",
    "    \n",
    "    newr = pd.Series(data = {'emotion': \"sad\", 'value': sad, 'journal': \"nytimes\"}, name = 'x')\n",
    "    df_te_t = df_te_t.append(newr, ignore_index=True)"
   ]
  },
  {
   "cell_type": "code",
   "execution_count": 15,
   "metadata": {},
   "outputs": [
    {
     "name": "stdout",
     "output_type": "stream",
     "text": [
      "P-Value:1.0 T-Statistic:0.0\n"
     ]
    }
   ],
   "source": [
    "res = stats.ttest_ind(df_te_t[df_te_t['journal']==\"foxnews\"][df_te_t['emotion']==\"fear\"]['value'],\n",
    "                      df_te_t[df_te_t['journal']==\"nytimes\"][df_te_t['emotion']==\"fear\"]['value'],equal_var=True)\n",
    "res2 = stats.ttest_ind(df_te_t[df_te_t['journal']==\"foxnews\"][df_te_t['emotion']==\"happy\"]['value'],\n",
    "                       df_te_t[df_te_t['journal']==\"nytimes\"][df_te_t['emotion']==\"happy\"]['value'],equal_var=True) \n",
    "res3 = stats.ttest_ind(df_te_t[df_te_t['journal']==\"foxnews\"][df_te_t['emotion']==\"angry\"]['value'],\n",
    "                       df_te_t[df_te_t['journal']==\"nytimes\"][df_te_t['emotion']==\"angry\"]['value'],equal_var=True) \n",
    "res4 = stats.ttest_ind(df_te_t[df_te_t['journal']==\"foxnews\"][df_te_t['emotion']==\"surprise\"]['value'],\n",
    "                       df_te_t[df_te_t['journal']==\"nytimes\"][df_te_t['emotion']==\"surprise\"]['value'],equal_var=True) \n",
    "res5 = stats.ttest_ind(df_te_t[df_te_t['journal']==\"foxnews\"][df_te_t['emotion']==\"sad\"]['value'],\n",
    "                       df_te_t[df_te_t['journal']==\"nytimes\"][df_te_t['emotion']==\"sad\"]['value'],equal_var=True) \n",
    "\n",
    "print(res)\n",
    "print(res2)\n",
    "print(res3)\n",
    "print(res4)\n",
    "print(res5)"
   ]
  },
  {
   "cell_type": "code",
   "execution_count": 17,
   "metadata": {},
   "outputs": [
    {
     "data": {
      "text/plain": [
       "<matplotlib.axes._subplots.AxesSubplot at 0x1d8429e3388>"
      ]
     },
     "execution_count": 17,
     "metadata": {},
     "output_type": "execute_result"
    },
    {
     "data": {
      "image/png": "[encoded data removed]",
      "text/plain": [
       "<Figure size 432x288 with 1 Axes>"
      ]
     },
     "metadata": {
      "needs_background": "light"
     },
     "output_type": "display_data"
    }
   ],
   "source": [
    "sns.violinplot(x = 'emotion', y = \"value\", hue=\"journal\",\n",
    "                    data=df_te_t, palette=\"muted\", split=True)"
   ]
  },
  {
   "cell_type": "code",
   "execution_count": 19,
   "metadata": {},
   "outputs": [],
   "source": [
    "lst = [df_te_t]\n",
    "del lst     "
   ]
  },
  {
   "cell_type": "markdown",
   "metadata": {},
   "source": [
    "## Climate change"
   ]
  },
  {
   "cell_type": "code",
   "execution_count": 21,
   "metadata": {},
   "outputs": [],
   "source": [
    "df_cc_t = pd.DataFrame(columns=['emotion','value','journal'])\n",
    "\n",
    "lista = [words_ClimateChange]\n",
    "lista2 = ['climate change']\n",
    "\n",
    "\n",
    "df_fox_word = df_fox[df_fox['quotation'].str.contains([l for l in lista][0])]\n",
    "count_fox = len(df_fox_word)\n",
    "n = len(df_fox)\n",
    "\n",
    "for quotation in df_fox_word['quotation']:\n",
    "    \n",
    "    di=te.get_emotion(quotation)\n",
    "    fear=di.get('Fear')\n",
    "    happy=di.get('Happy')\n",
    "    angry=di.get('Angry')\n",
    "    surprise=di.get('Surprise')\n",
    "    sad=di.get('Sad')\n",
    "    \n",
    "    newr = pd.Series(data = {'emotion': \"fear\", 'value': fear, 'journal': \"foxnews\"}, name = 'x')\n",
    "    df_cc_t = df_cc_t.append(newr, ignore_index=True)\n",
    "    \n",
    "    newr = pd.Series(data = {'emotion': \"happy\", 'value': happy, 'journal': \"foxnews\"}, name = 'x')\n",
    "    df_cc_t = df_cc_t.append(newr, ignore_index=True)\n",
    "    \n",
    "    newr = pd.Series(data = {'emotion': \"angry\", 'value': angry, 'journal': \"foxnews\"}, name = 'x')\n",
    "    df_cc_t = df_cc_t.append(newr, ignore_index=True)\n",
    "    \n",
    "\n",
    "    newr = pd.Series(data = {'emotion': \"surprise\", 'value': surprise, 'journal': \"foxnews\"}, name = 'x')\n",
    "    df_cc_t = df_cc_t.append(newr, ignore_index=True)\n",
    "    \n",
    "    newr = pd.Series(data = {'emotion': \"sad\", 'value': sad, 'journal': \"foxnews\"}, name = 'x')\n",
    "    df_cc_t = df_cc_t.append(newr, ignore_index=True)\n",
    "    \n",
    "\n",
    "df_ny_word = df_ny[df_ny['quotation'].str.contains([l for l in lista][0])]\n",
    "count_ny = len(df_ny_word)\n",
    "m = len(df_ny)\n",
    "\n",
    "\n",
    "for quotation in df_ny_word['quotation']:\n",
    "    \n",
    "    di=te.get_emotion(quotation)\n",
    "    fear=di.get('Fear')\n",
    "    happy=di.get('Happy')\n",
    "    angry=di.get('Angry')\n",
    "    surprise=di.get('Surprise')\n",
    "    sad=di.get('Sad')\n",
    "    \n",
    "    newr = pd.Series(data = {'emotion': \"fear\", 'value': fear, 'journal': \"nytimes\"}, name = 'x')\n",
    "    df_cc_t = df_cc_t.append(newr, ignore_index=True)\n",
    "    \n",
    "    newr = pd.Series(data = {'emotion': \"happy\", 'value': happy, 'journal': \"nytimes\"}, name = 'x')\n",
    "    df_cc_t = df_cc_t.append(newr, ignore_index=True)\n",
    "    \n",
    "    newr = pd.Series(data = {'emotion': \"angry\", 'value': angry, 'journal': \"nytimes\"}, name = 'x')\n",
    "    df_cc_t = df_cc_t.append(newr, ignore_index=True)\n",
    "    \n",
    "\n",
    "    newr = pd.Series(data = {'emotion': \"surprise\", 'value': surprise, 'journal': \"nytimes\"}, name = 'x')\n",
    "    df_cc_t = df_cc_t.append(newr, ignore_index=True)\n",
    "    \n",
    "    newr = pd.Series(data = {'emotion': \"sad\", 'value': sad, 'journal': \"nytimes\"}, name = 'x')\n",
    "    df_cc_t = df_cc_t.append(newr, ignore_index=True)"
   ]
  },
  {
   "cell_type": "code",
   "execution_count": 22,
   "metadata": {},
   "outputs": [
    {
     "name": "stdout",
     "output_type": "stream",
     "text": [
      "P-Value:1.0 T-Statistic:0.0\n"
     ]
    }
   ],
   "source": [
    "res = stats.ttest_ind(df_cc_t[df_cc_t['journal']==\"foxnews\"][df_cc_t['emotion']==\"fear\"]['value'],\n",
    "                      df_cc_t[df_cc_t['journal']==\"nytimes\"][df_cc_t['emotion']==\"fear\"]['value'],equal_var=True)\n",
    "res2 = stats.ttest_ind(df_cc_t[df_cc_t['journal']==\"foxnews\"][df_cc_t['emotion']==\"happy\"]['value'],\n",
    "                       df_cc_t[df_cc_t['journal']==\"nytimes\"][df_cc_t['emotion']==\"happy\"]['value'],equal_var=True) \n",
    "res3 = stats.ttest_ind(df_cc_t[df_cc_t['journal']==\"foxnews\"][df_cc_t['emotion']==\"angry\"]['value'],\n",
    "                       df_cc_t[df_cc_t['journal']==\"nytimes\"][df_cc_t['emotion']==\"angry\"]['value'],equal_var=True) \n",
    "res4 = stats.ttest_ind(df_cc_t[df_cc_t['journal']==\"foxnews\"][df_cc_t['emotion']==\"surprise\"]['value'],\n",
    "                       df_cc_t[df_cc_t['journal']==\"nytimes\"][df_cc_t['emotion']==\"surprise\"]['value'],equal_var=True) \n",
    "res5 = stats.ttest_ind(df_cc_t[df_cc_t['journal']==\"foxnews\"][df_cc_t['emotion']==\"sad\"]['value'],\n",
    "                       df_cc_t[df_cc_t['journal']==\"nytimes\"][df_cc_t['emotion']==\"sad\"]['value'],equal_var=True) \n",
    "\n",
    "print(res)\n",
    "print(res2)\n",
    "print(res3)\n",
    "print(res4)\n",
    "print(res5)"
   ]
  },
  {
   "cell_type": "code",
   "execution_count": 24,
   "metadata": {},
   "outputs": [
    {
     "data": {
      "text/plain": [
       "<matplotlib.axes._subplots.AxesSubplot at 0x1d84809b5c8>"
      ]
     },
     "execution_count": 24,
     "metadata": {},
     "output_type": "execute_result"
    },
    {
     "data": {
      "image/png": "[encoded data removed]",
      "text/plain": [
       "<Figure size 432x288 with 1 Axes>"
      ]
     },
     "metadata": {
      "needs_background": "light"
     },
     "output_type": "display_data"
    }
   ],
   "source": [
    "sns.violinplot(x = 'emotion', y = \"value\", hue=\"journal\",\n",
    "                    data=df_cc_t, palette=\"muted\", split=True)"
   ]
  },
  {
   "cell_type": "code",
   "execution_count": 26,
   "metadata": {},
   "outputs": [],
   "source": [
    "lst = [df_cc_t]\n",
    "del lst     "
   ]
  },
  {
   "cell_type": "markdown",
   "metadata": {},
   "source": [
    "## Abortion"
   ]
  },
  {
   "cell_type": "code",
   "execution_count": 28,
   "metadata": {},
   "outputs": [],
   "source": [
    "df_ab_t = pd.DataFrame(columns=['emotion','value','journal'])\n",
    "\n",
    "lista = [words_abortion]\n",
    "lista2 = ['abortion']\n",
    "\n",
    "\n",
    "df_fox_word = df_fox[df_fox['quotation'].str.contains([l for l in lista][0])]\n",
    "count_fox = len(df_fox_word)\n",
    "n = len(df_fox)\n",
    "\n",
    "for quotation in df_fox_word['quotation']:\n",
    "    \n",
    "    di=te.get_emotion(quotation)\n",
    "    fear=di.get('Fear')\n",
    "    happy=di.get('Happy')\n",
    "    angry=di.get('Angry')\n",
    "    surprise=di.get('Surprise')\n",
    "    sad=di.get('Sad')\n",
    "    \n",
    "    newr = pd.Series(data = {'emotion': \"fear\", 'value': fear, 'journal': \"foxnews\"}, name = 'x')\n",
    "    df_ab_t = df_ab_t.append(newr, ignore_index=True)\n",
    "    \n",
    "    newr = pd.Series(data = {'emotion': \"happy\", 'value': happy, 'journal': \"foxnews\"}, name = 'x')\n",
    "    df_ab_t = df_ab_t.append(newr, ignore_index=True)\n",
    "    \n",
    "    newr = pd.Series(data = {'emotion': \"angry\", 'value': angry, 'journal': \"foxnews\"}, name = 'x')\n",
    "    df_ab_t = df_ab_t.append(newr, ignore_index=True)\n",
    "    \n",
    "\n",
    "    newr = pd.Series(data = {'emotion': \"surprise\", 'value': surprise, 'journal': \"foxnews\"}, name = 'x')\n",
    "    df_ab_t = df_ab_t.append(newr, ignore_index=True)\n",
    "    \n",
    "    newr = pd.Series(data = {'emotion': \"sad\", 'value': sad, 'journal': \"foxnews\"}, name = 'x')\n",
    "    df_ab_t = df_ab_t.append(newr, ignore_index=True)\n",
    "    \n",
    "\n",
    "df_ny_word = df_ny[df_ny['quotation'].str.contains([l for l in lista][0])]\n",
    "count_ny = len(df_ny_word)\n",
    "m = len(df_ny)\n",
    "\n",
    "\n",
    "for quotation in df_ny_word['quotation']:\n",
    "    \n",
    "    di=te.get_emotion(quotation)\n",
    "    fear=di.get('Fear')\n",
    "    happy=di.get('Happy')\n",
    "    angry=di.get('Angry')\n",
    "    surprise=di.get('Surprise')\n",
    "    sad=di.get('Sad')\n",
    "    \n",
    "    newr = pd.Series(data = {'emotion': \"fear\", 'value': fear, 'journal': \"nytimes\"}, name = 'x')\n",
    "    df_ab_t = df_ab_t.append(newr, ignore_index=True)\n",
    "    \n",
    "    newr = pd.Series(data = {'emotion': \"happy\", 'value': happy, 'journal': \"nytimes\"}, name = 'x')\n",
    "    df_ab_t = df_ab_t.append(newr, ignore_index=True)\n",
    "    \n",
    "    newr = pd.Series(data = {'emotion': \"angry\", 'value': angry, 'journal': \"nytimes\"}, name = 'x')\n",
    "    df_ab_t = df_ab_t.append(newr, ignore_index=True)\n",
    "    \n",
    "\n",
    "    newr = pd.Series(data = {'emotion': \"surprise\", 'value': surprise, 'journal': \"nytimes\"}, name = 'x')\n",
    "    df_ab_t = df_ab_t.append(newr, ignore_index=True)\n",
    "    \n",
    "    newr = pd.Series(data = {'emotion': \"sad\", 'value': sad, 'journal': \"nytimes\"}, name = 'x')\n",
    "    df_ab_t = df_ab_t.append(newr, ignore_index=True)"
   ]
  },
  {
   "cell_type": "code",
   "execution_count": 30,
   "metadata": {},
   "outputs": [
    {
     "name": "stdout",
     "output_type": "stream",
     "text": [
      "Surprise   P-Value:0.8703105878100303 T-Statistic:0.1632860430845748\n",
      "Sad   P-Value:0.8703105878100303 T-Statistic:0.1632860430845748\n"
     ]
    }
   ],
   "source": [
    "res = stats.ttest_ind(df_ab_t[df_ab_t['journal']==\"foxnews\"][df_ab_t['emotion']==\"fear\"]['value'],\n",
    "                      df_ab_t[df_ab_t['journal']==\"nytimes\"][df_ab_t['emotion']==\"fear\"]['value'],equal_var=True)\n",
    "res2 = stats.ttest_ind(df_ab_t[df_ab_t['journal']==\"foxnews\"][df_ab_t['emotion']==\"happy\"]['value'],\n",
    "                       df_ab_t[df_ab_t['journal']==\"nytimes\"][df_ab_t['emotion']==\"happy\"]['value'],equal_var=True) \n",
    "res3 = stats.ttest_ind(df_ab_t[df_ab_t['journal']==\"foxnews\"][df_ab_t['emotion']==\"angry\"]['value'],\n",
    "                       df_ab_t[df_ab_t['journal']==\"nytimes\"][df_ab_t['emotion']==\"angry\"]['value'],equal_var=True) \n",
    "res4 = stats.ttest_ind(df_ab_t[df_ab_t['journal']==\"foxnews\"][df_ab_t['emotion']==\"surprise\"]['value'],\n",
    "                       df_ab_t[df_ab_t['journal']==\"nytimes\"][df_ab_t['emotion']==\"surprise\"]['value'],equal_var=True) \n",
    "res5 = stats.ttest_ind(df_ab_t[df_ab_t['journal']==\"foxnews\"][df_ab_t['emotion']==\"sad\"]['value'],\n",
    "                       df_ab_t[df_ab_t['journal']==\"nytimes\"][df_ab_t['emotion']==\"sad\"]['value'],equal_var=True) \n",
    "\n",
    "print(res)\n",
    "print(res2)\n",
    "print(res3)\n",
    "print(res4)\n",
    "print(res5)"
   ]
  },
  {
   "cell_type": "code",
   "execution_count": 31,
   "metadata": {},
   "outputs": [
    {
     "data": {
      "text/plain": [
       "<matplotlib.axes._subplots.AxesSubplot at 0x1d842b31548>"
      ]
     },
     "execution_count": 31,
     "metadata": {},
     "output_type": "execute_result"
    },
    {
     "data": {
      "image/png": "[encoded data removed]",
      "text/plain": [
       "<Figure size 432x288 with 1 Axes>"
      ]
     },
     "metadata": {
      "needs_background": "light"
     },
     "output_type": "display_data"
    }
   ],
   "source": [
    "sns.violinplot(x = 'emotion', y = \"value\", hue=\"journal\",\n",
    "                    data=df_cc_t, palette=\"muted\", split=True)"
   ]
  },
  {
   "cell_type": "code",
   "execution_count": 33,
   "metadata": {},
   "outputs": [],
   "source": [
    "lst = [df_ab_t]\n",
    "del lst  "
   ]
  },
  {
   "cell_type": "markdown",
   "metadata": {},
   "source": [
    "## Religion"
   ]
  },
  {
   "cell_type": "code",
   "execution_count": 37,
   "metadata": {},
   "outputs": [],
   "source": [
    "df_re_t = pd.DataFrame(columns=['emotion','value','journal'])\n",
    "\n",
    "lista = [words_religion]\n",
    "lista2 = ['religion']\n",
    "\n",
    "\n",
    "df_fox_word = df_fox[df_fox['quotation'].str.contains([l for l in lista][0])]\n",
    "count_fox = len(df_fox_word)\n",
    "n = len(df_fox)\n",
    "\n",
    "for quotation in df_fox_word['quotation']:\n",
    "    \n",
    "    di=te.get_emotion(quotation)\n",
    "    fear=di.get('Fear')\n",
    "    happy=di.get('Happy')\n",
    "    angry=di.get('Angry')\n",
    "    surprise=di.get('Surprise')\n",
    "    sad=di.get('Sad')\n",
    "    \n",
    "    newr = pd.Series(data = {'emotion': \"fear\", 'value': fear, 'journal': \"foxnews\"}, name = 'x')\n",
    "    df_re_t = df_re_t.append(newr, ignore_index=True)\n",
    "    \n",
    "    newr = pd.Series(data = {'emotion': \"happy\", 'value': happy, 'journal': \"foxnews\"}, name = 'x')\n",
    "    df_re_t = df_re_t.append(newr, ignore_index=True)\n",
    "    \n",
    "    newr = pd.Series(data = {'emotion': \"angry\", 'value': angry, 'journal': \"foxnews\"}, name = 'x')\n",
    "    df_re_t = df_re_t.append(newr, ignore_index=True)\n",
    "\n",
    "\n",
    "    newr = pd.Series(data = {'emotion': \"surprise\", 'value': surprise, 'journal': \"foxnews\"}, name = 'x')\n",
    "    df_re_t = df_re_t.append(newr, ignore_index=True)\n",
    "    \n",
    "    newr = pd.Series(data = {'emotion': \"sad\", 'value': sad, 'journal': \"foxnews\"}, name = 'x')\n",
    "    df_re_t = df_re_t.append(newr, ignore_index=True)\n",
    "    \n",
    "\n",
    "df_ny_word = df_ny[df_ny['quotation'].str.contains([l for l in lista][0])]\n",
    "count_ny = len(df_ny_word)\n",
    "m = len(df_ny)\n",
    "\n",
    "\n",
    "for quotation in df_ny_word['quotation']:\n",
    "    \n",
    "    di=te.get_emotion(quotation)\n",
    "    fear=di.get('Fear')\n",
    "    happy=di.get('Happy')\n",
    "    angry=di.get('Angry')\n",
    "    surprise=di.get('Surprise')\n",
    "    sad=di.get('Sad')\n",
    "    \n",
    "    newr = pd.Series(data = {'emotion': \"fear\", 'value': fear, 'journal': \"nytimes\"}, name = 'x')\n",
    "    df_re_t = df_re_t.append(newr, ignore_index=True)\n",
    "    \n",
    "    newr = pd.Series(data = {'emotion': \"happy\", 'value': happy, 'journal': \"nytimes\"}, name = 'x')\n",
    "    df_re_t = df_re_t.append(newr, ignore_index=True)\n",
    "    \n",
    "    newr = pd.Series(data = {'emotion': \"angry\", 'value': angry, 'journal': \"nytimes\"}, name = 'x')\n",
    "    df_re_t = df_re_t.append(newr, ignore_index=True)\n",
    "    \n",
    "\n",
    "    newr = pd.Series(data = {'emotion': \"surprise\", 'value': surprise, 'journal': \"nytimes\"}, name = 'x')\n",
    "    df_re_t = df_re_t.append(newr, ignore_index=True)\n",
    "    \n",
    "    newr = pd.Series(data = {'emotion': \"sad\", 'value': sad, 'journal': \"nytimes\"}, name = 'x')\n",
    "    df_re_t = df_re_t.append(newr, ignore_index=True)"
   ]
  },
  {
   "cell_type": "code",
   "execution_count": 38,
   "metadata": {},
   "outputs": [
    {
     "name": "stdout",
     "output_type": "stream",
     "text": [
      "P-Value:0.05232623718546879 T-Statistic:1.9405456190570267\n"
     ]
    }
   ],
   "source": [
    "res = stats.ttest_ind(df_re_t[df_re_t['journal']==\"foxnews\"][df_re_t['emotion']==\"fear\"]['value'],\n",
    "                      df_re_t[df_re_t['journal']==\"nytimes\"][df_re_t['emotion']==\"fear\"]['value'],equal_var=True)\n",
    "res2 = stats.ttest_ind(df_re_t[df_re_t['journal']==\"foxnews\"][df_re_t['emotion']==\"happy\"]['value'],\n",
    "                       df_re_t[df_re_t['journal']==\"nytimes\"][df_re_t['emotion']==\"happy\"]['value'],equal_var=True) \n",
    "res3 = stats.ttest_ind(df_re_t[df_re_t['journal']==\"foxnews\"][df_re_t['emotion']==\"angry\"]['value'],\n",
    "                       df_re_t[df_re_t['journal']==\"nytimes\"][df_re_t['emotion']==\"angry\"]['value'],equal_var=True) \n",
    "res4 = stats.ttest_ind(df_re_t[df_re_t['journal']==\"foxnews\"][df_re_t['emotion']==\"surprise\"]['value'],\n",
    "                       df_re_t[df_re_t['journal']==\"nytimes\"][df_re_t['emotion']==\"surprise\"]['value'],equal_var=True) \n",
    "res5 = stats.ttest_ind(df_re_t[df_re_t['journal']==\"foxnews\"][df_re_t['emotion']==\"sad\"]['value'],\n",
    "                       df_re_t[df_re_t['journal']==\"nytimes\"][df_re_t['emotion']==\"sad\"]['value'],equal_var=True) \n",
    "\n",
    "print(res)\n",
    "print(res2)\n",
    "print(res3)\n",
    "print(res4)\n",
    "print(res5)"
   ]
  },
  {
   "cell_type": "code",
   "execution_count": null,
   "metadata": {},
   "outputs": [],
   "source": [
    "sns.violinplot(x = 'emotion', y = \"value\", hue=\"journal\",\n",
    "                    data=df_re_t, palette=\"muted\", split=True)"
   ]
  },
  {
   "cell_type": "code",
   "execution_count": null,
   "metadata": {},
   "outputs": [],
   "source": [
    "lst = [df_re_t]\n",
    "del lst  "
   ]
  },
  {
   "cell_type": "markdown",
   "metadata": {},
   "source": [
    "## Racism"
   ]
  },
  {
   "cell_type": "code",
   "execution_count": null,
   "metadata": {},
   "outputs": [],
   "source": [
    "df_re_t = pd.DataFrame(columns=['emotion','value','journal'])\n",
    "\n",
    "lista = [words_racism]\n",
    "lista2 = ['racism']\n",
    "\n",
    "\n",
    "df_fox_word = df_fox[df_fox['quotation'].str.contains([l for l in lista][0])]\n",
    "count_fox = len(df_fox_word)\n",
    "n = len(df_fox)\n",
    "\n",
    "for quotation in df_fox_word['quotation']:\n",
    "    \n",
    "    di=te.get_emotion(quotation)\n",
    "    fear=di.get('Fear')\n",
    "    happy=di.get('Happy')\n",
    "    angry=di.get('Angry')\n",
    "    surprise=di.get('Surprise')\n",
    "    sad=di.get('Sad')\n",
    "    \n",
    "    newr = pd.Series(data = {'emotion': \"fear\", 'value': fear, 'journal': \"foxnews\"}, name = 'x')\n",
    "    df_ra_t = df_ra_t.append(newr, ignore_index=True)\n",
    "    \n",
    "    newr = pd.Series(data = {'emotion': \"happy\", 'value': happy, 'journal': \"foxnews\"}, name = 'x')\n",
    "    df_ra_t = df_ra_t.append(newr, ignore_index=True)\n",
    "    \n",
    "    newr = pd.Series(data = {'emotion': \"angry\", 'value': angry, 'journal': \"foxnews\"}, name = 'x')\n",
    "    df_ra_t = df_ra_t.append(newr, ignore_index=True)\n",
    "\n",
    "\n",
    "    newr = pd.Series(data = {'emotion': \"surprise\", 'value': surprise, 'journal': \"foxnews\"}, name = 'x')\n",
    "    df_ra_t = df_ra_t.append(newr, ignore_index=True)\n",
    "    \n",
    "    newr = pd.Series(data = {'emotion': \"sad\", 'value': sad, 'journal': \"foxnews\"}, name = 'x')\n",
    "    df_ra_t = df_ra_t.append(newr, ignore_index=True)\n",
    "    \n",
    "\n",
    "df_ny_word = df_ny[df_ny['quotation'].str.contains([l for l in lista][0])]\n",
    "count_ny = len(df_ny_word)\n",
    "m = len(df_ny)\n",
    "\n",
    "\n",
    "for quotation in df_ny_word['quotation']:\n",
    "    \n",
    "    di=te.get_emotion(quotation)\n",
    "    fear=di.get('Fear')\n",
    "    happy=di.get('Happy')\n",
    "    angry=di.get('Angry')\n",
    "    surprise=di.get('Surprise')\n",
    "    sad=di.get('Sad')\n",
    "    \n",
    "    newr = pd.Series(data = {'emotion': \"fear\", 'value': fear, 'journal': \"nytimes\"}, name = 'x')\n",
    "    df_ra_t = df_ra_t.append(newr, ignore_index=True)\n",
    "    \n",
    "    newr = pd.Series(data = {'emotion': \"happy\", 'value': happy, 'journal': \"nytimes\"}, name = 'x')\n",
    "    df_ra_t = df_ra_t.append(newr, ignore_index=True)\n",
    "    \n",
    "    newr = pd.Series(data = {'emotion': \"angry\", 'value': angry, 'journal': \"nytimes\"}, name = 'x')\n",
    "    df_ra_t = df_ra_t.append(newr, ignore_index=True)\n",
    "    \n",
    "\n",
    "    newr = pd.Series(data = {'emotion': \"surprise\", 'value': surprise, 'journal': \"nytimes\"}, name = 'x')\n",
    "    df_ra_t = df_ra_t.append(newr, ignore_index=True)\n",
    "    \n",
    "    newr = pd.Series(data = {'emotion': \"sad\", 'value': sad, 'journal': \"nytimes\"}, name = 'x')\n",
    "    df_ra_t = df_ra_t.append(newr, ignore_index=True)"
   ]
  },
  {
   "cell_type": "code",
   "execution_count": null,
   "metadata": {},
   "outputs": [],
   "source": [
    "res = stats.ttest_ind(df_ra_t[df_ra_t['journal']==\"foxnews\"][df_ra_t['emotion']==\"fear\"]['value'],\n",
    "                      df_ra_t[df_ra_t['journal']==\"nytimes\"][df_ra_t['emotion']==\"fear\"]['value'],equal_var=True)\n",
    "res2 = stats.ttest_ind(df_ra_t[df_ra_t['journal']==\"foxnews\"][df_ra_t['emotion']==\"happy\"]['value'],\n",
    "                       df_ra_t[df_ra_t['journal']==\"nytimes\"][df_ra_t['emotion']==\"happy\"]['value'],equal_var=True) \n",
    "res3 = stats.ttest_ind(df_ra_t[df_ra_t['journal']==\"foxnews\"][df_ra_t['emotion']==\"angry\"]['value'],\n",
    "                       df_ra_t[df_ra_t['journal']==\"nytimes\"][df_ra_t['emotion']==\"angry\"]['value'],equal_var=True) \n",
    "res4 = stats.ttest_ind(df_ra_t[df_ra_t['journal']==\"foxnews\"][df_ra_t['emotion']==\"surprise\"]['value'],\n",
    "                       df_ra_t[df_ra_t['journal']==\"nytimes\"][df_ra_t['emotion']==\"surprise\"]['value'],equal_var=True) \n",
    "res5 = stats.ttest_ind(df_ra_t[df_ra_t['journal']==\"foxnews\"][df_ra_t['emotion']==\"sad\"]['value'],\n",
    "                       df_ra_t[df_ra_t['journal']==\"nytimes\"][df_ra_t['emotion']==\"sad\"]['value'],equal_var=True) \n",
    "\n",
    "print(res)\n",
    "print(res2)\n",
    "print(res3)\n",
    "print(res4)\n",
    "print(res5)"
   ]
  },
  {
   "cell_type": "code",
   "execution_count": null,
   "metadata": {},
   "outputs": [],
   "source": [
    "sns.violinplot(x = 'emotion', y = \"value\", hue=\"journal\",\n",
    "                    data=df_ra_t, palette=\"muted\", split=True)"
   ]
  },
  {
   "cell_type": "code",
   "execution_count": null,
   "metadata": {},
   "outputs": [],
   "source": [
    "lst = [df_ra_t]\n",
    "del lst  "
   ]
  },
  {
   "cell_type": "code",
   "execution_count": null,
   "metadata": {},
   "outputs": [],
   "source": []
  }
 ],
 "metadata": {
  "kernelspec": {
   "display_name": "Python 3",
   "language": "python",
   "name": "python3"
  }
 },
 "nbformat": 4,
 "nbformat_minor": 2
}
