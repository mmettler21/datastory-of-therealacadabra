{
 "cells": [
  {
   "cell_type": "code",
   "execution_count": 1,
   "metadata": {},
   "outputs": [],
   "source": [
    "import seaborn as sns\n",
    "from IPython.display import display, HTML\n",
    "import matplotlib.pyplot as plt\n",
    "import scipy.stats as stats\n",
    "import pandas as pd\n",
    "import numpy as np\n",
    "import bz2\n",
    "import json\n",
    "from urllib.parse import urlparse\n",
    "import nltk\n",
    "from nltk.sentiment import SentimentIntensityAnalyzer\n",
    "import os\n",
    "import glob\n",
    "import pickle"
   ]
  },
  {
   "cell_type": "code",
   "execution_count": 2,
   "metadata": {},
   "outputs": [],
   "source": [
    "from scipy import stats"
   ]
  },
  {
   "cell_type": "code",
   "execution_count": 64,
   "metadata": {},
   "outputs": [],
   "source": [
    "def read_yearly(y):\n",
    "    PATH = 'data/'\n",
    "    df1 = pd.DataFrame()\n",
    "    df2 = pd.DataFrame()\n",
    "\n",
    "    df1 = pd.read_pickle(PATH + str(y) + '_' + 'Fox_quotations.pkl')\n",
    "    df2.append(df1)\n",
    "    return df1"
   ]
  },
  {
   "cell_type": "code",
   "execution_count": 65,
   "metadata": {},
   "outputs": [],
   "source": [
    "def read_yearly2(y):\n",
    "    PATH = 'data/'\n",
    "    df1 = pd.DataFrame()\n",
    "    df2 = pd.DataFrame()\n",
    "\n",
    "    df1 = pd.read_pickle(PATH + str(y) + '_' + 'NY_quotations.pkl')\n",
    "    df2.append(df1)\n",
    "    return df1"
   ]
  },
  {
   "cell_type": "code",
   "execution_count": 68,
   "metadata": {},
   "outputs": [
    {
     "name": "stdout",
     "output_type": "stream",
     "text": [
      "a\n",
      "a\n",
      "a\n",
      "a\n",
      "a\n",
      "a\n",
      "b\n",
      "b\n",
      "b\n",
      "b\n",
      "b\n",
      "b\n"
     ]
    }
   ],
   "source": [
    "years = [2015, 2016, 2017, 2018, 2019, 2020]\n",
    "\n",
    "df_fox = pd.DataFrame()\n",
    "df_ny = pd.DataFrame()\n",
    "for y in years:\n",
    "    df_fox.index\n",
    "    df_fox = df_fox.append(read_yearly(y))\n",
    "    df_fox\n",
    "    \n",
    "\n",
    "for y in years:\n",
    "    df_ny.index\n",
    "    df_ny = df_ny.append(read_yearly2(y))"
   ]
  },
  {
   "cell_type": "code",
   "execution_count": 69,
   "metadata": {},
   "outputs": [
    {
     "data": {
      "text/html": [
       "<div>\n",
       "<style scoped>\n",
       "    .dataframe tbody tr th:only-of-type {\n",
       "        vertical-align: middle;\n",
       "    }\n",
       "\n",
       "    .dataframe tbody tr th {\n",
       "        vertical-align: top;\n",
       "    }\n",
       "\n",
       "    .dataframe thead th {\n",
       "        text-align: right;\n",
       "    }\n",
       "</style>\n",
       "<table border=\"1\" class=\"dataframe\">\n",
       "  <thead>\n",
       "    <tr style=\"text-align: right;\">\n",
       "      <th></th>\n",
       "      <th>190</th>\n",
       "      <th>555</th>\n",
       "      <th>594</th>\n",
       "      <th>643</th>\n",
       "      <th>771</th>\n",
       "      <th>784</th>\n",
       "      <th>833</th>\n",
       "      <th>1016</th>\n",
       "      <th>1035</th>\n",
       "      <th>1319</th>\n",
       "      <th>...</th>\n",
       "      <th>5243011</th>\n",
       "      <th>5243048</th>\n",
       "      <th>5243111</th>\n",
       "      <th>5243228</th>\n",
       "      <th>5243368</th>\n",
       "      <th>5243402</th>\n",
       "      <th>5243875</th>\n",
       "      <th>5243940</th>\n",
       "      <th>5243947</th>\n",
       "      <th>5244208</th>\n",
       "    </tr>\n",
       "  </thead>\n",
       "  <tbody>\n",
       "    <tr>\n",
       "      <td>quotation</td>\n",
       "      <td>a good, strong, honorable man.</td>\n",
       "      <td>I don't know any other way he could have taken...</td>\n",
       "      <td>Alcohol interlocks are used very effectively i...</td>\n",
       "      <td>I don't think, in effect, Obama was negotiatin...</td>\n",
       "      <td>I felt like a hole in my heart had been filled,</td>\n",
       "      <td>An email included in the latest tranche of Cli...</td>\n",
       "      <td>I got back in the game and got the nerves out ...</td>\n",
       "      <td>And what, exactly, does MUFON serve up from it...</td>\n",
       "      <td>I have several favorite verses. But number one...</td>\n",
       "      <td>I like to zone out when I watch TV.</td>\n",
       "      <td>...</td>\n",
       "      <td>NaN</td>\n",
       "      <td>NaN</td>\n",
       "      <td>NaN</td>\n",
       "      <td>NaN</td>\n",
       "      <td>NaN</td>\n",
       "      <td>NaN</td>\n",
       "      <td>NaN</td>\n",
       "      <td>NaN</td>\n",
       "      <td>NaN</td>\n",
       "      <td>NaN</td>\n",
       "    </tr>\n",
       "    <tr>\n",
       "      <td>quotation</td>\n",
       "      <td>NaN</td>\n",
       "      <td>NaN</td>\n",
       "      <td>NaN</td>\n",
       "      <td>NaN</td>\n",
       "      <td>NaN</td>\n",
       "      <td>NaN</td>\n",
       "      <td>NaN</td>\n",
       "      <td>NaN</td>\n",
       "      <td>NaN</td>\n",
       "      <td>NaN</td>\n",
       "      <td>...</td>\n",
       "      <td>NaN</td>\n",
       "      <td>NaN</td>\n",
       "      <td>NaN</td>\n",
       "      <td>NaN</td>\n",
       "      <td>NaN</td>\n",
       "      <td>NaN</td>\n",
       "      <td>NaN</td>\n",
       "      <td>NaN</td>\n",
       "      <td>NaN</td>\n",
       "      <td>NaN</td>\n",
       "    </tr>\n",
       "    <tr>\n",
       "      <td>quotation</td>\n",
       "      <td>NaN</td>\n",
       "      <td>NaN</td>\n",
       "      <td>NaN</td>\n",
       "      <td>NaN</td>\n",
       "      <td>NaN</td>\n",
       "      <td>NaN</td>\n",
       "      <td>NaN</td>\n",
       "      <td>NaN</td>\n",
       "      <td>NaN</td>\n",
       "      <td>NaN</td>\n",
       "      <td>...</td>\n",
       "      <td>NaN</td>\n",
       "      <td>NaN</td>\n",
       "      <td>NaN</td>\n",
       "      <td>NaN</td>\n",
       "      <td>NaN</td>\n",
       "      <td>NaN</td>\n",
       "      <td>NaN</td>\n",
       "      <td>NaN</td>\n",
       "      <td>NaN</td>\n",
       "      <td>NaN</td>\n",
       "    </tr>\n",
       "    <tr>\n",
       "      <td>quotation</td>\n",
       "      <td>NaN</td>\n",
       "      <td>NaN</td>\n",
       "      <td>NaN</td>\n",
       "      <td>NaN</td>\n",
       "      <td>NaN</td>\n",
       "      <td>NaN</td>\n",
       "      <td>NaN</td>\n",
       "      <td>NaN</td>\n",
       "      <td>NaN</td>\n",
       "      <td>NaN</td>\n",
       "      <td>...</td>\n",
       "      <td>NaN</td>\n",
       "      <td>NaN</td>\n",
       "      <td>NaN</td>\n",
       "      <td>NaN</td>\n",
       "      <td>NaN</td>\n",
       "      <td>NaN</td>\n",
       "      <td>NaN</td>\n",
       "      <td>NaN</td>\n",
       "      <td>NaN</td>\n",
       "      <td>NaN</td>\n",
       "    </tr>\n",
       "    <tr>\n",
       "      <td>quotation</td>\n",
       "      <td>NaN</td>\n",
       "      <td>NaN</td>\n",
       "      <td>NaN</td>\n",
       "      <td>NaN</td>\n",
       "      <td>NaN</td>\n",
       "      <td>NaN</td>\n",
       "      <td>NaN</td>\n",
       "      <td>NaN</td>\n",
       "      <td>NaN</td>\n",
       "      <td>NaN</td>\n",
       "      <td>...</td>\n",
       "      <td>NaN</td>\n",
       "      <td>NaN</td>\n",
       "      <td>NaN</td>\n",
       "      <td>NaN</td>\n",
       "      <td>NaN</td>\n",
       "      <td>NaN</td>\n",
       "      <td>NaN</td>\n",
       "      <td>NaN</td>\n",
       "      <td>NaN</td>\n",
       "      <td>NaN</td>\n",
       "    </tr>\n",
       "  </tbody>\n",
       "</table>\n",
       "<p>5 rows × 700251 columns</p>\n",
       "</div>"
      ],
      "text/plain": [
       "                                  190      \\\n",
       "quotation  a good, strong, honorable man.   \n",
       "quotation                             NaN   \n",
       "quotation                             NaN   \n",
       "quotation                             NaN   \n",
       "quotation                             NaN   \n",
       "\n",
       "                                                     555      \\\n",
       "quotation  I don't know any other way he could have taken...   \n",
       "quotation                                                NaN   \n",
       "quotation                                                NaN   \n",
       "quotation                                                NaN   \n",
       "quotation                                                NaN   \n",
       "\n",
       "                                                     594      \\\n",
       "quotation  Alcohol interlocks are used very effectively i...   \n",
       "quotation                                                NaN   \n",
       "quotation                                                NaN   \n",
       "quotation                                                NaN   \n",
       "quotation                                                NaN   \n",
       "\n",
       "                                                     643      \\\n",
       "quotation  I don't think, in effect, Obama was negotiatin...   \n",
       "quotation                                                NaN   \n",
       "quotation                                                NaN   \n",
       "quotation                                                NaN   \n",
       "quotation                                                NaN   \n",
       "\n",
       "                                                   771      \\\n",
       "quotation  I felt like a hole in my heart had been filled,   \n",
       "quotation                                              NaN   \n",
       "quotation                                              NaN   \n",
       "quotation                                              NaN   \n",
       "quotation                                              NaN   \n",
       "\n",
       "                                                     784      \\\n",
       "quotation  An email included in the latest tranche of Cli...   \n",
       "quotation                                                NaN   \n",
       "quotation                                                NaN   \n",
       "quotation                                                NaN   \n",
       "quotation                                                NaN   \n",
       "\n",
       "                                                     833      \\\n",
       "quotation  I got back in the game and got the nerves out ...   \n",
       "quotation                                                NaN   \n",
       "quotation                                                NaN   \n",
       "quotation                                                NaN   \n",
       "quotation                                                NaN   \n",
       "\n",
       "                                                     1016     \\\n",
       "quotation  And what, exactly, does MUFON serve up from it...   \n",
       "quotation                                                NaN   \n",
       "quotation                                                NaN   \n",
       "quotation                                                NaN   \n",
       "quotation                                                NaN   \n",
       "\n",
       "                                                     1035     \\\n",
       "quotation  I have several favorite verses. But number one...   \n",
       "quotation                                                NaN   \n",
       "quotation                                                NaN   \n",
       "quotation                                                NaN   \n",
       "quotation                                                NaN   \n",
       "\n",
       "                                       1319     ... 5243011 5243048 5243111  \\\n",
       "quotation  I like to zone out when I watch TV.  ...     NaN     NaN     NaN   \n",
       "quotation                                  NaN  ...     NaN     NaN     NaN   \n",
       "quotation                                  NaN  ...     NaN     NaN     NaN   \n",
       "quotation                                  NaN  ...     NaN     NaN     NaN   \n",
       "quotation                                  NaN  ...     NaN     NaN     NaN   \n",
       "\n",
       "          5243228 5243368 5243402 5243875 5243940 5243947 5244208  \n",
       "quotation     NaN     NaN     NaN     NaN     NaN     NaN     NaN  \n",
       "quotation     NaN     NaN     NaN     NaN     NaN     NaN     NaN  \n",
       "quotation     NaN     NaN     NaN     NaN     NaN     NaN     NaN  \n",
       "quotation     NaN     NaN     NaN     NaN     NaN     NaN     NaN  \n",
       "quotation     NaN     NaN     NaN     NaN     NaN     NaN     NaN  \n",
       "\n",
       "[5 rows x 700251 columns]"
      ]
     },
     "execution_count": 69,
     "metadata": {},
     "output_type": "execute_result"
    }
   ],
   "source": [
    "df_fox.head()"
   ]
  },
  {
   "cell_type": "code",
   "execution_count": 4,
   "metadata": {},
   "outputs": [],
   "source": [
    "#The chosen key words are selected here\n",
    "words_immigration = 'immigration|mexic|migrant|border|refugees'\n",
    "words_terrorism = 'shoot|gun|kill|attack|massacre|victim|terroris|arm|violen|death'\n",
    "words_ClimateChange = 'flood|greenhouse effect|CO2|global warming|pollution|glacier|ice pake melting|high temperatures|heat'\n",
    "words_abortion = 'abort|fetus'\n",
    "words_religion = 'God|Christian|Christianism|Belief|faith|prayer|commitment|islam|buddhism|hinduism|baptism|church|vatican|reincarnation|jesus'\n",
    "words_racism = 'White|Black|Black lives matter|All lives matter|discrimination|Segregation|George Floyd|Slaver|White supremacy|Klu Klux Klan|KKK|Gunshot|Trials|Police|Death sentence'"
   ]
  },
  {
   "cell_type": "code",
   "execution_count": 5,
   "metadata": {},
   "outputs": [],
   "source": [
    "sia = SentimentIntensityAnalyzer()\n",
    "from collections import namedtuple"
   ]
  },
  {
   "cell_type": "markdown",
   "metadata": {},
   "source": [
    "## Immigration"
   ]
  },
  {
   "cell_type": "code",
   "execution_count": 7,
   "metadata": {},
   "outputs": [
    {
     "ename": "KeyError",
     "evalue": "'quotation'",
     "output_type": "error",
     "traceback": [
      "\u001b[1;31m---------------------------------------------------------------------------\u001b[0m",
      "\u001b[1;31mKeyError\u001b[0m                                  Traceback (most recent call last)",
      "\u001b[1;32m~\\Anaconda3\\lib\\site-packages\\pandas\\core\\indexes\\base.py\u001b[0m in \u001b[0;36mget_loc\u001b[1;34m(self, key, method, tolerance)\u001b[0m\n\u001b[0;32m   2896\u001b[0m             \u001b[1;32mtry\u001b[0m\u001b[1;33m:\u001b[0m\u001b[1;33m\u001b[0m\u001b[1;33m\u001b[0m\u001b[0m\n\u001b[1;32m-> 2897\u001b[1;33m                 \u001b[1;32mreturn\u001b[0m \u001b[0mself\u001b[0m\u001b[1;33m.\u001b[0m\u001b[0m_engine\u001b[0m\u001b[1;33m.\u001b[0m\u001b[0mget_loc\u001b[0m\u001b[1;33m(\u001b[0m\u001b[0mkey\u001b[0m\u001b[1;33m)\u001b[0m\u001b[1;33m\u001b[0m\u001b[1;33m\u001b[0m\u001b[0m\n\u001b[0m\u001b[0;32m   2898\u001b[0m             \u001b[1;32mexcept\u001b[0m \u001b[0mKeyError\u001b[0m\u001b[1;33m:\u001b[0m\u001b[1;33m\u001b[0m\u001b[1;33m\u001b[0m\u001b[0m\n",
      "\u001b[1;32mpandas\\_libs\\index.pyx\u001b[0m in \u001b[0;36mpandas._libs.index.IndexEngine.get_loc\u001b[1;34m()\u001b[0m\n",
      "\u001b[1;32mpandas\\_libs\\index.pyx\u001b[0m in \u001b[0;36mpandas._libs.index.IndexEngine.get_loc\u001b[1;34m()\u001b[0m\n",
      "\u001b[1;32mpandas\\_libs\\hashtable_class_helper.pxi\u001b[0m in \u001b[0;36mpandas._libs.hashtable.PyObjectHashTable.get_item\u001b[1;34m()\u001b[0m\n",
      "\u001b[1;32mpandas\\_libs\\hashtable_class_helper.pxi\u001b[0m in \u001b[0;36mpandas._libs.hashtable.PyObjectHashTable.get_item\u001b[1;34m()\u001b[0m\n",
      "\u001b[1;31mKeyError\u001b[0m: 'quotation'",
      "\nDuring handling of the above exception, another exception occurred:\n",
      "\u001b[1;31mKeyError\u001b[0m                                  Traceback (most recent call last)",
      "\u001b[1;32m<ipython-input-7-15086466aeee>\u001b[0m in \u001b[0;36m<module>\u001b[1;34m\u001b[0m\n\u001b[0;32m      5\u001b[0m \u001b[1;33m\u001b[0m\u001b[0m\n\u001b[0;32m      6\u001b[0m \u001b[1;33m\u001b[0m\u001b[0m\n\u001b[1;32m----> 7\u001b[1;33m \u001b[0mdf_fox_word\u001b[0m \u001b[1;33m=\u001b[0m \u001b[0mdf_fox\u001b[0m\u001b[1;33m[\u001b[0m\u001b[0mdf_fox\u001b[0m\u001b[1;33m[\u001b[0m\u001b[1;34m'quotation'\u001b[0m\u001b[1;33m]\u001b[0m\u001b[1;33m.\u001b[0m\u001b[0mstr\u001b[0m\u001b[1;33m.\u001b[0m\u001b[0mcontains\u001b[0m\u001b[1;33m(\u001b[0m\u001b[1;33m[\u001b[0m\u001b[0ml\u001b[0m \u001b[1;32mfor\u001b[0m \u001b[0ml\u001b[0m \u001b[1;32min\u001b[0m \u001b[0mlista\u001b[0m\u001b[1;33m]\u001b[0m\u001b[1;33m[\u001b[0m\u001b[1;36m0\u001b[0m\u001b[1;33m]\u001b[0m\u001b[1;33m)\u001b[0m\u001b[1;33m]\u001b[0m\u001b[1;33m\u001b[0m\u001b[1;33m\u001b[0m\u001b[0m\n\u001b[0m\u001b[0;32m      8\u001b[0m \u001b[0mcount_fox\u001b[0m \u001b[1;33m=\u001b[0m \u001b[0mlen\u001b[0m\u001b[1;33m(\u001b[0m\u001b[0mdf_fox_word\u001b[0m\u001b[1;33m)\u001b[0m\u001b[1;33m\u001b[0m\u001b[1;33m\u001b[0m\u001b[0m\n\u001b[0;32m      9\u001b[0m \u001b[0mn\u001b[0m \u001b[1;33m=\u001b[0m \u001b[0mlen\u001b[0m\u001b[1;33m(\u001b[0m\u001b[0mdf_fox\u001b[0m\u001b[1;33m)\u001b[0m\u001b[1;33m\u001b[0m\u001b[1;33m\u001b[0m\u001b[0m\n",
      "\u001b[1;32m~\\Anaconda3\\lib\\site-packages\\pandas\\core\\frame.py\u001b[0m in \u001b[0;36m__getitem__\u001b[1;34m(self, key)\u001b[0m\n\u001b[0;32m   2978\u001b[0m             \u001b[1;32mif\u001b[0m \u001b[0mself\u001b[0m\u001b[1;33m.\u001b[0m\u001b[0mcolumns\u001b[0m\u001b[1;33m.\u001b[0m\u001b[0mnlevels\u001b[0m \u001b[1;33m>\u001b[0m \u001b[1;36m1\u001b[0m\u001b[1;33m:\u001b[0m\u001b[1;33m\u001b[0m\u001b[1;33m\u001b[0m\u001b[0m\n\u001b[0;32m   2979\u001b[0m                 \u001b[1;32mreturn\u001b[0m \u001b[0mself\u001b[0m\u001b[1;33m.\u001b[0m\u001b[0m_getitem_multilevel\u001b[0m\u001b[1;33m(\u001b[0m\u001b[0mkey\u001b[0m\u001b[1;33m)\u001b[0m\u001b[1;33m\u001b[0m\u001b[1;33m\u001b[0m\u001b[0m\n\u001b[1;32m-> 2980\u001b[1;33m             \u001b[0mindexer\u001b[0m \u001b[1;33m=\u001b[0m \u001b[0mself\u001b[0m\u001b[1;33m.\u001b[0m\u001b[0mcolumns\u001b[0m\u001b[1;33m.\u001b[0m\u001b[0mget_loc\u001b[0m\u001b[1;33m(\u001b[0m\u001b[0mkey\u001b[0m\u001b[1;33m)\u001b[0m\u001b[1;33m\u001b[0m\u001b[1;33m\u001b[0m\u001b[0m\n\u001b[0m\u001b[0;32m   2981\u001b[0m             \u001b[1;32mif\u001b[0m \u001b[0mis_integer\u001b[0m\u001b[1;33m(\u001b[0m\u001b[0mindexer\u001b[0m\u001b[1;33m)\u001b[0m\u001b[1;33m:\u001b[0m\u001b[1;33m\u001b[0m\u001b[1;33m\u001b[0m\u001b[0m\n\u001b[0;32m   2982\u001b[0m                 \u001b[0mindexer\u001b[0m \u001b[1;33m=\u001b[0m \u001b[1;33m[\u001b[0m\u001b[0mindexer\u001b[0m\u001b[1;33m]\u001b[0m\u001b[1;33m\u001b[0m\u001b[1;33m\u001b[0m\u001b[0m\n",
      "\u001b[1;32m~\\Anaconda3\\lib\\site-packages\\pandas\\core\\indexes\\base.py\u001b[0m in \u001b[0;36mget_loc\u001b[1;34m(self, key, method, tolerance)\u001b[0m\n\u001b[0;32m   2897\u001b[0m                 \u001b[1;32mreturn\u001b[0m \u001b[0mself\u001b[0m\u001b[1;33m.\u001b[0m\u001b[0m_engine\u001b[0m\u001b[1;33m.\u001b[0m\u001b[0mget_loc\u001b[0m\u001b[1;33m(\u001b[0m\u001b[0mkey\u001b[0m\u001b[1;33m)\u001b[0m\u001b[1;33m\u001b[0m\u001b[1;33m\u001b[0m\u001b[0m\n\u001b[0;32m   2898\u001b[0m             \u001b[1;32mexcept\u001b[0m \u001b[0mKeyError\u001b[0m\u001b[1;33m:\u001b[0m\u001b[1;33m\u001b[0m\u001b[1;33m\u001b[0m\u001b[0m\n\u001b[1;32m-> 2899\u001b[1;33m                 \u001b[1;32mreturn\u001b[0m \u001b[0mself\u001b[0m\u001b[1;33m.\u001b[0m\u001b[0m_engine\u001b[0m\u001b[1;33m.\u001b[0m\u001b[0mget_loc\u001b[0m\u001b[1;33m(\u001b[0m\u001b[0mself\u001b[0m\u001b[1;33m.\u001b[0m\u001b[0m_maybe_cast_indexer\u001b[0m\u001b[1;33m(\u001b[0m\u001b[0mkey\u001b[0m\u001b[1;33m)\u001b[0m\u001b[1;33m)\u001b[0m\u001b[1;33m\u001b[0m\u001b[1;33m\u001b[0m\u001b[0m\n\u001b[0m\u001b[0;32m   2900\u001b[0m         \u001b[0mindexer\u001b[0m \u001b[1;33m=\u001b[0m \u001b[0mself\u001b[0m\u001b[1;33m.\u001b[0m\u001b[0mget_indexer\u001b[0m\u001b[1;33m(\u001b[0m\u001b[1;33m[\u001b[0m\u001b[0mkey\u001b[0m\u001b[1;33m]\u001b[0m\u001b[1;33m,\u001b[0m \u001b[0mmethod\u001b[0m\u001b[1;33m=\u001b[0m\u001b[0mmethod\u001b[0m\u001b[1;33m,\u001b[0m \u001b[0mtolerance\u001b[0m\u001b[1;33m=\u001b[0m\u001b[0mtolerance\u001b[0m\u001b[1;33m)\u001b[0m\u001b[1;33m\u001b[0m\u001b[1;33m\u001b[0m\u001b[0m\n\u001b[0;32m   2901\u001b[0m         \u001b[1;32mif\u001b[0m \u001b[0mindexer\u001b[0m\u001b[1;33m.\u001b[0m\u001b[0mndim\u001b[0m \u001b[1;33m>\u001b[0m \u001b[1;36m1\u001b[0m \u001b[1;32mor\u001b[0m \u001b[0mindexer\u001b[0m\u001b[1;33m.\u001b[0m\u001b[0msize\u001b[0m \u001b[1;33m>\u001b[0m \u001b[1;36m1\u001b[0m\u001b[1;33m:\u001b[0m\u001b[1;33m\u001b[0m\u001b[1;33m\u001b[0m\u001b[0m\n",
      "\u001b[1;32mpandas\\_libs\\index.pyx\u001b[0m in \u001b[0;36mpandas._libs.index.IndexEngine.get_loc\u001b[1;34m()\u001b[0m\n",
      "\u001b[1;32mpandas\\_libs\\index.pyx\u001b[0m in \u001b[0;36mpandas._libs.index.IndexEngine.get_loc\u001b[1;34m()\u001b[0m\n",
      "\u001b[1;32mpandas\\_libs\\hashtable_class_helper.pxi\u001b[0m in \u001b[0;36mpandas._libs.hashtable.PyObjectHashTable.get_item\u001b[1;34m()\u001b[0m\n",
      "\u001b[1;32mpandas\\_libs\\hashtable_class_helper.pxi\u001b[0m in \u001b[0;36mpandas._libs.hashtable.PyObjectHashTable.get_item\u001b[1;34m()\u001b[0m\n",
      "\u001b[1;31mKeyError\u001b[0m: 'quotation'"
     ]
    }
   ],
   "source": [
    "df_immi_n = pd.DataFrame(columns=['emotion','value','journal'])\n",
    "\n",
    "lista = [words_immigration]\n",
    "lista2 = ['immigration']\n",
    "\n",
    "\n",
    "df_fox_word = df_fox[df_fox['quotation'].str.contains([l for l in lista][0])]\n",
    "count_fox = len(df_fox_word)\n",
    "n = len(df_fox)\n",
    "\n",
    "for quotation in df_fox_word['quotation']:\n",
    "    \n",
    "    result=sia.polarity_scores(quotation)\n",
    "    pos=result[\"pos\"]\n",
    "    neg=result[\"neg\"]\n",
    "    newr = pd.Series(data = {'emotion': \"positive\", 'value': pos, 'journal': \"foxnews\"}, name = 'x')\n",
    "    df_immi_n = df_immi_n.append(newr, ignore_index=True)\n",
    "    newr = pd.Series(data = {'emotion': \"negative\", 'value': neg, 'journal': \"foxnews\"}, name = 'x')\n",
    "    df_immi_n = df_immi_n.append(newr, ignore_index=True)\n",
    "    \n",
    "    \n",
    "\n",
    "\n",
    "df_ny_word = df_ny[df_ny['quotation'].str.contains([l for l in lista][0])]\n",
    "count_ny = len(df_ny_word)\n",
    "m = len(df_ny)\n",
    "\n",
    "\n",
    "for quotation in df_ny_word['quotation']:\n",
    "    \n",
    "    result=sia.polarity_scores(quotation)\n",
    "    pos=result[\"pos\"]\n",
    "    neg=result[\"neg\"]\n",
    "    result=sia.polarity_scores(quotation)\n",
    "    pos=result[\"pos\"]\n",
    "    neg=result[\"neg\"]\n",
    "    newr = pd.Series(data = {'emotion': \"positive\", 'value': pos, 'journal': \"nytimes\"}, name = 'x')\n",
    "    df_immi_n = df_immi_n.append(newr, ignore_index=True)\n",
    "    newr = pd.Series(data = {'emotion': \"negative\", 'value': neg, 'journal': \"nytimes\"}, name = 'x')\n",
    "    df_immi_n = df_immi_n.append(newr, ignore_index=True)\n",
    "    "
   ]
  },
  {
   "cell_type": "code",
   "execution_count": 44,
   "metadata": {},
   "outputs": [
    {
     "name": "stdout",
     "output_type": "stream",
     "text": [
      "Ttest_indResult(statistic=2.4016078859000864, pvalue=0.01633627137072534)\n",
      "Ttest_indResult(statistic=3.2594411304730664, pvalue=0.0011190095738908017)\n"
     ]
    },
    {
     "name": "stderr",
     "output_type": "stream",
     "text": [
      "C:\\Users\\François CHARROIN\\Anaconda3\\lib\\site-packages\\ipykernel_launcher.py:1: UserWarning: Boolean Series key will be reindexed to match DataFrame index.\n",
      "  \"\"\"Entry point for launching an IPython kernel.\n",
      "C:\\Users\\François CHARROIN\\Anaconda3\\lib\\site-packages\\ipykernel_launcher.py:2: UserWarning: Boolean Series key will be reindexed to match DataFrame index.\n",
      "  \n",
      "C:\\Users\\François CHARROIN\\Anaconda3\\lib\\site-packages\\ipykernel_launcher.py:3: UserWarning: Boolean Series key will be reindexed to match DataFrame index.\n",
      "  This is separate from the ipykernel package so we can avoid doing imports until\n",
      "C:\\Users\\François CHARROIN\\Anaconda3\\lib\\site-packages\\ipykernel_launcher.py:4: UserWarning: Boolean Series key will be reindexed to match DataFrame index.\n",
      "  after removing the cwd from sys.path.\n"
     ]
    }
   ],
   "source": [
    "res = stats.ttest_ind(df_immi_n[df_immi_n['journal']==\"foxnews\"][df_immi_n['emotion']==\"positive\"]['value'],\n",
    "                      df_immi_n[df_immi_n['journal']==\"nytimes\"][df_immi_n['emotion']==\"positive\"]['value'],equal_var=True)\n",
    "res2 = stats.ttest_ind(df_immi_n[df_immi_n['journal']==\"foxnews\"][df_immi_n['emotion']==\"negative\"]['value'],\n",
    "                       df_immi_n[df_immi_n['journal']==\"nytimes\"][df_immi_n['emotion']==\"negative\"]['value'],equal_var=True) \n",
    "print(res)\n",
    "print(res2)"
   ]
  },
  {
   "cell_type": "code",
   "execution_count": 45,
   "metadata": {},
   "outputs": [
    {
     "data": {
      "text/plain": [
       "<matplotlib.axes._subplots.AxesSubplot at 0x1ae87625e88>"
      ]
     },
     "execution_count": 45,
     "metadata": {},
     "output_type": "execute_result"
    },
    {
     "data": {
      "image/png": "[encoded data removed]",
      "text/plain": [
       "<Figure size 432x288 with 1 Axes>"
      ]
     },
     "metadata": {
      "needs_background": "light"
     },
     "output_type": "display_data"
    }
   ],
   "source": [
    "sns.violinplot(x = 'emotion', y = \"value\", hue=\"journal\",\n",
    "                    data=df_immi_n, palette=\"muted\", split=True)"
   ]
  },
  {
   "cell_type": "code",
   "execution_count": 46,
   "metadata": {},
   "outputs": [],
   "source": [
    "lst = [df_immi_n]\n",
    "del lst     "
   ]
  },
  {
   "cell_type": "markdown",
   "metadata": {},
   "source": [
    "## Terrorism"
   ]
  },
  {
   "cell_type": "code",
   "execution_count": 47,
   "metadata": {},
   "outputs": [],
   "source": [
    "df_te_n = pd.DataFrame(columns=['emotion','value','journal'])\n",
    "\n",
    "lista = [words_terrorism]\n",
    "lista2 = ['terrorism']\n",
    "\n",
    "df_fox = pd.DataFrame()\n",
    "df_fox = df_foxNy[df_foxNy['urls'].str.contains('foxnews')]\n",
    "df_fox_word = df_fox[df_fox['quotation'].str.contains([l for l in lista][0])]\n",
    "count_fox = len(df_fox_word)\n",
    "n = len(df_fox)\n",
    "\n",
    "for quotation in df_fox_word['quotation']:\n",
    "    \n",
    "    result=sia.polarity_scores(quotation)\n",
    "    pos=result[\"pos\"]\n",
    "    neg=result[\"neg\"]\n",
    "    newr = pd.Series(data = {'emotion': \"positive\", 'value': pos, 'journal': \"foxnews\"}, name = 'x')\n",
    "    df_te_n = df_te_n.append(newr, ignore_index=True)\n",
    "    newr = pd.Series(data = {'emotion': \"negative\", 'value': neg, 'journal': \"foxnews\"}, name = 'x')\n",
    "    df_te_n = df_te_n.append(newr, ignore_index=True)\n",
    "    \n",
    "    \n",
    "\n",
    "df_ny_word = df_ny[df_ny['quotation'].str.contains([l for l in lista][0])]\n",
    "count_ny = len(df_ny_word)\n",
    "m = len(df_ny)\n",
    "\n",
    "\n",
    "for quotation in df_ny_word['quotation']:\n",
    "    \n",
    "    result=sia.polarity_scores(quotation)\n",
    "    pos=result[\"pos\"]\n",
    "    neg=result[\"neg\"]\n",
    "    result=sia.polarity_scores(quotation)\n",
    "    pos=result[\"pos\"]\n",
    "    neg=result[\"neg\"]\n",
    "    newr = pd.Series(data = {'emotion': \"positive\", 'value': pos, 'journal': \"nytimes\"}, name = 'x')\n",
    "    df_te_n = df_te_n.append(newr, ignore_index=True)\n",
    "    newr = pd.Series(data = {'emotion': \"negative\", 'value': neg, 'journal': \"nytimes\"}, name = 'x')\n",
    "    df_te_n = df_te_n.append(newr, ignore_index=True)\n",
    "    "
   ]
  },
  {
   "cell_type": "code",
   "execution_count": 48,
   "metadata": {},
   "outputs": [
    {
     "name": "stderr",
     "output_type": "stream",
     "text": [
      "C:\\Users\\François CHARROIN\\Anaconda3\\lib\\site-packages\\ipykernel_launcher.py:1: UserWarning: Boolean Series key will be reindexed to match DataFrame index.\n",
      "  \"\"\"Entry point for launching an IPython kernel.\n",
      "C:\\Users\\François CHARROIN\\Anaconda3\\lib\\site-packages\\ipykernel_launcher.py:2: UserWarning: Boolean Series key will be reindexed to match DataFrame index.\n",
      "  \n",
      "C:\\Users\\François CHARROIN\\Anaconda3\\lib\\site-packages\\ipykernel_launcher.py:3: UserWarning: Boolean Series key will be reindexed to match DataFrame index.\n",
      "  This is separate from the ipykernel package so we can avoid doing imports until\n",
      "C:\\Users\\François CHARROIN\\Anaconda3\\lib\\site-packages\\ipykernel_launcher.py:4: UserWarning: Boolean Series key will be reindexed to match DataFrame index.\n",
      "  after removing the cwd from sys.path.\n"
     ]
    },
    {
     "name": "stdout",
     "output_type": "stream",
     "text": [
      "Ttest_indResult(statistic=-7.330672869816802, pvalue=2.3130718517344163e-13)\n",
      "Ttest_indResult(statistic=3.4527940468557463, pvalue=0.0005551198031961221)\n"
     ]
    }
   ],
   "source": [
    "res = stats.ttest_ind(df_te_n[df_te_n['journal']==\"foxnews\"][df_te_n['emotion']==\"positive\"]['value'],\n",
    "                      df_te_n[df_te_n['journal']==\"nytimes\"][df_te_n['emotion']==\"positive\"]['value'],equal_var=True)\n",
    "res2 = stats.ttest_ind(df_te_n[df_te_n['journal']==\"foxnews\"][df_te_n['emotion']==\"negative\"]['value'],\n",
    "                       df_te_n[df_te_n['journal']==\"nytimes\"][df_te_n['emotion']==\"negative\"]['value'],equal_var=True) \n",
    "print(res)\n",
    "print(res2)"
   ]
  },
  {
   "cell_type": "code",
   "execution_count": 49,
   "metadata": {},
   "outputs": [
    {
     "data": {
      "text/plain": [
       "<matplotlib.axes._subplots.AxesSubplot at 0x1ae876917c8>"
      ]
     },
     "execution_count": 49,
     "metadata": {},
     "output_type": "execute_result"
    },
    {
     "data": {
      "image/png": "[encoded data removed]",
      "text/plain": [
       "<Figure size 432x288 with 1 Axes>"
      ]
     },
     "metadata": {
      "needs_background": "light"
     },
     "output_type": "display_data"
    }
   ],
   "source": [
    "sns.violinplot(x = 'emotion', y = \"value\", hue=\"journal\",\n",
    "                    data=df_te_n, palette=\"muted\", split=True)"
   ]
  },
  {
   "cell_type": "code",
   "execution_count": 50,
   "metadata": {},
   "outputs": [],
   "source": [
    "lst = [df_te_n]\n",
    "del lst     "
   ]
  },
  {
   "cell_type": "markdown",
   "metadata": {},
   "source": [
    "## Climate change"
   ]
  },
  {
   "cell_type": "code",
   "execution_count": null,
   "metadata": {},
   "outputs": [],
   "source": [
    "df_cc_n = pd.DataFrame(columns=['emotion','value','journal'])\n",
    "\n",
    "lista = [words_ClimateChange]\n",
    "lista2 = ['climate change']\n",
    "\n",
    "df_fox_word = df_fox[df_fox['quotation'].str.contains([l for l in lista][0])]\n",
    "count_fox = len(df_fox_word)\n",
    "n = len(df_fox)\n",
    "\n",
    "for quotation in df_fox_word['quotation']:\n",
    "    \n",
    "    result=sia.polarity_scores(quotation)\n",
    "    pos=result[\"pos\"]\n",
    "    neg=result[\"neg\"]\n",
    "    newr = pd.Series(data = {'emotion': \"positive\", 'value': pos, 'journal': \"foxnews\"}, name = 'x')\n",
    "    df_cc_n = df_cc_n.append(newr, ignore_index=True)\n",
    "    newr = pd.Series(data = {'emotion': \"negative\", 'value': neg, 'journal': \"foxnews\"}, name = 'x')\n",
    "    df_cc_n = df_cc_n.append(newr, ignore_index=True)\n",
    "    \n",
    "    \n",
    "\n",
    "df_ny_word = df_ny[df_ny['quotation'].str.contains([l for l in lista][0])]\n",
    "count_ny = len(df_ny_word)\n",
    "m = len(df_ny)\n",
    "\n",
    "\n",
    "for quotation in df_ny_word['quotation']:\n",
    "    \n",
    "    result=sia.polarity_scores(quotation)\n",
    "    pos=result[\"pos\"]\n",
    "    neg=result[\"neg\"]\n",
    "    result=sia.polarity_scores(quotation)\n",
    "    pos=result[\"pos\"]\n",
    "    neg=result[\"neg\"]\n",
    "    newr = pd.Series(data = {'emotion': \"positive\", 'value': pos, 'journal': \"nytimes\"}, name = 'x')\n",
    "    df_cc_n = df_cc_n.append(newr, ignore_index=True)\n",
    "    newr = pd.Series(data = {'emotion': \"negative\", 'value': neg, 'journal': \"nytimes\"}, name = 'x')\n",
    "    df_cc_n = df_cc_n.append(newr, ignore_index=True)"
   ]
  },
  {
   "cell_type": "code",
   "execution_count": null,
   "metadata": {},
   "outputs": [],
   "source": [
    "res = stats.ttest_ind(df_cc_n[df_cc_n['journal']==\"foxnews\"][df_cc_n['emotion']==\"positive\"]['value'],\n",
    "                      df_cc_n[df_cc_n['journal']==\"nytimes\"][df_cc_n['emotion']==\"positive\"]['value'],equal_var=True)\n",
    "res2 = stats.ttest_ind(df_cc_n[df_cc_n['journal']==\"foxnews\"][df_cc_n['emotion']==\"negative\"]['value'],\n",
    "                       df_cc_n[df_cc_n['journal']==\"nytimes\"][df_cc_n['emotion']==\"negative\"]['value'],equal_var=True) \n",
    "print(res)\n",
    "print(res2)"
   ]
  },
  {
   "cell_type": "code",
   "execution_count": null,
   "metadata": {},
   "outputs": [],
   "source": [
    "sns.violinplot(x = 'emotion', y = \"value\", hue=\"journal\",\n",
    "                    data=df_cc_n, palette=\"muted\", split=True)"
   ]
  },
  {
   "cell_type": "code",
   "execution_count": null,
   "metadata": {},
   "outputs": [],
   "source": [
    "lst = [df_cc_fox,df_cc_ny]\n",
    "del lst     "
   ]
  },
  {
   "cell_type": "markdown",
   "metadata": {},
   "source": [
    "## Abortion"
   ]
  },
  {
   "cell_type": "code",
   "execution_count": null,
   "metadata": {},
   "outputs": [],
   "source": [
    "df_ab_n = pd.DataFrame(columns=['emotion','value','journal'])\n",
    "\n",
    "lista = [words_abortion]\n",
    "lista2 = ['abortion']\n",
    "\n",
    "df_fox_word = df_fox[df_fox['quotation'].str.contains([l for l in lista][0])]\n",
    "count_fox = len(df_fox_word)\n",
    "n = len(df_fox)\n",
    "\n",
    "for quotation in df_fox_word['quotation']:\n",
    "    \n",
    "    result=sia.polarity_scores(quotation)\n",
    "    pos=result[\"pos\"]\n",
    "    neg=result[\"neg\"]\n",
    "    newr = pd.Series(data = {'emotion': \"positive\", 'value': pos, 'journal': \"foxnews\"}, name = 'x')\n",
    "    df_ab_n = df_ab_n.append(newr, ignore_index=True)\n",
    "    newr = pd.Series(data = {'emotion': \"negative\", 'value': neg, 'journal': \"foxnews\"}, name = 'x')\n",
    "    df_ab_n = df_ab_n.append(newr, ignore_index=True)\n",
    "    \n",
    "    \n",
    "\n",
    "df_ny_word = df_ny[df_ny['quotation'].str.contains([l for l in lista][0])]\n",
    "count_ny = len(df_ny_word)\n",
    "m = len(df_ny)\n",
    "\n",
    "\n",
    "for quotation in df_ny_word['quotation']:\n",
    "    \n",
    "    result=sia.polarity_scores(quotation)\n",
    "    pos=result[\"pos\"]\n",
    "    neg=result[\"neg\"]\n",
    "    result=sia.polarity_scores(quotation)\n",
    "    pos=result[\"pos\"]\n",
    "    neg=result[\"neg\"]\n",
    "    newr = pd.Series(data = {'emotion': \"positive\", 'value': pos, 'journal': \"nytimes\"}, name = 'x')\n",
    "    df_ab_n = df_ab_n.append(newr, ignore_index=True)\n",
    "    newr = pd.Series(data = {'emotion': \"negative\", 'value': neg, 'journal': \"nytimes\"}, name = 'x')\n",
    "    df_ab_n = df_ab_n.append(newr, ignore_index=True)"
   ]
  },
  {
   "cell_type": "code",
   "execution_count": null,
   "metadata": {},
   "outputs": [],
   "source": [
    "res = stats.ttest_ind(df_ab_n[df_ab_n['journal']==\"foxnews\"][df_ab_n['emotion']==\"positive\"]['value'],\n",
    "                      df_ab_n[df_ab_n['journal']==\"nytimes\"][df_ab_n['emotion']==\"positive\"]['value'],equal_var=True)\n",
    "res2 = stats.ttest_ind(df_ab_n[df_ab_n['journal']==\"foxnews\"][df_ab_n['emotion']==\"negative\"]['value'],\n",
    "                       df_ab_n[df_ab_n['journal']==\"nytimes\"][df_ab_n['emotion']==\"negative\"]['value'],equal_var=True) \n",
    "print(res)\n",
    "print(res2)"
   ]
  },
  {
   "cell_type": "code",
   "execution_count": null,
   "metadata": {},
   "outputs": [],
   "source": [
    "sns.violinplot(x = 'emotion', y = \"value\", hue=\"journal\",\n",
    "                    data=df_ab_n, palette=\"muted\", split=True)"
   ]
  },
  {
   "cell_type": "code",
   "execution_count": null,
   "metadata": {},
   "outputs": [],
   "source": [
    "lst = [df_ab_fox,df_ab_ny]\n",
    "del lst  "
   ]
  },
  {
   "cell_type": "markdown",
   "metadata": {},
   "source": [
    "## Religion"
   ]
  },
  {
   "cell_type": "code",
   "execution_count": null,
   "metadata": {},
   "outputs": [],
   "source": [
    "df_re_n = pd.DataFrame(columns=['emotion','value','journal'])\n",
    "\n",
    "lista = [words_religion]\n",
    "lista2 = ['religion']\n",
    "\n",
    "\n",
    "df_fox_word = df_fox[df_fox['quotation'].str.contains([l for l in lista][0])]\n",
    "count_fox = len(df_fox_word)\n",
    "n = len(df_fox)\n",
    "\n",
    "for quotation in df_fox_word['quotation']:\n",
    "    \n",
    "    result=sia.polarity_scores(quotation)\n",
    "    pos=result[\"pos\"]\n",
    "    neg=result[\"neg\"]\n",
    "    newr = pd.Series(data = {'emotion': \"positive\", 'value': pos, 'journal': \"foxnews\"}, name = 'x')\n",
    "    df_re_n = df_re_n.append(newr, ignore_index=True)\n",
    "    newr = pd.Series(data = {'emotion': \"negative\", 'value': neg, 'journal': \"foxnews\"}, name = 'x')\n",
    "    df_re_n = df_re_n.append(newr, ignore_index=True)\n",
    "    \n",
    "    \n",
    "\n",
    "\n",
    "df_ny_word = df_ny[df_ny['quotation'].str.contains([l for l in lista][0])]\n",
    "count_ny = len(df_ny_word)\n",
    "m = len(df_ny)\n",
    "\n",
    "\n",
    "for quotation in df_ny_word['quotation']:\n",
    "    \n",
    "    result=sia.polarity_scores(quotation)\n",
    "    pos=result[\"pos\"]\n",
    "    neg=result[\"neg\"]\n",
    "    result=sia.polarity_scores(quotation)\n",
    "    pos=result[\"pos\"]\n",
    "    neg=result[\"neg\"]\n",
    "    newr = pd.Series(data = {'emotion': \"positive\", 'value': pos, 'journal': \"nytimes\"}, name = 'x')\n",
    "    df_re_n = df_re_n.append(newr, ignore_index=True)\n",
    "    newr = pd.Series(data = {'emotion': \"negative\", 'value': neg, 'journal': \"nytimes\"}, name = 'x')\n",
    "    df_re_n = df_re_n.append(newr, ignore_index=True)"
   ]
  },
  {
   "cell_type": "code",
   "execution_count": null,
   "metadata": {},
   "outputs": [],
   "source": [
    "res = stats.ttest_ind(df_re_n[df_re_n['journal']==\"foxnews\"][df_re_n['emotion']==\"positive\"]['value'],\n",
    "                      df_re_n[df_re_n['journal']==\"nytimes\"][df_re_n['emotion']==\"positive\"]['value'],equal_var=True)\n",
    "res2 = stats.ttest_ind(df_re_n[df_re_n['journal']==\"foxnews\"][df_re_n['emotion']==\"negative\"]['value'],\n",
    "                       df_re_n[df_re_n['journal']==\"nytimes\"][df_re_n['emotion']==\"negative\"]['value'],equal_var=True) \n",
    "print(res)\n",
    "print(res2)"
   ]
  },
  {
   "cell_type": "code",
   "execution_count": null,
   "metadata": {},
   "outputs": [],
   "source": [
    "sns.violinplot(x = 'emotion', y = \"value\", hue=\"journal\",\n",
    "                    data=df_re_n, palette=\"muted\", split=True)"
   ]
  },
  {
   "cell_type": "code",
   "execution_count": null,
   "metadata": {},
   "outputs": [],
   "source": [
    "lst = [df_re_fox,df_re_ny]\n",
    "del lst  "
   ]
  },
  {
   "cell_type": "markdown",
   "metadata": {},
   "source": [
    "## Racism"
   ]
  },
  {
   "cell_type": "code",
   "execution_count": null,
   "metadata": {},
   "outputs": [],
   "source": [
    "df_ra_n = pd.DataFrame(columns=['emotion','value','journal'])\n",
    "\n",
    "lista = [words_racism]\n",
    "lista2 = ['racism']\n",
    "\n",
    "df_fox_word = df_fox[df_fox['quotation'].str.contains([l for l in lista][0])]\n",
    "count_fox = len(df_fox_word)\n",
    "n = len(df_fox)\n",
    "\n",
    "for quotation in df_fox_word['quotation']:\n",
    "    \n",
    "    result=sia.polarity_scores(quotation)\n",
    "    pos=result[\"pos\"]\n",
    "    neg=result[\"neg\"]\n",
    "    newr = pd.Series(data = {'emotion': \"positive\", 'value': pos, 'journal': \"foxnews\"}, name = 'x')\n",
    "    df_ra_n = df_ra_n.append(newr, ignore_index=True)\n",
    "    newr = pd.Series(data = {'emotion': \"negative\", 'value': neg, 'journal': \"foxnews\"}, name = 'x')\n",
    "    df_ra_n = df_ra_n.append(newr, ignore_index=True)\n",
    "    \n",
    "    \n",
    "\n",
    "\n",
    "df_ny_word = df_ny[df_ny['quotation'].str.contains([l for l in lista][0])]\n",
    "count_ny = len(df_ny_word)\n",
    "m = len(df_ny)\n",
    "\n",
    "\n",
    "for quotation in df_ny_word['quotation']:\n",
    "    \n",
    "    result=sia.polarity_scores(quotation)\n",
    "    pos=result[\"pos\"]\n",
    "    neg=result[\"neg\"]\n",
    "    result=sia.polarity_scores(quotation)\n",
    "    pos=result[\"pos\"]\n",
    "    neg=result[\"neg\"]\n",
    "    newr = pd.Series(data = {'emotion': \"positive\", 'value': pos, 'journal': \"nytimes\"}, name = 'x')\n",
    "    df_ra_n = df_ra_n.append(newr, ignore_index=True)\n",
    "    newr = pd.Series(data = {'emotion': \"negative\", 'value': neg, 'journal': \"nytimes\"}, name = 'x')\n",
    "    df_ra_n = df_ra_n.append(newr, ignore_index=True)"
   ]
  },
  {
   "cell_type": "code",
   "execution_count": null,
   "metadata": {},
   "outputs": [],
   "source": [
    "res = stats.ttest_ind(df_ra_n[df_ra_n['journal']==\"foxnews\"][df_ra_n['emotion']==\"positive\"]['value'],\n",
    "                      df_ra_n[df_ra_n['journal']==\"nytimes\"][df_ra_n['emotion']==\"positive\"]['value'],equal_var=True)\n",
    "res2 = stats.ttest_ind(df_ra_n[df_ra_n['journal']==\"foxnews\"][df_ra_n['emotion']==\"negative\"]['value'],\n",
    "                       df_ra_n[df_ra_n['journal']==\"nytimes\"][df_ra_n['emotion']==\"negative\"]['value'],equal_var=True) \n",
    "print(res)\n",
    "print(res2)"
   ]
  },
  {
   "cell_type": "code",
   "execution_count": null,
   "metadata": {},
   "outputs": [],
   "source": [
    "sns.violinplot(x = 'emotion', y = \"value\", hue=\"journal\",\n",
    "                    data=df_ra_n, palette=\"muted\", split=True)"
   ]
  },
  {
   "cell_type": "code",
   "execution_count": null,
   "metadata": {},
   "outputs": [],
   "source": [
    "lst = [df_ra_fox,df_ra_ny]\n",
    "del lst  "
   ]
  }
 ],
 "metadata": {
  "kernelspec": {
   "display_name": "Python 3",
   "language": "python",
   "name": "python3"
  },
  "language_info": {
   "codemirror_mode": {
    "name": "ipython",
    "version": 3
   },
   "file_extension": ".py",
   "mimetype": "text/x-python",
   "name": "python",
   "nbconvert_exporter": "python",
   "pygments_lexer": "ipython3",
   "version": "3.7.4"
  }
 },
 "nbformat": 4,
 "nbformat_minor": 2
}
