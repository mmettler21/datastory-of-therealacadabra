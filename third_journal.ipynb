{
 "cells": [
  {
   "cell_type": "code",
   "execution_count": 1,
   "metadata": {},
   "outputs": [],
   "source": [
    "import seaborn as sns\n",
    "from IPython.display import display, HTML\n",
    "import matplotlib.pyplot as plt\n",
    "import scipy.stats as stats\n",
    "import pandas as pd\n",
    "import numpy as np\n",
    "import bz2\n",
    "import json\n",
    "from urllib.parse import urlparse\n",
    "import nltk\n",
    "from nltk.sentiment import SentimentIntensityAnalyzer\n",
    "import os\n",
    "import glob\n",
    "import pickle"
   ]
  },
  {
   "cell_type": "code",
   "execution_count": null,
   "metadata": {},
   "outputs": [],
   "source": [
    "years = [2015, 2016, 2017, 2018, 2019, 2020]\n",
    "PATH = 'data/'\n",
    "df_fox = pd.DataFrame(columns=['quotation'])\n",
    "df_ny = pd.DataFrame(columns=['quotation'])\n",
    "\n",
    "for y in years:\n",
    "    df3_y = pd.read_pickle(PATH+str(y)+'_'+'Fox_quotations.pkl')\n",
    "    df3_y = df_yfox.to_frame()\n",
    "    df3 = df3.append(df3_y)"
   ]
  },
  {
   "cell_type": "code",
   "execution_count": 2,
   "metadata": {},
   "outputs": [],
   "source": [
    "#The chosen key words are selected here\n",
    "words_immigration = 'immigration|mexic|migrant|border|refugees'\n",
    "words_terrorism = 'shoot|gun|kill|attack|massacre|victim|terroris|arm|violen|death'\n",
    "words_ClimateChange = 'flood|greenhouse effect|CO2|global warming|pollution|glacier|ice pake melting|high temperatures|heat'\n",
    "words_abortion = 'abort|fetus'\n",
    "words_religion = 'God|Christian|Christianism|Belief|faith|prayer|commitment|islam|buddhism|hinduism|baptism|church|vatican|reincarnation|jesus'\n",
    "words_racism = 'White|Black|Black lives matter|All lives matter|discrimination|Segregation|George Floyd|Slaver|White supremacy|Klu Klux Klan|KKK|Gunshot|Trials|Police|Death sentence'"
   ]
  },
  {
   "cell_type": "code",
   "execution_count": 3,
   "metadata": {},
   "outputs": [
    {
     "name": "stderr",
     "output_type": "stream",
     "text": [
      "[nltk_data] Downloading package stopwords to C:\\Users\\François\n",
      "[nltk_data]     CHARROIN\\AppData\\Roaming\\nltk_data...\n",
      "[nltk_data]   Package stopwords is already up-to-date!\n",
      "[nltk_data] Downloading package punkt to C:\\Users\\François\n",
      "[nltk_data]     CHARROIN\\AppData\\Roaming\\nltk_data...\n",
      "[nltk_data]   Package punkt is already up-to-date!\n",
      "[nltk_data] Downloading package wordnet to C:\\Users\\François\n",
      "[nltk_data]     CHARROIN\\AppData\\Roaming\\nltk_data...\n",
      "[nltk_data]   Package wordnet is already up-to-date!\n"
     ]
    }
   ],
   "source": [
    "import text2emotion as te\n",
    "sia = SentimentIntensityAnalyzer()"
   ]
  },
  {
   "cell_type": "markdown",
   "metadata": {},
   "source": [
    "## Text2emotion"
   ]
  },
  {
   "cell_type": "markdown",
   "metadata": {},
   "source": [
    "### Immigration"
   ]
  },
  {
   "cell_type": "code",
   "execution_count": null,
   "metadata": {},
   "outputs": [],
   "source": [
    "df3_immi_t = pd.DataFrame(columns=['emotion','value'])\n",
    "\n",
    "lista = [words_immigration]\n",
    "lista2 = ['immigration']\n",
    "\n",
    "\n",
    "df3_word = df3[df3['quotation'].str.contains([l for l in lista][0])]\n",
    "count3 = len(df3_word)\n",
    "n = len(df_fox)\n",
    "\n",
    "for quotation in df3_word['quotation']:\n",
    "    \n",
    "    di=te.get_emotion(quotation)\n",
    "    fear=di.get('Fear')\n",
    "    happy=di.get('Happy')\n",
    "    angry=di.get('Angry')\n",
    "    surprise=di.get('Surprise')\n",
    "    sad=di.get('Sad')\n",
    "    \n",
    "    newr = pd.Series(data = {'emotion': \"fear\", 'value': fear}, name = 'x')\n",
    "    df3_immi_t = df3_immi_t.append(newr, ignore_index=True)\n",
    "    \n",
    "    newr = pd.Series(data = {'emotion': \"happy\", 'value': happy}, name = 'x')\n",
    "    df3_immi_t = df3_immi_t.append(newr, ignore_index=True)\n",
    "    \n",
    "    newr = pd.Series(data = {'emotion': \"angry\", 'value': angry}, name = 'x')\n",
    "    df3_immi_t = df3_immi_t.append(newr, ignore_index=True)\n",
    "    \n",
    "\n",
    "    newr = pd.Series(data = {'emotion': \"surprise\", 'value': surprise}, name = 'x')\n",
    "    df3_immi_t = df3_immi_t.append(newr, ignore_index=True)\n",
    "    \n",
    "    newr = pd.Series(data = {'emotion': \"sad\", 'value': sad}, name = 'x')\n",
    "    df3_immi_t = df3_immi_t.append(newr, ignore_index=True)"
   ]
  },
  {
   "cell_type": "code",
   "execution_count": null,
   "metadata": {},
   "outputs": [],
   "source": [
    "sns.violinplot(x = 'emotion', y = \"value\",\n",
    "                    data=df3_immi_t, palette=\"muted\")"
   ]
  },
  {
   "cell_type": "code",
   "execution_count": null,
   "metadata": {},
   "outputs": [],
   "source": [
    "#fox means\n",
    "a = df3_immi_t[df3_immi_t['emotion']==\"fear\"]['value'].mean()\n",
    "b = df3_immi_t[df3_immi_t['emotion']==\"happy\"]['value'].mean()\n",
    "c = df3_immi_t[df3_immi_t['emotion']==\"angry\"]['value'].mean()\n",
    "d = df3_immi_t[df3_immi_t['emotion']==\"surprise\"]['value'].mean()\n",
    "e = df3_immi_t[df3_immi_t['emotion']==\"sad\"]['value'].mean()\n",
    "\n",
    "\n",
    "print(\"fear {0}\".format(a))\n",
    "print(\"happy {0}\".format(b))\n",
    "print(\"angry {0}\".format(c))\n",
    "print(\"surprise {0}\".format(d))\n",
    "print(\"sad {0}\".format(e))"
   ]
  },
  {
   "cell_type": "code",
   "execution_count": null,
   "metadata": {},
   "outputs": [],
   "source": [
    "lst = [df3_immi_t]\n",
    "del lst "
   ]
  },
  {
   "cell_type": "markdown",
   "metadata": {},
   "source": [
    "### Terrorism"
   ]
  },
  {
   "cell_type": "code",
   "execution_count": null,
   "metadata": {},
   "outputs": [],
   "source": [
    "df3_te_t = pd.DataFrame(columns=['emotion','value'])\n",
    "\n",
    "lista = [words_terrorism]\n",
    "lista2 = ['terrorism']\n",
    "\n",
    "\n",
    "df3_word = df3[df3['quotation'].str.contains([l for l in lista][0])]\n",
    "count3 = len(df3_word)\n",
    "n = len(df_fox)\n",
    "\n",
    "for quotation in df3_word['quotation']:\n",
    "    \n",
    "    di=te.get_emotion(quotation)\n",
    "    fear=di.get('Fear')\n",
    "    happy=di.get('Happy')\n",
    "    angry=di.get('Angry')\n",
    "    surprise=di.get('Surprise')\n",
    "    sad=di.get('Sad')\n",
    "    \n",
    "    newr = pd.Series(data = {'emotion': \"fear\", 'value': fear}, name = 'x')\n",
    "    df3_te_t = df3_te_t.append(newr, ignore_index=True)\n",
    "    \n",
    "    newr = pd.Series(data = {'emotion': \"happy\", 'value': happy}, name = 'x')\n",
    "    df3_te_t = df3_te_t.append(newr, ignore_index=True)\n",
    "    \n",
    "    newr = pd.Series(data = {'emotion': \"angry\", 'value': angry}, name = 'x')\n",
    "    df3_te_t = df3_te_t.append(newr, ignore_index=True)\n",
    "    \n",
    "\n",
    "    newr = pd.Series(data = {'emotion': \"surprise\", 'value': surprise}, name = 'x')\n",
    "    df3_te_t = df3_te_t.append(newr, ignore_index=True)\n",
    "    \n",
    "    newr = pd.Series(data = {'emotion': \"sad\", 'value': sad}, name = 'x')\n",
    "    df3_te_t = df3_te_t.append(newr, ignore_index=True)"
   ]
  },
  {
   "cell_type": "code",
   "execution_count": null,
   "metadata": {},
   "outputs": [],
   "source": [
    "sns.violinplot(x = 'emotion', y = \"value\",\n",
    "                    data=df3_te_t, palette=\"muted\")"
   ]
  },
  {
   "cell_type": "code",
   "execution_count": null,
   "metadata": {},
   "outputs": [],
   "source": [
    "#fox means\n",
    "a = df3_te_t[df3_te_t['emotion']==\"fear\"]['value'].mean()\n",
    "b = df3_te_t[df3_te_t['emotion']==\"happy\"]['value'].mean()\n",
    "c = df3_te_t[df3_te_t['emotion']==\"angry\"]['value'].mean()\n",
    "d = df3_te_t[df3_te_t['emotion']==\"surprise\"]['value'].mean()\n",
    "e = df3_te_t[df3_te_t['emotion']==\"sad\"]['value'].mean()\n",
    "\n",
    "\n",
    "print(\"fear {0}\".format(a))\n",
    "print(\"happy {0}\".format(b))\n",
    "print(\"angry {0}\".format(c))\n",
    "print(\"surprise {0}\".format(d))\n",
    "print(\"sad {0}\".format(e))"
   ]
  },
  {
   "cell_type": "code",
   "execution_count": null,
   "metadata": {},
   "outputs": [],
   "source": [
    "lst = [df3_te_t]\n",
    "del lst "
   ]
  },
  {
   "cell_type": "markdown",
   "metadata": {},
   "source": [
    "### Climate change"
   ]
  },
  {
   "cell_type": "code",
   "execution_count": null,
   "metadata": {},
   "outputs": [],
   "source": [
    "df3_cc_t = pd.DataFrame(columns=['emotion','value'])\n",
    "\n",
    "lista = [words_ClimateChange]\n",
    "lista2 = ['climate change']\n",
    "\n",
    "\n",
    "df3_word = df3[df3['quotation'].str.contains([l for l in lista][0])]\n",
    "count3 = len(df3_word)\n",
    "n = len(df_fox)\n",
    "\n",
    "for quotation in df3_word['quotation']:\n",
    "    \n",
    "    di=te.get_emotion(quotation)\n",
    "    fear=di.get('Fear')\n",
    "    happy=di.get('Happy')\n",
    "    angry=di.get('Angry')\n",
    "    surprise=di.get('Surprise')\n",
    "    sad=di.get('Sad')\n",
    "    \n",
    "    newr = pd.Series(data = {'emotion': \"fear\", 'value': fear}, name = 'x')\n",
    "    df3_cc_t = df3_cc_t.append(newr, ignore_index=True)\n",
    "    \n",
    "    newr = pd.Series(data = {'emotion': \"happy\", 'value': happy}, name = 'x')\n",
    "    df3_cc_t = df3_cc_t.append(newr, ignore_index=True)\n",
    "    \n",
    "    newr = pd.Series(data = {'emotion': \"angry\", 'value': angry}, name = 'x')\n",
    "    df3_cc_t = df3_cc_t.append(newr, ignore_index=True)\n",
    "    \n",
    "\n",
    "    newr = pd.Series(data = {'emotion': \"surprise\", 'value': surprise}, name = 'x')\n",
    "    df3_cc_t = df3_cc_t.append(newr, ignore_index=True)\n",
    "    \n",
    "    newr = pd.Series(data = {'emotion': \"sad\", 'value': sad}, name = 'x')\n",
    "    df3_cc_t = df3_cc_t.append(newr, ignore_index=True)"
   ]
  },
  {
   "cell_type": "code",
   "execution_count": null,
   "metadata": {},
   "outputs": [],
   "source": [
    "sns.violinplot(x = 'emotion', y = \"value\",\n",
    "                    data=df3_cc_t, palette=\"muted\")"
   ]
  },
  {
   "cell_type": "code",
   "execution_count": null,
   "metadata": {},
   "outputs": [],
   "source": [
    "#fox means\n",
    "a = df3_cc_t[df3_cc_t['emotion']==\"fear\"]['value'].mean()\n",
    "b = df3_cc_t[df3_cc_t['emotion']==\"happy\"]['value'].mean()\n",
    "c = df3_cc_t[df3_cc_t['emotion']==\"angry\"]['value'].mean()\n",
    "d = df3_cc_t[df3_cc_t['emotion']==\"surprise\"]['value'].mean()\n",
    "e = df3_cc_t[df3_cc_t['emotion']==\"sad\"]['value'].mean()\n",
    "\n",
    "\n",
    "print(\"fear {0}\".format(a))\n",
    "print(\"happy {0}\".format(b))\n",
    "print(\"angry {0}\".format(c))\n",
    "print(\"surprise {0}\".format(d))\n",
    "print(\"sad {0}\".format(e))"
   ]
  },
  {
   "cell_type": "code",
   "execution_count": null,
   "metadata": {},
   "outputs": [],
   "source": [
    "lst = [df3_cc_t]\n",
    "del lst "
   ]
  },
  {
   "cell_type": "markdown",
   "metadata": {},
   "source": [
    "### Abortion"
   ]
  },
  {
   "cell_type": "code",
   "execution_count": null,
   "metadata": {},
   "outputs": [],
   "source": [
    "df3_ab_t = pd.DataFrame(columns=['emotion','value'])\n",
    "\n",
    "lista = [words_abortion]\n",
    "lista2 = ['abortion']\n",
    "\n",
    "\n",
    "df3_word = df3[df3['quotation'].str.contains([l for l in lista][0])]\n",
    "count3 = len(df3_word)\n",
    "n = len(df_fox)\n",
    "\n",
    "for quotation in df3_word['quotation']:\n",
    "    \n",
    "    di=te.get_emotion(quotation)\n",
    "    fear=di.get('Fear')\n",
    "    happy=di.get('Happy')\n",
    "    angry=di.get('Angry')\n",
    "    surprise=di.get('Surprise')\n",
    "    sad=di.get('Sad')\n",
    "    \n",
    "    newr = pd.Series(data = {'emotion': \"fear\", 'value': fear}, name = 'x')\n",
    "    df3_ab_t = df3_ab_t.append(newr, ignore_index=True)\n",
    "    \n",
    "    newr = pd.Series(data = {'emotion': \"happy\", 'value': happy}, name = 'x')\n",
    "    df3_ab_t = df3_ab_t.append(newr, ignore_index=True)\n",
    "    \n",
    "    newr = pd.Series(data = {'emotion': \"angry\", 'value': angry}, name = 'x')\n",
    "    df3_ab_t = df3_ab_t.append(newr, ignore_index=True)\n",
    "    \n",
    "\n",
    "    newr = pd.Series(data = {'emotion': \"surprise\", 'value': surprise}, name = 'x')\n",
    "    df3_ab_t = df3_ab_t.append(newr, ignore_index=True)\n",
    "    \n",
    "    newr = pd.Series(data = {'emotion': \"sad\", 'value': sad}, name = 'x')\n",
    "    df3_ab_t = df3_ab_t.append(newr, ignore_index=True)"
   ]
  },
  {
   "cell_type": "code",
   "execution_count": null,
   "metadata": {},
   "outputs": [],
   "source": [
    "sns.violinplot(x = 'emotion', y = \"value\",\n",
    "                    data=df3_ab_t, palette=\"muted\")"
   ]
  },
  {
   "cell_type": "code",
   "execution_count": null,
   "metadata": {},
   "outputs": [],
   "source": [
    "#fox means\n",
    "a = df3_ab_t[df3_ab_t['emotion']==\"fear\"]['value'].mean()\n",
    "b = df3_ab_t[df3_ab_t['emotion']==\"happy\"]['value'].mean()\n",
    "c = df3_ab_t[df3_ab_t['emotion']==\"angry\"]['value'].mean()\n",
    "d = df3_ab_t[df3_ab_t['emotion']==\"surprise\"]['value'].mean()\n",
    "e = df3_ab_t[df3_ab_t['emotion']==\"sad\"]['value'].mean()\n",
    "\n",
    "\n",
    "print(\"fear {0}\".format(a))\n",
    "print(\"happy {0}\".format(b))\n",
    "print(\"angry {0}\".format(c))\n",
    "print(\"surprise {0}\".format(d))\n",
    "print(\"sad {0}\".format(e))"
   ]
  },
  {
   "cell_type": "code",
   "execution_count": null,
   "metadata": {},
   "outputs": [],
   "source": [
    "lst = [df3_ab_t]\n",
    "del lst "
   ]
  },
  {
   "cell_type": "markdown",
   "metadata": {},
   "source": [
    "### Religion"
   ]
  },
  {
   "cell_type": "code",
   "execution_count": null,
   "metadata": {},
   "outputs": [],
   "source": [
    "df3_re_t = pd.DataFrame(columns=['emotion','value'])\n",
    "\n",
    "lista = [words_religion]\n",
    "lista2 = ['religion']\n",
    "\n",
    "\n",
    "df3_word = df3[df3['quotation'].str.contains([l for l in lista][0])]\n",
    "count3 = len(df3_word)\n",
    "n = len(df_fox)\n",
    "\n",
    "for quotation in df3_word['quotation']:\n",
    "    \n",
    "    di=te.get_emotion(quotation)\n",
    "    fear=di.get('Fear')\n",
    "    happy=di.get('Happy')\n",
    "    angry=di.get('Angry')\n",
    "    surprise=di.get('Surprise')\n",
    "    sad=di.get('Sad')\n",
    "    \n",
    "    newr = pd.Series(data = {'emotion': \"fear\", 'value': fear}, name = 'x')\n",
    "    df3_re_t = df3_re_t.append(newr, ignore_index=True)\n",
    "    \n",
    "    newr = pd.Series(data = {'emotion': \"happy\", 'value': happy}, name = 'x')\n",
    "    df3_re_t = df3_re_t.append(newr, ignore_index=True)\n",
    "    \n",
    "    newr = pd.Series(data = {'emotion': \"angry\", 'value': angry}, name = 'x')\n",
    "    df3_re_t = df3_re_t.append(newr, ignore_index=True)\n",
    "    \n",
    "\n",
    "    newr = pd.Series(data = {'emotion': \"surprise\", 'value': surprise}, name = 'x')\n",
    "    df3_re_t = df3_re_t.append(newr, ignore_index=True)\n",
    "    \n",
    "    newr = pd.Series(data = {'emotion': \"sad\", 'value': sad}, name = 'x')\n",
    "    df3_re_t = df3_re_t.append(newr, ignore_index=True)"
   ]
  },
  {
   "cell_type": "code",
   "execution_count": null,
   "metadata": {},
   "outputs": [],
   "source": [
    "sns.violinplot(x = 'emotion', y = \"value\",\n",
    "                    data = df3_re_t, palette=\"muted\")"
   ]
  },
  {
   "cell_type": "code",
   "execution_count": null,
   "metadata": {},
   "outputs": [],
   "source": [
    "#fox means\n",
    "#fox means\n",
    "a = df3_re_t[df3_re_t['emotion']==\"fear\"]['value'].mean()\n",
    "b = df3_re_t[df3_re_t['emotion']==\"happy\"]['value'].mean()\n",
    "c = df3_re_t[df3_re_t['emotion']==\"angry\"]['value'].mean()\n",
    "d = df3_re_t[df3_re_t['emotion']==\"surprise\"]['value'].mean()\n",
    "e = df3_re_t[df3_re_t['emotion']==\"sad\"]['value'].mean()\n",
    "\n",
    "\n",
    "print(\"fear {0}\".format(a))\n",
    "print(\"happy {0}\".format(b))\n",
    "print(\"angry {0}\".format(c))\n",
    "print(\"surprise {0}\".format(d))\n",
    "print(\"sad {0}\".format(e))"
   ]
  },
  {
   "cell_type": "code",
   "execution_count": null,
   "metadata": {},
   "outputs": [],
   "source": [
    "lst = [df3_re_t]\n",
    "del lst "
   ]
  },
  {
   "cell_type": "markdown",
   "metadata": {},
   "source": [
    "### Racisme"
   ]
  },
  {
   "cell_type": "code",
   "execution_count": null,
   "metadata": {},
   "outputs": [],
   "source": [
    "df3_ra_t = pd.DataFrame(columns=['emotion','value'])\n",
    "\n",
    "lista = [words_racism]\n",
    "lista2 = ['racism']\n",
    "\n",
    "\n",
    "df3_word = df3[df3['quotation'].str.contains([l for l in lista][0])]\n",
    "count3 = len(df3_word)\n",
    "n = len(df_fox)\n",
    "\n",
    "for quotation in df3_word['quotation']:\n",
    "    \n",
    "    di=te.get_emotion(quotation)\n",
    "    fear=di.get('Fear')\n",
    "    happy=di.get('Happy')\n",
    "    angry=di.get('Angry')\n",
    "    surprise=di.get('Surprise')\n",
    "    sad=di.get('Sad')\n",
    "    \n",
    "    newr = pd.Series(data = {'emotion': \"fear\", 'value': fear}, name = 'x')\n",
    "    df3_ra_t = df3_ra_t.append(newr, ignore_index=True)\n",
    "    \n",
    "    newr = pd.Series(data = {'emotion': \"happy\", 'value': happy}, name = 'x')\n",
    "    df3_ra_t = df3_ra_t.append(newr, ignore_index=True)\n",
    "    \n",
    "    newr = pd.Series(data = {'emotion': \"angry\", 'value': angry}, name = 'x')\n",
    "    df3_ra_t = df3_ra_t.append(newr, ignore_index=True)\n",
    "    \n",
    "\n",
    "    newr = pd.Series(data = {'emotion': \"surprise\", 'value': surprise}, name = 'x')\n",
    "    df3_ra_t = df3_ra_t.append(newr, ignore_index=True)\n",
    "    \n",
    "    newr = pd.Series(data = {'emotion': \"sad\", 'value': sad}, name = 'x')\n",
    "    df3_ra_t = df3_ra_t.append(newr, ignore_index=True)"
   ]
  },
  {
   "cell_type": "code",
   "execution_count": null,
   "metadata": {},
   "outputs": [],
   "source": [
    "sns.violinplot(x = 'emotion', y = \"value\",\n",
    "                    data=df3_ra_t, palette=\"muted\")"
   ]
  },
  {
   "cell_type": "code",
   "execution_count": null,
   "metadata": {},
   "outputs": [],
   "source": [
    "#fox means\n",
    "a = df3_ra_t[df3_ra_t['emotion']==\"fear\"]['value'].mean()\n",
    "b = df3_ra_t[df3_ra_t['emotion']==\"happy\"]['value'].mean()\n",
    "c = df3_ra_t[df3_ra_t['emotion']==\"angry\"]['value'].mean()\n",
    "d = df3_ra_t[df3_ra_t['emotion']==\"surprise\"]['value'].mean()\n",
    "e = df3_ra_t[df3_ra_t['emotion']==\"sad\"]['value'].mean()\n",
    "\n",
    "\n",
    "print(\"fear {0}\".format(a))\n",
    "print(\"happy {0}\".format(b))\n",
    "print(\"angry {0}\".format(c))\n",
    "print(\"surprise {0}\".format(d))\n",
    "print(\"sad {0}\".format(e))"
   ]
  },
  {
   "cell_type": "markdown",
   "metadata": {},
   "source": [
    "## NLTK"
   ]
  },
  {
   "cell_type": "code",
   "execution_count": null,
   "metadata": {},
   "outputs": [],
   "source": [
    "sia = SentimentIntensityAnalyzer()"
   ]
  },
  {
   "cell_type": "markdown",
   "metadata": {},
   "source": [
    "### Immigration"
   ]
  },
  {
   "cell_type": "code",
   "execution_count": null,
   "metadata": {},
   "outputs": [],
   "source": [
    "df3_immi_n = pd.DataFrame(columns=['emotion','value'])\n",
    "\n",
    "lista = [words_immigration]\n",
    "lista2 = ['immigration']\n",
    "\n",
    "\n",
    "df3_word = df3[df3['quotation'].str.contains([l for l in lista][0])]\n",
    "count3 = len(df3_word)\n",
    "n = len(df_fox)\n",
    "\n",
    "for quotation in df3_word['quotation']:\n",
    "    \n",
    "    result = sia.polarity_scores(quotation)\n",
    "    pos = result[\"pos\"]\n",
    "    neg = result[\"neg\"]\n",
    "    \n",
    "    newr = pd.Series(data = {'emotion': \"positive\", 'value': pos}, name = 'x')\n",
    "    df3_immi_n = df3_immi_n.append(newr, ignore_index=True)\n",
    "    \n",
    "    newr = pd.Series(data = {'emotion': \"negative\", 'value': neg}, name = 'x')\n",
    "    df3_immi_n = df3_immi_n.append(newr, ignore_index=True)"
   ]
  },
  {
   "cell_type": "code",
   "execution_count": null,
   "metadata": {},
   "outputs": [],
   "source": [
    "sns.violinplot(x = 'emotion', y = \"value\",\n",
    "                    data = df3_immi_n, palette=\"muted\")"
   ]
  },
  {
   "cell_type": "code",
   "execution_count": null,
   "metadata": {},
   "outputs": [],
   "source": [
    "a = df3_immi_n[df3_immi_n['emotion']==\"positive\"]['value'].mean()\n",
    "b = df3_immi_n[df3_immi_n['emotion']==\"negative\"]['value'].mean()\n",
    "\n",
    "print(\"positive {0}\".format(a))\n",
    "print(\"negative {0}\".format(b))"
   ]
  },
  {
   "cell_type": "code",
   "execution_count": null,
   "metadata": {},
   "outputs": [],
   "source": [
    "lst = [df3_immi_n]\n",
    "del lst     "
   ]
  },
  {
   "cell_type": "markdown",
   "metadata": {},
   "source": [
    "### Terrorism"
   ]
  },
  {
   "cell_type": "code",
   "execution_count": null,
   "metadata": {},
   "outputs": [],
   "source": [
    "df3_te_n = pd.DataFrame(columns=['emotion','value'])\n",
    "\n",
    "lista = [words_immigration]\n",
    "lista2 = ['immigration']\n",
    "\n",
    "\n",
    "df3_word = df3[df3['quotation'].str.contains([l for l in lista][0])]\n",
    "count3 = len(df3_word)\n",
    "n = len(df_fox)\n",
    "\n",
    "for quotation in df3_word['quotation']:\n",
    "    \n",
    "    result = sia.polarity_scores(quotation)\n",
    "    pos = result[\"pos\"]\n",
    "    neg = result[\"neg\"]\n",
    "    \n",
    "    newr = pd.Series(data = {'emotion': \"positive\", 'value': pos}, name = 'x')\n",
    "    df3_te_n = df3_te_n.append(newr, ignore_index=True)\n",
    "    \n",
    "    newr = pd.Series(data = {'emotion': \"negative\", 'value': neg}, name = 'x')\n",
    "    df3_te_n = df3_te_n.append(newr, ignore_index=True)"
   ]
  },
  {
   "cell_type": "code",
   "execution_count": null,
   "metadata": {},
   "outputs": [],
   "source": [
    "sns.violinplot(x = 'emotion', y = \"value\",\n",
    "                    data = df3_te_n, palette=\"muted\")"
   ]
  },
  {
   "cell_type": "code",
   "execution_count": null,
   "metadata": {},
   "outputs": [],
   "source": [
    "a = df3_te_n[df3_te_n['emotion']==\"positive\"]['value'].mean()\n",
    "b = df3_te_n[df3_te_n['emotion']==\"negative\"]['value'].mean()\n",
    "\n",
    "print(\"positive {0}\".format(a))\n",
    "print(\"negative {0}\".format(b))"
   ]
  },
  {
   "cell_type": "code",
   "execution_count": null,
   "metadata": {},
   "outputs": [],
   "source": [
    "lst = [df3_te_n]\n",
    "del lst  "
   ]
  },
  {
   "cell_type": "markdown",
   "metadata": {},
   "source": [
    "### Climate change"
   ]
  },
  {
   "cell_type": "code",
   "execution_count": null,
   "metadata": {},
   "outputs": [],
   "source": [
    "df3_cc_n = pd.DataFrame(columns=['emotion','value'])\n",
    "\n",
    "lista = [words_immigration]\n",
    "lista2 = ['immigration']\n",
    "\n",
    "\n",
    "df3_word = df3[df3['quotation'].str.contains([l for l in lista][0])]\n",
    "count3 = len(df3_word)\n",
    "n = len(df_fox)\n",
    "\n",
    "for quotation in df3_word['quotation']:\n",
    "    \n",
    "    result = sia.polarity_scores(quotation)\n",
    "    pos = result[\"pos\"]\n",
    "    neg = result[\"neg\"]\n",
    "    \n",
    "    newr = pd.Series(data = {'emotion': \"positive\", 'value': pos}, name = 'x')\n",
    "    df3_cc_n = df3_cc_n.append(newr, ignore_index=True)\n",
    "    \n",
    "    newr = pd.Series(data = {'emotion': \"negative\", 'value': neg}, name = 'x')\n",
    "    df3_cc_n = df3_cc_n.append(newr, ignore_index=True)"
   ]
  },
  {
   "cell_type": "code",
   "execution_count": null,
   "metadata": {},
   "outputs": [],
   "source": [
    "sns.violinplot(x = 'emotion', y = \"value\",\n",
    "                    data=df3_cc_n, palette=\"muted\")"
   ]
  },
  {
   "cell_type": "code",
   "execution_count": null,
   "metadata": {},
   "outputs": [],
   "source": [
    "a = df3_cc_n[df3_cc_n['emotion']==\"positive\"]['value'].mean()\n",
    "b = df3_cc_n[df3_cc_n['emotion']==\"negative\"]['value'].mean()\n",
    "\n",
    "print(\"positive {0}\".format(a))\n",
    "print(\"negative {0}\".format(b))"
   ]
  },
  {
   "cell_type": "code",
   "execution_count": null,
   "metadata": {},
   "outputs": [],
   "source": [
    "lst = [df3_cc_n]\n",
    "del lst  "
   ]
  },
  {
   "cell_type": "markdown",
   "metadata": {},
   "source": [
    "### Abortion"
   ]
  },
  {
   "cell_type": "code",
   "execution_count": null,
   "metadata": {},
   "outputs": [],
   "source": [
    "df3_ab_n = pd.DataFrame(columns=['emotion','value'])\n",
    "\n",
    "lista = [words_immigration]\n",
    "lista2 = ['immigration']\n",
    "\n",
    "\n",
    "df3_word = df3[df3['quotation'].str.contains([l for l in lista][0])]\n",
    "count3 = len(df3_word)\n",
    "n = len(df_fox)\n",
    "\n",
    "for quotation in df3_word['quotation']:\n",
    "    \n",
    "    result = sia.polarity_scores(quotation)\n",
    "    pos = result[\"pos\"]\n",
    "    neg = result[\"neg\"]\n",
    "    \n",
    "    newr = pd.Series(data = {'emotion': \"positive\", 'value': pos}, name = 'x')\n",
    "    df3_ab_n = df3_ab_n.append(newr, ignore_index=True)\n",
    "    \n",
    "    newr = pd.Series(data = {'emotion': \"negative\", 'value': neg}, name = 'x')\n",
    "    df3_ab_n = df3_ab_n.append(newr, ignore_index=True)"
   ]
  },
  {
   "cell_type": "code",
   "execution_count": null,
   "metadata": {},
   "outputs": [],
   "source": [
    "sns.violinplot(x = 'emotion', y = \"value\",\n",
    "                    data=df3_ab_n, palette=\"muted\")"
   ]
  },
  {
   "cell_type": "code",
   "execution_count": null,
   "metadata": {},
   "outputs": [],
   "source": [
    "a = df3_ab_n[df3_ab_n['emotion']==\"positive\"]['value'].mean()\n",
    "b = df3_ab_n[df3_ab_n['emotion']==\"negative\"]['value'].mean()\n",
    "\n",
    "print(\"positive {0}\".format(a))\n",
    "print(\"negative {0}\".format(b))"
   ]
  },
  {
   "cell_type": "code",
   "execution_count": null,
   "metadata": {},
   "outputs": [],
   "source": [
    "lst = [df3_ab_n]\n",
    "del lst  "
   ]
  },
  {
   "cell_type": "markdown",
   "metadata": {},
   "source": [
    "### Religion"
   ]
  },
  {
   "cell_type": "code",
   "execution_count": null,
   "metadata": {},
   "outputs": [],
   "source": [
    "df3_re_n = pd.DataFrame(columns=['emotion','value'])\n",
    "\n",
    "lista = [words_immigration]\n",
    "lista2 = ['immigration']\n",
    "\n",
    "\n",
    "df3_word = df3[df3['quotation'].str.contains([l for l in lista][0])]\n",
    "count3 = len(df3_word)\n",
    "n = len(df_fox)\n",
    "\n",
    "for quotation in df3_word['quotation']:\n",
    "    \n",
    "    result = sia.polarity_scores(quotation)\n",
    "    pos = result[\"pos\"]\n",
    "    neg = result[\"neg\"]\n",
    "    \n",
    "    newr = pd.Series(data = {'emotion': \"positive\", 'value': pos}, name = 'x')\n",
    "    df3_re_n = df3_re_n.append(newr, ignore_index=True)\n",
    "    \n",
    "    newr = pd.Series(data = {'emotion': \"negative\", 'value': neg}, name = 'x')\n",
    "    df3_re_n = df3_re_n.append(newr, ignore_index=True)"
   ]
  },
  {
   "cell_type": "code",
   "execution_count": null,
   "metadata": {},
   "outputs": [],
   "source": [
    "sns.violinplot(x = 'emotion', y = \"value\",\n",
    "                    data=df3_re_n, palette=\"muted\")"
   ]
  },
  {
   "cell_type": "code",
   "execution_count": null,
   "metadata": {},
   "outputs": [],
   "source": [
    "a = df3_re_n[df3_re_n['emotion']==\"positive\"]['value'].mean()\n",
    "b = df3_re_n[df3_re_n['emotion']==\"negative\"]['value'].mean()\n",
    "\n",
    "print(\"positive {0}\".format(a))\n",
    "print(\"negative {0}\".format(b))"
   ]
  },
  {
   "cell_type": "code",
   "execution_count": null,
   "metadata": {},
   "outputs": [],
   "source": [
    "lst = [df3_re_n]\n",
    "del lst  "
   ]
  },
  {
   "cell_type": "markdown",
   "metadata": {},
   "source": [
    "### Racisme"
   ]
  },
  {
   "cell_type": "code",
   "execution_count": null,
   "metadata": {},
   "outputs": [],
   "source": [
    "df3_ra_n = pd.DataFrame(columns=['emotion','value'])\n",
    "\n",
    "lista = [words_immigration]\n",
    "lista2 = ['immigration']\n",
    "\n",
    "\n",
    "df3_word = df3[df3['quotation'].str.contains([l for l in lista][0])]\n",
    "count3 = len(df3_word)\n",
    "n = len(df_fox)\n",
    "\n",
    "for quotation in df3_word['quotation']:\n",
    "    \n",
    "    result = sia.polarity_scores(quotation)\n",
    "    pos = result[\"pos\"]\n",
    "    neg = result[\"neg\"]\n",
    "    \n",
    "    newr = pd.Series(data = {'emotion': \"positive\", 'value': pos}, name = 'x')\n",
    "    df3_ra_n = df3_ra_n.append(newr, ignore_index=True)\n",
    "    \n",
    "    newr = pd.Series(data = {'emotion': \"negative\", 'value': neg}, name = 'x')\n",
    "    df3_ra_n = df3_ra_n.append(newr, ignore_index=True)"
   ]
  },
  {
   "cell_type": "code",
   "execution_count": null,
   "metadata": {},
   "outputs": [],
   "source": [
    "sns.violinplot(x = 'emotion', y = \"value\",\n",
    "                    data=df3_ra_n, palette=\"muted\")"
   ]
  },
  {
   "cell_type": "code",
   "execution_count": null,
   "metadata": {},
   "outputs": [],
   "source": [
    "a = df3_ra_n[df3_ra_n['emotion']==\"positive\"]['value'].mean()\n",
    "b = df3_ra_n[df3_ra_n['emotion']==\"negative\"]['value'].mean()\n",
    "\n",
    "print(\"positive {0}\".format(a))\n",
    "print(\"negative {0}\".format(b))"
   ]
  }
 ],
 "metadata": {
  "kernelspec": {
   "display_name": "Python 3",
   "language": "python",
   "name": "python3"
  },
  "language_info": {
   "codemirror_mode": {
    "name": "ipython",
    "version": 3
   },
   "file_extension": ".py",
   "mimetype": "text/x-python",
   "name": "python",
   "nbconvert_exporter": "python",
   "pygments_lexer": "ipython3",
   "version": "3.7.4"
  }
 },
 "nbformat": 4,
 "nbformat_minor": 2
}
